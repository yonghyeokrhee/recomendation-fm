{
 "cells": [
  {
   "cell_type": "code",
   "execution_count": 286,
   "id": "e57839e2",
   "metadata": {},
   "outputs": [],
   "source": [
    "def sigmoid(z):\n",
    "    return 1.0 / (1.0 + np.exp(-z))\n",
    " \n",
    "'''\n",
    "yHat represents the predicted value / probability value calculated as output of hypothesis / sigmoid function\n",
    " \n",
    "y represents the actual label\n",
    "'''\n",
    "def cross_entropy_loss(yHat, y):\n",
    "    if y == 1:\n",
    "        return -np.log(yHat)\n",
    "    else:\n",
    "        return -np.log(1 - yHat)"
   ]
  },
  {
   "cell_type": "code",
   "execution_count": 298,
   "id": "e320d8a6",
   "metadata": {},
   "outputs": [
    {
     "data": {
      "text/plain": [
       "6.907755278982136"
      ]
     },
     "execution_count": 298,
     "metadata": {},
     "output_type": "execute_result"
    }
   ],
   "source": [
    "cross_entropy_loss(0.999,0)"
   ]
  },
  {
   "cell_type": "code",
   "execution_count": 14,
   "id": "e7ea4d68",
   "metadata": {},
   "outputs": [],
   "source": [
    "import sagemaker\n",
    "import sagemaker.amazon.common as smac\n",
    "from sagemaker import get_execution_role\n",
    "from sagemaker.predictor import json_deserializer\n",
    "from sagemaker.amazon.amazon_estimator import get_image_uri\n",
    "import numpy as np\n",
    "from scipy.sparse import lil_matrix\n",
    "import pandas as pd\n",
    "import boto3, io, os"
   ]
  },
  {
   "cell_type": "code",
   "execution_count": 4,
   "id": "f54a099d",
   "metadata": {},
   "outputs": [],
   "source": [
    "from tqdm import tqdm"
   ]
  },
  {
   "cell_type": "code",
   "execution_count": 75,
   "id": "8ebe30c0",
   "metadata": {},
   "outputs": [],
   "source": [
    "transactions_df = pd.read_csv('transactions_sm.csv')\n",
    "customers_df = pd.read_csv('customers_sm.csv')\n",
    "articles_df = pd.read_csv('articles_sm.csv')"
   ]
  },
  {
   "cell_type": "markdown",
   "id": "08d08590",
   "metadata": {},
   "source": [
    "### 필요함 함수 목록"
   ]
  },
  {
   "cell_type": "code",
   "execution_count": 123,
   "id": "9bb3e1e0",
   "metadata": {},
   "outputs": [],
   "source": [
    "def get_most_bought_articles(data, num_articles=100):\n",
    "    # Create dataframe that contains the number of times each article has been bought\n",
    "    articles_counts = data[['article_id', 't_dat']].groupby('article_id').count().reset_index().rename(columns={'t_dat': 'count'})\n",
    "    articles_counts = articles_counts.sort_values(by='count', ascending=False)\n",
    "        \n",
    "    most_bought_articles = articles_counts.loc[articles_counts['count'] >= num_articles]['article_id'].values\n",
    "    \n",
    "    return most_bought_articles"
   ]
  },
  {
   "cell_type": "code",
   "execution_count": 16,
   "id": "94205d7d",
   "metadata": {},
   "outputs": [],
   "source": [
    "def preprocess_customers_df(customers_df, transactions_df):\n",
    "    # Active 상태와 클럽 멤버 상태에 대하여 모두 Boolean처리\n",
    "    customers_df[['Active']] = customers_df[['Active']].fillna(value=0) \n",
    "    customers_df['club_member_status'] = customers_df['club_member_status'] == 'ACTIVE'\n",
    "\n",
    "    # 특정한 우편 번호에 대해서는 Binary Encoding을 수행한다.\n",
    "    customers_df['common_postal_code'] = customers_df['postal_code'] == '2c29ae653a9282cce4151bd87643c907644e09541abc28ae87dea0d1f6603b1c'\n",
    "\n",
    "    # 나이가 없는 user에 대하여는 평균 값을 사용하여 채운다.\n",
    "    customers_df[['age']] = customers_df[['age']].fillna(value=customers_df['age'].mean())\n",
    "\n",
    "    # 사용하지 않는 컬럼을 drop 한다(FN, 수신주기, 우편 번호).\n",
    "    customers_df = customers_df.drop(['FN', 'fashion_news_frequency', 'postal_code'], axis=1)\n",
    "\n",
    "    # Replace boolean with 1/0\n",
    "    customers_df['club_member_status'] = customers_df['club_member_status'].astype(int)\n",
    "    customers_df['common_postal_code'] = customers_df['common_postal_code'].astype(int)\n",
    "    # 이너 조인 수행하여 구매 이력이 있는 고객만 남겨두었다\n",
    "    customers_df = customers_df.merge(transactions_df[['customer_id', 'article_id']], on=\"customer_id\")\n",
    "    \n",
    "    return customers_df"
   ]
  },
  {
   "cell_type": "markdown",
   "id": "0ca07d26",
   "metadata": {},
   "source": [
    "- 전체 고객 수\n",
    "- training set의 unique 한 구매 고객 수"
   ]
  },
  {
   "cell_type": "code",
   "execution_count": 146,
   "id": "03571396",
   "metadata": {},
   "outputs": [
    {
     "name": "stdout",
     "output_type": "stream",
     "text": [
      "1371980\n",
      "1371980\n"
     ]
    }
   ],
   "source": [
    "print(len(customers_df.customer_id))\n",
    "print(len(customers_df.customer_id.unique()))"
   ]
  },
  {
   "cell_type": "markdown",
   "id": "cef0f532",
   "metadata": {},
   "source": [
    "- training 기간 동안 transaction 이력이 있는 구매 고객"
   ]
  },
  {
   "cell_type": "code",
   "execution_count": 148,
   "id": "557e62bf",
   "metadata": {},
   "outputs": [
    {
     "data": {
      "text/plain": [
       "445377"
      ]
     },
     "execution_count": 148,
     "metadata": {},
     "output_type": "execute_result"
    }
   ],
   "source": [
    "len(transactions_df.customer_id.unique())"
   ]
  },
  {
   "cell_type": "markdown",
   "id": "91c0022c",
   "metadata": {},
   "source": [
    "- validation data 생성하기\n",
    " - 공정한 test를 위해서 구매 이력이 있는 user에 대하여만 validation set을 구성한다."
   ]
  },
  {
   "cell_type": "code",
   "execution_count": 126,
   "id": "d0e917b1",
   "metadata": {},
   "outputs": [],
   "source": [
    "most_bought_articles = get_most_bought_articles(transactions_df)"
   ]
  },
  {
   "cell_type": "code",
   "execution_count": 171,
   "id": "ae3e953f",
   "metadata": {},
   "outputs": [],
   "source": [
    "val_df = pd.read_csv('validation_sm.csv')\n",
    "\n",
    "val_df = val_df[val_df.customer_id.isin(transactions_df.customer_id)]\n",
    "#val_df = val_df.loc[val_df.article_id.isin(most_bought_articles)]\n",
    "val_df = val_df[['customer_id', 'article_id']]\n",
    "val_df['bought'] = np.ones(val_df.shape[0])"
   ]
  },
  {
   "cell_type": "markdown",
   "id": "43800030",
   "metadata": {},
   "source": [
    "- 학습 대상이며 encoding을 해야할 고객 명단"
   ]
  },
  {
   "cell_type": "code",
   "execution_count": 159,
   "id": "d9eeba2c",
   "metadata": {},
   "outputs": [
    {
     "name": "stdout",
     "output_type": "stream",
     "text": [
      "445377\n"
     ]
    }
   ],
   "source": [
    "customer_ids = transactions_df.customer_id.unique()\n",
    "num_customers = len(customer_ids)\n",
    "print(num_customers)"
   ]
  },
  {
   "cell_type": "markdown",
   "id": "e9f674f9",
   "metadata": {},
   "source": [
    "- encoding을 해야할 상품 명단 (training 및 validation space에 포함된 모든 article에 대하여 encoding 한다)"
   ]
  },
  {
   "cell_type": "code",
   "execution_count": 172,
   "id": "dd0102fa",
   "metadata": {},
   "outputs": [
    {
     "name": "stdout",
     "output_type": "stream",
     "text": [
      "17394\n"
     ]
    }
   ],
   "source": [
    "article_ids = list(set(transactions_df.article_id.unique()).union(set(val_df.article_id.unique())))\n",
    "num_articles = len(article_ids)\n",
    "print(num_articles)"
   ]
  },
  {
   "cell_type": "code",
   "execution_count": 173,
   "id": "96a3a2f0",
   "metadata": {},
   "outputs": [],
   "source": [
    "# Create dictionaries with mapping keys\n",
    "articles_id_to_idx = dict(zip(article_ids, range(num_articles)))\n",
    "customers_id_to_idx = dict(zip(customer_ids, range(num_customers)))"
   ]
  },
  {
   "cell_type": "code",
   "execution_count": 174,
   "id": "b2696d97",
   "metadata": {},
   "outputs": [],
   "source": [
    "train_df = transactions_df.copy()\n",
    "train_df = train_df[['customer_id', 'article_id']]\n",
    "\n",
    "num_transactions = train_df.shape[0]\n",
    "\n",
    "train_df['bought'] = np.ones(num_transactions)"
   ]
  },
  {
   "cell_type": "markdown",
   "id": "fcc40ea4",
   "metadata": {},
   "source": [
    "- negative sampling"
   ]
  },
  {
   "cell_type": "code",
   "execution_count": 175,
   "id": "d632dd8b",
   "metadata": {},
   "outputs": [],
   "source": [
    "np.random.seed(47)\n",
    "\n",
    "negative_data = pd.DataFrame(\n",
    "    {\n",
    "        'article_id': np.random.permutation(train_df.article_id.values),\n",
    "        'customer_id': train_df.customer_id.values,\n",
    "        'bought': np.zeros(num_transactions)\n",
    "    }\n",
    ")\n",
    "\n",
    "train_df = pd.concat([train_df, negative_data])\n",
    "train_df = train_df.sample(frac=1).reset_index(drop=True)"
   ]
  },
  {
   "cell_type": "markdown",
   "id": "36630b56",
   "metadata": {},
   "source": [
    "- encoding 해주기\n",
    " - training encoding\n",
    " - validation encoding\n",
    " - customer encoding"
   ]
  },
  {
   "cell_type": "code",
   "execution_count": 176,
   "id": "e225c0bc",
   "metadata": {},
   "outputs": [],
   "source": [
    "train_df[\"customer_id\"] = train_df[\"customer_id\"].map(\n",
    "        customers_id_to_idx\n",
    "    )\n",
    "train_df[\"article_id\"] = train_df[\"article_id\"].map(\n",
    "    articles_id_to_idx\n",
    ")"
   ]
  },
  {
   "cell_type": "code",
   "execution_count": 177,
   "id": "d0514b77",
   "metadata": {},
   "outputs": [],
   "source": [
    "val_df[\"customer_id\"] = val_df[\"customer_id\"].map(\n",
    "        customers_id_to_idx\n",
    "    )\n",
    "val_df[\"article_id\"] = val_df[\"article_id\"].map(\n",
    "    articles_id_to_idx\n",
    ")"
   ]
  },
  {
   "cell_type": "code",
   "execution_count": 191,
   "id": "567697b3",
   "metadata": {},
   "outputs": [],
   "source": [
    "customers_df['customer_id'] = customers_df[\"customer_id\"].map(\n",
    "        customers_id_to_idx\n",
    "    )"
   ]
  },
  {
   "cell_type": "code",
   "execution_count": 200,
   "id": "c3fe1ead",
   "metadata": {},
   "outputs": [],
   "source": [
    "customers_df.dropna(subset=['customer_id'],inplace=True)"
   ]
  },
  {
   "cell_type": "markdown",
   "id": "981cf58c",
   "metadata": {},
   "source": [
    "## make a train and validation"
   ]
  },
  {
   "cell_type": "markdown",
   "id": "d1a96967",
   "metadata": {},
   "source": [
    "- 전체 feature의 개수"
   ]
  },
  {
   "cell_type": "code",
   "execution_count": 179,
   "id": "e7eaf861",
   "metadata": {},
   "outputs": [
    {
     "name": "stdout",
     "output_type": "stream",
     "text": [
      "전체 feature의 개수: 462775\n",
      "전체 training data point: 5120954\n",
      "전체 test data point: 178001\n"
     ]
    }
   ],
   "source": [
    "nb_features=num_customers+num_articles + 4 # 추가된 numeric, binary features\n",
    "nb_train=len(train_df.index)\n",
    "nb_test=len(val_df.index)\n",
    "print(f\"전체 feature의 개수: {nb_features}\")\n",
    "print(f\"전체 training data point: {nb_train}\")\n",
    "print(f\"전체 test data point: {nb_test}\")"
   ]
  },
  {
   "cell_type": "code",
   "execution_count": 185,
   "id": "a29705fc",
   "metadata": {},
   "outputs": [],
   "source": [
    "def loadDataset(df, lines, columns,customers_df):\n",
    "    # categorical feature는 one-hot encoding으로 numerical, binary feature들은 그대로 사용\n",
    "    X = lil_matrix((lines, columns)).astype('float32')\n",
    "    # Y 레이블은 np.numpy로 따로 저장\n",
    "    Y = []\n",
    "    # feature로 사용하고자 하는 customers의 데이터를\n",
    "    customers_df = preprocess_customers_df(customers_df,df)\n",
    "    line=0\n",
    "    for index, row in tqdm(df.iterrows(),total=len(df), desc=\"Processing rows\"):\n",
    "            X[line,row['customer_id']] = 1\n",
    "            X[line, num_customers+row['article_id']] = 1\n",
    "            X[line, num_customers + num_articles] = customers_df['age'].iloc[line]\n",
    "            X[line, num_customers + num_articles+1] = customers_df['Active'].iloc[line]\n",
    "            X[line, num_customers + num_articles+2] = customers_df['club_member_status'].iloc[line]\n",
    "            X[line, num_customers + num_articles+3] = customers_df['common_postal_code'].iloc[line]\n",
    "            \n",
    "            Y.append(row['bought'])\n",
    "            line=line+1\n",
    "            #assert line != 10\n",
    "    Y=np.array(Y).astype('float32')            \n",
    "    return X,Y"
   ]
  },
  {
   "cell_type": "code",
   "execution_count": 202,
   "id": "11a27500",
   "metadata": {},
   "outputs": [
    {
     "name": "stderr",
     "output_type": "stream",
     "text": [
      "Processing rows: 100%|██████████| 5120954/5120954 [18:21<00:00, 4647.48it/s]\n"
     ]
    }
   ],
   "source": [
    "X_train, Y_train = loadDataset(train_df, nb_train, nb_features,customers_df)"
   ]
  },
  {
   "cell_type": "code",
   "execution_count": 201,
   "id": "aad1e1ee",
   "metadata": {},
   "outputs": [
    {
     "name": "stderr",
     "output_type": "stream",
     "text": [
      "Processing rows: 100%|██████████| 178001/178001 [00:38<00:00, 4630.73it/s]\n"
     ]
    }
   ],
   "source": [
    "X_test, Y_test = loadDataset(val_df, nb_test, nb_features,customers_df)"
   ]
  },
  {
   "cell_type": "code",
   "execution_count": 20,
   "id": "c17d024a",
   "metadata": {},
   "outputs": [],
   "source": [
    "bucket = 'kanto.public'\n",
    "prefix = 'inflab-extend'\n",
    "\n",
    "if bucket.strip() == '':\n",
    "    raise RuntimeError(\"bucket name is empty.\")\n",
    "\n",
    "train_key      = 'train.protobuf'\n",
    "train_prefix   = '{}/{}'.format(prefix, 'train')\n",
    "\n",
    "test_key       = 'test.protobuf'\n",
    "test_prefix    = '{}/{}'.format(prefix, 'test')\n",
    "\n",
    "output_prefix  = 's3://{}/{}/output'.format(bucket, prefix)"
   ]
  },
  {
   "cell_type": "code",
   "execution_count": 18,
   "id": "c2fb1612",
   "metadata": {},
   "outputs": [
    {
     "name": "stdout",
     "output_type": "stream",
     "text": [
      "CPU times: user 3 µs, sys: 1 µs, total: 4 µs\n",
      "Wall time: 6.91 µs\n"
     ]
    }
   ],
   "source": [
    "%%time\n",
    "def writeDatasetToProtobuf(X, bucket, prefix, key, d_type, Y=None):\n",
    "    buf = io.BytesIO()\n",
    "    if d_type == \"sparse\":\n",
    "        smac.write_spmatrix_to_sparse_tensor(buf, X, labels=Y)\n",
    "    else:\n",
    "        smac.write_numpy_to_dense_tensor(buf, X, labels=Y)\n",
    "        \n",
    "    buf.seek(0)\n",
    "    obj = '{}/{}'.format(prefix, key)\n",
    "    boto3.resource('s3').Bucket(bucket).Object(obj).upload_fileobj(buf)\n",
    "    return 's3://{}/{}'.format(bucket,obj)\n",
    "    "
   ]
  },
  {
   "cell_type": "code",
   "execution_count": 207,
   "id": "c0d8fc4b",
   "metadata": {},
   "outputs": [
    {
     "name": "stderr",
     "output_type": "stream",
     "text": [
      "/home/ec2-user/anaconda3/envs/python3/lib/python3.6/site-packages/boto3/compat.py:88: PythonDeprecationWarning: Boto3 will no longer support Python 3.6 starting May 30, 2022. To continue receiving service updates, bug fixes, and security updates please upgrade to Python 3.7 or later. More information can be found here: https://aws.amazon.com/blogs/developer/python-support-policy-updates-for-aws-sdks-and-tools/\n",
      "  warnings.warn(warning, PythonDeprecationWarning)\n"
     ]
    },
    {
     "name": "stdout",
     "output_type": "stream",
     "text": [
      "Training data S3 path:  s3://kanto.public/inflab-extend/train/train.protobuf\n",
      "Test data S3 path:  s3://kanto.public/inflab-extend/test/test.protobuf\n",
      "FM model output S3 path: s3://kanto.public/inflab-extend/output\n",
      "CPU times: user 7min 2s, sys: 18.9 s, total: 7min 21s\n",
      "Wall time: 6min 57s\n"
     ]
    }
   ],
   "source": [
    "fm_train_data_path = writeDatasetToProtobuf(X_train, bucket, train_prefix, train_key, \"sparse\", Y_train)    \n",
    "fm_test_data_path  = writeDatasetToProtobuf(X_test, bucket, test_prefix, test_key, \"sparse\", Y_test)    \n",
    "  \n",
    "print(\"Training data S3 path: \",fm_train_data_path)\n",
    "print(\"Test data S3 path: \",fm_test_data_path)\n",
    "print(\"FM model output S3 path: {}\".format(output_prefix))"
   ]
  },
  {
   "cell_type": "code",
   "execution_count": 208,
   "id": "4484f03a",
   "metadata": {},
   "outputs": [
    {
     "name": "stderr",
     "output_type": "stream",
     "text": [
      "WARNING:sagemaker.deprecations:The method get_image_uri has been renamed in sagemaker>=2.\n",
      "See: https://sagemaker.readthedocs.io/en/stable/v2.html for details.\n",
      "WARNING:sagemaker.deprecations:train_instance_count has been renamed in sagemaker>=2.\n",
      "See: https://sagemaker.readthedocs.io/en/stable/v2.html for details.\n",
      "WARNING:sagemaker.deprecations:train_instance_type has been renamed in sagemaker>=2.\n",
      "See: https://sagemaker.readthedocs.io/en/stable/v2.html for details.\n"
     ]
    }
   ],
   "source": [
    "#instance_type='ml.m5.2xlarge'\n",
    "instance_type='ml.c5.4xlarge'\n",
    "fm = sagemaker.estimator.Estimator(get_image_uri(boto3.Session().region_name, \"factorization-machines\"),\n",
    "                                   get_execution_role(), \n",
    "                                   train_instance_count=4, \n",
    "                                   train_instance_type=instance_type,\n",
    "                                   output_path=output_prefix,\n",
    "                                   sagemaker_session=sagemaker.Session())\n",
    "\n",
    "fm.set_hyperparameters(feature_dim=nb_features,\n",
    "                      predictor_type='binary_classifier',\n",
    "                      mini_batch_size=1000,\n",
    "                      num_factors=64,\n",
    "                      epochs=100)\n",
    "\n",
    "fm.fit({'train': 's3://kanto.public/inflab-extend/train/train.protobuf', 'test': fm_test_data_path},wait=False)"
   ]
  },
  {
   "cell_type": "code",
   "execution_count": null,
   "id": "493f7747",
   "metadata": {},
   "outputs": [],
   "source": [
    "fm.fit({'train': fm_train_data_path, 'test': fm_test_data_path},wait=False)"
   ]
  },
  {
   "cell_type": "code",
   "execution_count": null,
   "id": "09cf8b4e",
   "metadata": {},
   "outputs": [],
   "source": []
  },
  {
   "cell_type": "markdown",
   "id": "e474bc32",
   "metadata": {},
   "source": [
    "# Build KNN model "
   ]
  },
  {
   "cell_type": "code",
   "execution_count": 2,
   "id": "1586822b",
   "metadata": {},
   "outputs": [
    {
     "name": "stdout",
     "output_type": "stream",
     "text": [
      "Collecting mxnet\n",
      "  Downloading mxnet-1.9.1-py3-none-manylinux2014_x86_64.whl (49.1 MB)\n",
      "     |████████████████████████████████| 49.1 MB 96 kB/s              \n",
      "\u001b[?25hRequirement already satisfied: requests<3,>=2.20.0 in /home/ec2-user/anaconda3/envs/python3/lib/python3.6/site-packages (from mxnet) (2.26.0)\n",
      "Collecting graphviz<0.9.0,>=0.8.1\n",
      "  Downloading graphviz-0.8.4-py2.py3-none-any.whl (16 kB)\n",
      "Requirement already satisfied: numpy<2.0.0,>1.16.0 in /home/ec2-user/anaconda3/envs/python3/lib/python3.6/site-packages (from mxnet) (1.19.5)\n",
      "Requirement already satisfied: idna<4,>=2.5 in /home/ec2-user/anaconda3/envs/python3/lib/python3.6/site-packages (from requests<3,>=2.20.0->mxnet) (3.1)\n",
      "Requirement already satisfied: urllib3<1.27,>=1.21.1 in /home/ec2-user/anaconda3/envs/python3/lib/python3.6/site-packages (from requests<3,>=2.20.0->mxnet) (1.26.8)\n",
      "Requirement already satisfied: charset-normalizer~=2.0.0 in /home/ec2-user/anaconda3/envs/python3/lib/python3.6/site-packages (from requests<3,>=2.20.0->mxnet) (2.0.9)\n",
      "Requirement already satisfied: certifi>=2017.4.17 in /home/ec2-user/anaconda3/envs/python3/lib/python3.6/site-packages (from requests<3,>=2.20.0->mxnet) (2021.5.30)\n",
      "Installing collected packages: graphviz, mxnet\n",
      "Successfully installed graphviz-0.8.4 mxnet-1.9.1\n"
     ]
    }
   ],
   "source": [
    "!pip install mxnet"
   ]
  },
  {
   "cell_type": "code",
   "execution_count": 7,
   "id": "4e3ccfd1",
   "metadata": {},
   "outputs": [
    {
     "data": {
      "text/plain": [
       "0"
      ]
     },
     "execution_count": 7,
     "metadata": {},
     "output_type": "execute_result"
    }
   ],
   "source": [
    "import mxnet as mx\n",
    "import os\n",
    "model_file_name = \"model.tar.gz\"\n",
    "model_full_path = \"s3://kanto.public/inflab-extend/output/factorization-machines-2023-11-29-08-23-16-330/output/model.tar.gz\"\n",
    "#Download FM model \n",
    "os.system(\"aws s3 cp \"+model_full_path+ \" .\")\n",
    "os.system(\"tar xzvf \"+model_file_name)\n",
    "os.system(\"unzip -o model_algo-1\")\n",
    "os.system(\"mv symbol.json model-symbol.json\")\n",
    "os.system(\"mv params model-0000.params\")"
   ]
  },
  {
   "cell_type": "code",
   "execution_count": 8,
   "id": "b8e9bf87",
   "metadata": {},
   "outputs": [],
   "source": [
    "m = mx.module.Module.load('./model', 0, False, label_names=['out_label'])\n",
    "V = m._arg_params['v'].asnumpy()\n",
    "w = m._arg_params['w1_weight'].asnumpy()\n",
    "b = m._arg_params['w0_weight'].asnumpy()"
   ]
  },
  {
   "cell_type": "code",
   "execution_count": 9,
   "id": "31c39bdc",
   "metadata": {},
   "outputs": [
    {
     "data": {
      "text/plain": [
       "(462775, 64)"
      ]
     },
     "execution_count": 9,
     "metadata": {},
     "output_type": "execute_result"
    }
   ],
   "source": [
    "V.shape"
   ]
  },
  {
   "cell_type": "code",
   "execution_count": 10,
   "id": "00764d0e",
   "metadata": {},
   "outputs": [
    {
     "data": {
      "text/plain": [
       "(462775, 1)"
      ]
     },
     "execution_count": 10,
     "metadata": {},
     "output_type": "execute_result"
    }
   ],
   "source": [
    "w.shape"
   ]
  },
  {
   "cell_type": "code",
   "execution_count": 12,
   "id": "5fe3ac9e",
   "metadata": {},
   "outputs": [
    {
     "data": {
      "text/plain": [
       "array([0.04200907], dtype=float32)"
      ]
     },
     "execution_count": 12,
     "metadata": {},
     "output_type": "execute_result"
    }
   ],
   "source": [
    "b"
   ]
  },
  {
   "cell_type": "code",
   "execution_count": 15,
   "id": "80fcc41b",
   "metadata": {},
   "outputs": [],
   "source": [
    "# item latent matrix - concat(V[i], w[i]).  \n",
    "knn_item_matrix = np.concatenate((V[445377:445377+17394], w[445377:445377+17394]), axis=1)\n",
    "knn_train_label = np.arange(17394)\n",
    "\n",
    "#user latent matrix - concat (V[u], 1) \n",
    "ones = np.ones(445377).reshape((445377, 1))\n",
    "knn_user_matrix = np.concatenate((V[:445377], ones), axis=1)"
   ]
  },
  {
   "cell_type": "code",
   "execution_count": 21,
   "id": "3f0c0416",
   "metadata": {},
   "outputs": [
    {
     "name": "stdout",
     "output_type": "stream",
     "text": [
      "KNN train features shape =  (17394, 65)\n"
     ]
    },
    {
     "name": "stderr",
     "output_type": "stream",
     "text": [
      "/home/ec2-user/anaconda3/envs/python3/lib/python3.6/site-packages/boto3/compat.py:88: PythonDeprecationWarning: Boto3 will no longer support Python 3.6 starting May 30, 2022. To continue receiving service updates, bug fixes, and security updates please upgrade to Python 3.7 or later. More information can be found here: https://aws.amazon.com/blogs/developer/python-support-policy-updates-for-aws-sdks-and-tools/\n",
      "  warnings.warn(warning, PythonDeprecationWarning)\n"
     ]
    },
    {
     "name": "stdout",
     "output_type": "stream",
     "text": [
      "uploaded KNN train data: s3://kanto.public/inflab-extend/knn/train.protobuf\n"
     ]
    }
   ],
   "source": [
    "print('KNN train features shape = ', knn_item_matrix.shape)\n",
    "bucket = 'kanto.public'\n",
    "knn_prefix = 'inflab-extend/knn'\n",
    "knn_output_prefix  = 's3://{}/{}/output'.format(bucket, knn_prefix)\n",
    "knn_train_data_path = writeDatasetToProtobuf(knn_item_matrix, bucket, knn_prefix, train_key, \"dense\", knn_train_label)\n",
    "print('uploaded KNN train data: {}'.format(knn_train_data_path))"
   ]
  },
  {
   "cell_type": "code",
   "execution_count": 22,
   "id": "f77e0023",
   "metadata": {},
   "outputs": [
    {
     "name": "stderr",
     "output_type": "stream",
     "text": [
      "The method get_image_uri has been renamed in sagemaker>=2.\n",
      "See: https://sagemaker.readthedocs.io/en/stable/v2.html for details.\n",
      "train_instance_count has been renamed in sagemaker>=2.\n",
      "See: https://sagemaker.readthedocs.io/en/stable/v2.html for details.\n",
      "train_instance_type has been renamed in sagemaker>=2.\n",
      "See: https://sagemaker.readthedocs.io/en/stable/v2.html for details.\n"
     ]
    }
   ],
   "source": [
    "nb_recommendations = 12\n",
    "instance_type='ml.c5.4xlarge'\n",
    "# set up the estimator\n",
    "knn = sagemaker.estimator.Estimator(get_image_uri(boto3.Session().region_name, \"knn\"),\n",
    "    get_execution_role(),\n",
    "    train_instance_count=1,\n",
    "    train_instance_type=instance_type,\n",
    "    output_path=knn_output_prefix,\n",
    "    sagemaker_session=sagemaker.Session())\n",
    "\n",
    "knn.set_hyperparameters(feature_dim=knn_item_matrix.shape[1], k=nb_recommendations, index_metric=\"INNER_PRODUCT\", predictor_type='classifier', sample_size=10000)\n",
    "fit_input = {'train': knn_train_data_path}\n",
    "knn.fit(fit_input,wait=False)\n",
    "knn_model_name =  knn.latest_training_job.job_name\n"
   ]
  },
  {
   "cell_type": "code",
   "execution_count": 34,
   "id": "6b5e3ad9",
   "metadata": {},
   "outputs": [
    {
     "ename": "ClientError",
     "evalue": "An error occurred (ValidationException) when calling the CreateModel operation: Cannot create already existing model \"arn:aws:sagemaker:ap-northeast-2:029498593638:model/knn-2023-11-29-13-42-58-108\".",
     "output_type": "error",
     "traceback": [
      "\u001b[0;31m---------------------------------------------------------------------------\u001b[0m",
      "\u001b[0;31mClientError\u001b[0m                               Traceback (most recent call last)",
      "\u001b[0;32m<ipython-input-34-6847c45c74f2>\u001b[0m in \u001b[0;36m<module>\u001b[0;34m\u001b[0m\n\u001b[1;32m      9\u001b[0m         \u001b[0mModelName\u001b[0m \u001b[0;34m=\u001b[0m \u001b[0mknn\u001b[0m\u001b[0;34m.\u001b[0m\u001b[0mlatest_training_job\u001b[0m\u001b[0;34m.\u001b[0m\u001b[0mjob_name\u001b[0m\u001b[0;34m,\u001b[0m\u001b[0;34m\u001b[0m\u001b[0;34m\u001b[0m\u001b[0m\n\u001b[1;32m     10\u001b[0m         \u001b[0mExecutionRoleArn\u001b[0m \u001b[0;34m=\u001b[0m \u001b[0mknn\u001b[0m\u001b[0;34m.\u001b[0m\u001b[0mrole\u001b[0m\u001b[0;34m,\u001b[0m\u001b[0;34m\u001b[0m\u001b[0;34m\u001b[0m\u001b[0m\n\u001b[0;32m---> 11\u001b[0;31m         PrimaryContainer = primary_container)\n\u001b[0m\u001b[1;32m     12\u001b[0m \u001b[0mprint\u001b[0m\u001b[0;34m(\u001b[0m\u001b[0;34m\"saved the model\"\u001b[0m\u001b[0;34m)\u001b[0m\u001b[0;34m\u001b[0m\u001b[0;34m\u001b[0m\u001b[0m\n",
      "\u001b[0;32m~/anaconda3/envs/python3/lib/python3.6/site-packages/botocore/client.py\u001b[0m in \u001b[0;36m_api_call\u001b[0;34m(self, *args, **kwargs)\u001b[0m\n\u001b[1;32m    506\u001b[0m                 )\n\u001b[1;32m    507\u001b[0m             \u001b[0;31m# The \"self\" in this scope is referring to the BaseClient.\u001b[0m\u001b[0;34m\u001b[0m\u001b[0;34m\u001b[0m\u001b[0;34m\u001b[0m\u001b[0m\n\u001b[0;32m--> 508\u001b[0;31m             \u001b[0;32mreturn\u001b[0m \u001b[0mself\u001b[0m\u001b[0;34m.\u001b[0m\u001b[0m_make_api_call\u001b[0m\u001b[0;34m(\u001b[0m\u001b[0moperation_name\u001b[0m\u001b[0;34m,\u001b[0m \u001b[0mkwargs\u001b[0m\u001b[0;34m)\u001b[0m\u001b[0;34m\u001b[0m\u001b[0;34m\u001b[0m\u001b[0m\n\u001b[0m\u001b[1;32m    509\u001b[0m \u001b[0;34m\u001b[0m\u001b[0m\n\u001b[1;32m    510\u001b[0m         \u001b[0m_api_call\u001b[0m\u001b[0;34m.\u001b[0m\u001b[0m__name__\u001b[0m \u001b[0;34m=\u001b[0m \u001b[0mstr\u001b[0m\u001b[0;34m(\u001b[0m\u001b[0mpy_operation_name\u001b[0m\u001b[0;34m)\u001b[0m\u001b[0;34m\u001b[0m\u001b[0;34m\u001b[0m\u001b[0m\n",
      "\u001b[0;32m~/anaconda3/envs/python3/lib/python3.6/site-packages/botocore/client.py\u001b[0m in \u001b[0;36m_make_api_call\u001b[0;34m(self, operation_name, api_params)\u001b[0m\n\u001b[1;32m    909\u001b[0m             \u001b[0merror_code\u001b[0m \u001b[0;34m=\u001b[0m \u001b[0mparsed_response\u001b[0m\u001b[0;34m.\u001b[0m\u001b[0mget\u001b[0m\u001b[0;34m(\u001b[0m\u001b[0;34m\"Error\"\u001b[0m\u001b[0;34m,\u001b[0m \u001b[0;34m{\u001b[0m\u001b[0;34m}\u001b[0m\u001b[0;34m)\u001b[0m\u001b[0;34m.\u001b[0m\u001b[0mget\u001b[0m\u001b[0;34m(\u001b[0m\u001b[0;34m\"Code\"\u001b[0m\u001b[0;34m)\u001b[0m\u001b[0;34m\u001b[0m\u001b[0;34m\u001b[0m\u001b[0m\n\u001b[1;32m    910\u001b[0m             \u001b[0merror_class\u001b[0m \u001b[0;34m=\u001b[0m \u001b[0mself\u001b[0m\u001b[0;34m.\u001b[0m\u001b[0mexceptions\u001b[0m\u001b[0;34m.\u001b[0m\u001b[0mfrom_code\u001b[0m\u001b[0;34m(\u001b[0m\u001b[0merror_code\u001b[0m\u001b[0;34m)\u001b[0m\u001b[0;34m\u001b[0m\u001b[0;34m\u001b[0m\u001b[0m\n\u001b[0;32m--> 911\u001b[0;31m             \u001b[0;32mraise\u001b[0m \u001b[0merror_class\u001b[0m\u001b[0;34m(\u001b[0m\u001b[0mparsed_response\u001b[0m\u001b[0;34m,\u001b[0m \u001b[0moperation_name\u001b[0m\u001b[0;34m)\u001b[0m\u001b[0;34m\u001b[0m\u001b[0;34m\u001b[0m\u001b[0m\n\u001b[0m\u001b[1;32m    912\u001b[0m         \u001b[0;32melse\u001b[0m\u001b[0;34m:\u001b[0m\u001b[0;34m\u001b[0m\u001b[0;34m\u001b[0m\u001b[0m\n\u001b[1;32m    913\u001b[0m             \u001b[0;32mreturn\u001b[0m \u001b[0mparsed_response\u001b[0m\u001b[0;34m\u001b[0m\u001b[0;34m\u001b[0m\u001b[0m\n",
      "\u001b[0;31mClientError\u001b[0m: An error occurred (ValidationException) when calling the CreateModel operation: Cannot create already existing model \"arn:aws:sagemaker:ap-northeast-2:029498593638:model/knn-2023-11-29-13-42-58-108\"."
     ]
    }
   ],
   "source": [
    "# save the model so that we can reference it in the next step during batch inference\n",
    "sm = boto3.client(service_name='sagemaker')\n",
    "primary_container = {\n",
    "    'Image': knn.image_uri,\n",
    "    'ModelDataUrl': knn.model_data,\n",
    "}\n",
    "\n",
    "knn_model = sm.create_model(\n",
    "        ModelName = knn.latest_training_job.job_name,\n",
    "        ExecutionRoleArn = knn.role,\n",
    "        PrimaryContainer = primary_container)\n",
    "print(\"saved the model\")"
   ]
  },
  {
   "cell_type": "markdown",
   "id": "7a76a2c3",
   "metadata": {},
   "source": [
    "## batch transform"
   ]
  },
  {
   "cell_type": "code",
   "execution_count": 39,
   "id": "44c44797",
   "metadata": {},
   "outputs": [
    {
     "data": {
      "text/plain": [
       "'s3://kanto.public/inflab-extend/knn/train.protobuf'"
      ]
     },
     "execution_count": 39,
     "metadata": {},
     "output_type": "execute_result"
    }
   ],
   "source": [
    "knn_batch_data_path"
   ]
  },
  {
   "cell_type": "code",
   "execution_count": 45,
   "id": "9bac5e03",
   "metadata": {},
   "outputs": [
    {
     "name": "stdout",
     "output_type": "stream",
     "text": [
      ".....................................................\u001b[34mDocker entrypoint called with argument(s): serve\u001b[0m\n",
      "\u001b[34mRunning default environment configuration script\u001b[0m\n",
      "\u001b[34m[11/29/2023 14:54:54 INFO 139916924090176] Memory profiler is not enabled by the environment variable ENABLE_PROFILER.\u001b[0m\n",
      "\u001b[34m/opt/amazon/lib/python3.9/site-packages/scipy/optimize/_shgo.py:495: SyntaxWarning: \"is\" with a literal. Did you mean \"==\"?\n",
      "  if cons['type'] is 'ineq':\u001b[0m\n",
      "\u001b[34m/opt/amazon/lib/python3.9/site-packages/scipy/optimize/_shgo.py:743: SyntaxWarning: \"is not\" with a literal. Did you mean \"!=\"?\n",
      "  if len(self.X_min) is not 0:\u001b[0m\n",
      "\u001b[34m[11/29/2023 14:54:57 WARNING 139916924090176] Loggers have already been setup.\u001b[0m\n",
      "\u001b[34m[11/29/2023 14:54:57 INFO 139916924090176] loaded entry point class algorithm.serve.server_config:config_api\u001b[0m\n",
      "\u001b[34m[11/29/2023 14:54:57 INFO 139916924090176] loading entry points\u001b[0m\n",
      "\u001b[34m[11/29/2023 14:54:57 INFO 139916924090176] loaded request iterator application/json\u001b[0m\n",
      "\u001b[34m[11/29/2023 14:54:57 INFO 139916924090176] loaded request iterator application/jsonlines\u001b[0m\n",
      "\u001b[34m[11/29/2023 14:54:57 INFO 139916924090176] loaded request iterator application/x-recordio-protobuf\u001b[0m\n",
      "\u001b[34m[11/29/2023 14:54:57 INFO 139916924090176] loaded request iterator text/csv\u001b[0m\n",
      "\u001b[34m[11/29/2023 14:54:57 INFO 139916924090176] loaded response encoder application/json\u001b[0m\n",
      "\u001b[34m[11/29/2023 14:54:57 INFO 139916924090176] loaded response encoder application/jsonlines\u001b[0m\n",
      "\u001b[34m[11/29/2023 14:54:57 INFO 139916924090176] loaded response encoder application/x-recordio-protobuf\u001b[0m\n",
      "\u001b[34m[11/29/2023 14:54:57 INFO 139916924090176] Loading faiss with AVX2 support.\u001b[0m\n",
      "\u001b[34m[11/29/2023 14:54:57 INFO 139916924090176] Successfully loaded faiss with AVX2 support.\u001b[0m\n",
      "\u001b[34m[11/29/2023 14:54:58 INFO 139916924090176] loaded entry point class algorithm:model\u001b[0m\n",
      "\u001b[34m[11/29/2023 14:54:58 INFO 139916924090176] Number of server workers: 1\u001b[0m\n",
      "\u001b[34m[2023-11-29 14:54:58 +0000] [1] [INFO] Starting gunicorn 20.1.0\u001b[0m\n",
      "\u001b[34m[2023-11-29 14:54:58 +0000] [1] [INFO] Listening at: http://0.0.0.0:8080 (1)\u001b[0m\n",
      "\u001b[34m[2023-11-29 14:54:58 +0000] [1] [INFO] Using worker: sync\u001b[0m\n",
      "\u001b[34m[2023-11-29 14:54:58 +0000] [58] [INFO] Booting worker with pid: 58\u001b[0m\n",
      "\u001b[34m[11/29/2023 14:54:58 INFO 139916924090176] loading model...\u001b[0m\n",
      "\u001b[34m/opt/amazon/python3.9/lib/python3.9/subprocess.py:941: RuntimeWarning: line buffering (buffering=1) isn't supported in binary mode, the default buffer size will be used\n",
      "  self.stdout = io.open(c2pread, 'rb', bufsize)\u001b[0m\n",
      "\u001b[34m[11/29/2023 14:54:58 INFO 139916924090176] nvidia-smi: took 0.031 seconds to run.\u001b[0m\n",
      "\u001b[34m[11/29/2023 14:54:58 INFO 139916924090176] nvidia-smi identified 0 GPUs.\u001b[0m\n",
      "\u001b[34m[11/29/2023 14:54:58 INFO 139916924090176] ...model loaded.\u001b[0m\n",
      "\u001b[34m#metrics {\"StartTime\": 1701269698.224549, \"EndTime\": 1701269698.2281148, \"Dimensions\": {\"Algorithm\": \"KNNModel\", \"Host\": \"UNKNOWN\", \"Operation\": \"scoring\"}, \"Metrics\": {\"execution_parameters.count\": {\"sum\": 1.0, \"count\": 1, \"min\": 1, \"max\": 1}}}\u001b[0m\n",
      "\u001b[34m[11/29/2023 14:54:58 INFO 139916924090176] Searching index...\u001b[0m\n",
      "\u001b[34m[11/29/2023 14:54:58 INFO 139916924090176] ...Done searching index in 0 second(s)\u001b[0m\n",
      "\u001b[34m[2023-11-29 14:54:58.312] [tensorio] [info] epoch_stats={\"data_pipeline\": \"/tmp/tmpb8wybpnx/tmpzl0orq3g\", \"epoch\": 0, \"duration\": 35, \"num_examples\": 1, \"num_bytes\": 54800}\u001b[0m\n",
      "\u001b[34m#metrics {\"StartTime\": 1701269698.228183, \"EndTime\": 1701269698.3159907, \"Dimensions\": {\"Algorithm\": \"KNNModel\", \"Host\": \"UNKNOWN\", \"Operation\": \"scoring\"}, \"Metrics\": {\"model.evaluate.time\": {\"sum\": 34.67702865600586, \"count\": 1, \"min\": 34.67702865600586, \"max\": 34.67702865600586}, \"invocations.count\": {\"sum\": 1.0, \"count\": 1, \"min\": 1, \"max\": 1}}}\u001b[0m\n",
      "\n",
      "\u001b[32m2023-11-29T14:54:58.231:[sagemaker logs]: MaxConcurrentTransforms=2, MaxPayloadInMB=15, BatchStrategy=MULTI_RECORD\u001b[0m\n",
      "!\n"
     ]
    }
   ],
   "source": [
    "knn_batch_data_path = writeDatasetToProtobuf(knn_user_matrix[:100], bucket, knn_prefix, train_key, \"dense\")\n",
    "\n",
    "transformer =sagemaker.transformer.Transformer(\n",
    "    base_transform_job_name=\"knn\",\n",
    "    model_name=knn_model_name,\n",
    "    instance_count=1,\n",
    "    instance_type=instance_type,\n",
    "    strategy='MultiRecord',\n",
    "    max_payload = 15,\n",
    "    max_concurrent_transforms = 2,\n",
    "    output_path=knn_output_prefix,\n",
    "    accept=\"application/jsonlines; verbose=true\"\n",
    ")\n",
    "\n",
    "# Start a transform job:\n",
    "transformer.transform(knn_batch_data_path, content_type='application/x-recordio-protobuf',split_type='RecordIO')\n",
    "transformer.wait(False)"
   ]
  },
  {
   "cell_type": "code",
   "execution_count": 47,
   "id": "7bad1af7",
   "metadata": {},
   "outputs": [
    {
     "ename": "ClientError",
     "evalue": "An error occurred (404) when calling the HeadObject operation: Not Found",
     "output_type": "error",
     "traceback": [
      "\u001b[0;31m---------------------------------------------------------------------------\u001b[0m",
      "\u001b[0;31mClientError\u001b[0m                               Traceback (most recent call last)",
      "\u001b[0;32m<ipython-input-47-e87d1b6cae18>\u001b[0m in \u001b[0;36m<module>\u001b[0;34m\u001b[0m\n\u001b[1;32m      3\u001b[0m \u001b[0minference_output_file\u001b[0m \u001b[0;34m=\u001b[0m \u001b[0;34m\"knn/output/train.protobuf.out\"\u001b[0m\u001b[0;34m\u001b[0m\u001b[0;34m\u001b[0m\u001b[0m\n\u001b[1;32m      4\u001b[0m \u001b[0ms3_client\u001b[0m \u001b[0;34m=\u001b[0m \u001b[0mboto3\u001b[0m\u001b[0;34m.\u001b[0m\u001b[0mclient\u001b[0m\u001b[0;34m(\u001b[0m\u001b[0;34m's3'\u001b[0m\u001b[0;34m)\u001b[0m\u001b[0;34m\u001b[0m\u001b[0;34m\u001b[0m\u001b[0m\n\u001b[0;32m----> 5\u001b[0;31m \u001b[0ms3_client\u001b[0m\u001b[0;34m.\u001b[0m\u001b[0mdownload_file\u001b[0m\u001b[0;34m(\u001b[0m\u001b[0mbucket\u001b[0m\u001b[0;34m,\u001b[0m \u001b[0minference_output_file\u001b[0m\u001b[0;34m,\u001b[0m \u001b[0mresults_file_name\u001b[0m\u001b[0;34m)\u001b[0m\u001b[0;34m\u001b[0m\u001b[0;34m\u001b[0m\u001b[0m\n\u001b[0m\u001b[1;32m      6\u001b[0m \u001b[0;31m# with open(results_file_name) as f:\u001b[0m\u001b[0;34m\u001b[0m\u001b[0;34m\u001b[0m\u001b[0;34m\u001b[0m\u001b[0m\n\u001b[1;32m      7\u001b[0m \u001b[0;31m#     results = f.readlines()\u001b[0m\u001b[0;34m\u001b[0m\u001b[0;34m\u001b[0m\u001b[0;34m\u001b[0m\u001b[0m\n",
      "\u001b[0;32m~/anaconda3/envs/python3/lib/python3.6/site-packages/boto3/s3/inject.py\u001b[0m in \u001b[0;36mdownload_file\u001b[0;34m(self, Bucket, Key, Filename, ExtraArgs, Callback, Config)\u001b[0m\n\u001b[1;32m    193\u001b[0m             \u001b[0mfilename\u001b[0m\u001b[0;34m=\u001b[0m\u001b[0mFilename\u001b[0m\u001b[0;34m,\u001b[0m\u001b[0;34m\u001b[0m\u001b[0;34m\u001b[0m\u001b[0m\n\u001b[1;32m    194\u001b[0m             \u001b[0mextra_args\u001b[0m\u001b[0;34m=\u001b[0m\u001b[0mExtraArgs\u001b[0m\u001b[0;34m,\u001b[0m\u001b[0;34m\u001b[0m\u001b[0;34m\u001b[0m\u001b[0m\n\u001b[0;32m--> 195\u001b[0;31m             \u001b[0mcallback\u001b[0m\u001b[0;34m=\u001b[0m\u001b[0mCallback\u001b[0m\u001b[0;34m,\u001b[0m\u001b[0;34m\u001b[0m\u001b[0;34m\u001b[0m\u001b[0m\n\u001b[0m\u001b[1;32m    196\u001b[0m         )\n\u001b[1;32m    197\u001b[0m \u001b[0;34m\u001b[0m\u001b[0m\n",
      "\u001b[0;32m~/anaconda3/envs/python3/lib/python3.6/site-packages/boto3/s3/transfer.py\u001b[0m in \u001b[0;36mdownload_file\u001b[0;34m(self, bucket, key, filename, extra_args, callback)\u001b[0m\n\u001b[1;32m    318\u001b[0m         )\n\u001b[1;32m    319\u001b[0m         \u001b[0;32mtry\u001b[0m\u001b[0;34m:\u001b[0m\u001b[0;34m\u001b[0m\u001b[0;34m\u001b[0m\u001b[0m\n\u001b[0;32m--> 320\u001b[0;31m             \u001b[0mfuture\u001b[0m\u001b[0;34m.\u001b[0m\u001b[0mresult\u001b[0m\u001b[0;34m(\u001b[0m\u001b[0;34m)\u001b[0m\u001b[0;34m\u001b[0m\u001b[0;34m\u001b[0m\u001b[0m\n\u001b[0m\u001b[1;32m    321\u001b[0m         \u001b[0;31m# This is for backwards compatibility where when retries are\u001b[0m\u001b[0;34m\u001b[0m\u001b[0;34m\u001b[0m\u001b[0;34m\u001b[0m\u001b[0m\n\u001b[1;32m    322\u001b[0m         \u001b[0;31m# exceeded we need to throw the same error from boto3 instead of\u001b[0m\u001b[0;34m\u001b[0m\u001b[0;34m\u001b[0m\u001b[0;34m\u001b[0m\u001b[0m\n",
      "\u001b[0;32m~/anaconda3/envs/python3/lib/python3.6/site-packages/s3transfer/futures.py\u001b[0m in \u001b[0;36mresult\u001b[0;34m(self)\u001b[0m\n\u001b[1;32m    104\u001b[0m             \u001b[0;31m# however if a KeyboardInterrupt is raised we want want to exit\u001b[0m\u001b[0;34m\u001b[0m\u001b[0;34m\u001b[0m\u001b[0;34m\u001b[0m\u001b[0m\n\u001b[1;32m    105\u001b[0m             \u001b[0;31m# out of this and propogate the exception.\u001b[0m\u001b[0;34m\u001b[0m\u001b[0;34m\u001b[0m\u001b[0;34m\u001b[0m\u001b[0m\n\u001b[0;32m--> 106\u001b[0;31m             \u001b[0;32mreturn\u001b[0m \u001b[0mself\u001b[0m\u001b[0;34m.\u001b[0m\u001b[0m_coordinator\u001b[0m\u001b[0;34m.\u001b[0m\u001b[0mresult\u001b[0m\u001b[0;34m(\u001b[0m\u001b[0;34m)\u001b[0m\u001b[0;34m\u001b[0m\u001b[0;34m\u001b[0m\u001b[0m\n\u001b[0m\u001b[1;32m    107\u001b[0m         \u001b[0;32mexcept\u001b[0m \u001b[0mKeyboardInterrupt\u001b[0m \u001b[0;32mas\u001b[0m \u001b[0me\u001b[0m\u001b[0;34m:\u001b[0m\u001b[0;34m\u001b[0m\u001b[0;34m\u001b[0m\u001b[0m\n\u001b[1;32m    108\u001b[0m             \u001b[0mself\u001b[0m\u001b[0;34m.\u001b[0m\u001b[0mcancel\u001b[0m\u001b[0;34m(\u001b[0m\u001b[0;34m)\u001b[0m\u001b[0;34m\u001b[0m\u001b[0;34m\u001b[0m\u001b[0m\n",
      "\u001b[0;32m~/anaconda3/envs/python3/lib/python3.6/site-packages/s3transfer/futures.py\u001b[0m in \u001b[0;36mresult\u001b[0;34m(self)\u001b[0m\n\u001b[1;32m    263\u001b[0m         \u001b[0;31m# final result.\u001b[0m\u001b[0;34m\u001b[0m\u001b[0;34m\u001b[0m\u001b[0;34m\u001b[0m\u001b[0m\n\u001b[1;32m    264\u001b[0m         \u001b[0;32mif\u001b[0m \u001b[0mself\u001b[0m\u001b[0;34m.\u001b[0m\u001b[0m_exception\u001b[0m\u001b[0;34m:\u001b[0m\u001b[0;34m\u001b[0m\u001b[0;34m\u001b[0m\u001b[0m\n\u001b[0;32m--> 265\u001b[0;31m             \u001b[0;32mraise\u001b[0m \u001b[0mself\u001b[0m\u001b[0;34m.\u001b[0m\u001b[0m_exception\u001b[0m\u001b[0;34m\u001b[0m\u001b[0;34m\u001b[0m\u001b[0m\n\u001b[0m\u001b[1;32m    266\u001b[0m         \u001b[0;32mreturn\u001b[0m \u001b[0mself\u001b[0m\u001b[0;34m.\u001b[0m\u001b[0m_result\u001b[0m\u001b[0;34m\u001b[0m\u001b[0;34m\u001b[0m\u001b[0m\n\u001b[1;32m    267\u001b[0m \u001b[0;34m\u001b[0m\u001b[0m\n",
      "\u001b[0;32m~/anaconda3/envs/python3/lib/python3.6/site-packages/s3transfer/tasks.py\u001b[0m in \u001b[0;36m_main\u001b[0;34m(self, transfer_future, **kwargs)\u001b[0m\n\u001b[1;32m    253\u001b[0m             \u001b[0;31m# Call the submit method to start submitting tasks to execute the\u001b[0m\u001b[0;34m\u001b[0m\u001b[0;34m\u001b[0m\u001b[0;34m\u001b[0m\u001b[0m\n\u001b[1;32m    254\u001b[0m             \u001b[0;31m# transfer.\u001b[0m\u001b[0;34m\u001b[0m\u001b[0;34m\u001b[0m\u001b[0;34m\u001b[0m\u001b[0m\n\u001b[0;32m--> 255\u001b[0;31m             \u001b[0mself\u001b[0m\u001b[0;34m.\u001b[0m\u001b[0m_submit\u001b[0m\u001b[0;34m(\u001b[0m\u001b[0mtransfer_future\u001b[0m\u001b[0;34m=\u001b[0m\u001b[0mtransfer_future\u001b[0m\u001b[0;34m,\u001b[0m \u001b[0;34m**\u001b[0m\u001b[0mkwargs\u001b[0m\u001b[0;34m)\u001b[0m\u001b[0;34m\u001b[0m\u001b[0;34m\u001b[0m\u001b[0m\n\u001b[0m\u001b[1;32m    256\u001b[0m         \u001b[0;32mexcept\u001b[0m \u001b[0mBaseException\u001b[0m \u001b[0;32mas\u001b[0m \u001b[0me\u001b[0m\u001b[0;34m:\u001b[0m\u001b[0;34m\u001b[0m\u001b[0;34m\u001b[0m\u001b[0m\n\u001b[1;32m    257\u001b[0m             \u001b[0;31m# If there was an exception raised during the submission of task\u001b[0m\u001b[0;34m\u001b[0m\u001b[0;34m\u001b[0m\u001b[0;34m\u001b[0m\u001b[0m\n",
      "\u001b[0;32m~/anaconda3/envs/python3/lib/python3.6/site-packages/s3transfer/download.py\u001b[0m in \u001b[0;36m_submit\u001b[0;34m(self, client, config, osutil, request_executor, io_executor, transfer_future, bandwidth_limiter)\u001b[0m\n\u001b[1;32m    341\u001b[0m                 \u001b[0mBucket\u001b[0m\u001b[0;34m=\u001b[0m\u001b[0mtransfer_future\u001b[0m\u001b[0;34m.\u001b[0m\u001b[0mmeta\u001b[0m\u001b[0;34m.\u001b[0m\u001b[0mcall_args\u001b[0m\u001b[0;34m.\u001b[0m\u001b[0mbucket\u001b[0m\u001b[0;34m,\u001b[0m\u001b[0;34m\u001b[0m\u001b[0;34m\u001b[0m\u001b[0m\n\u001b[1;32m    342\u001b[0m                 \u001b[0mKey\u001b[0m\u001b[0;34m=\u001b[0m\u001b[0mtransfer_future\u001b[0m\u001b[0;34m.\u001b[0m\u001b[0mmeta\u001b[0m\u001b[0;34m.\u001b[0m\u001b[0mcall_args\u001b[0m\u001b[0;34m.\u001b[0m\u001b[0mkey\u001b[0m\u001b[0;34m,\u001b[0m\u001b[0;34m\u001b[0m\u001b[0;34m\u001b[0m\u001b[0m\n\u001b[0;32m--> 343\u001b[0;31m                 \u001b[0;34m**\u001b[0m\u001b[0mtransfer_future\u001b[0m\u001b[0;34m.\u001b[0m\u001b[0mmeta\u001b[0m\u001b[0;34m.\u001b[0m\u001b[0mcall_args\u001b[0m\u001b[0;34m.\u001b[0m\u001b[0mextra_args\u001b[0m\u001b[0;34m\u001b[0m\u001b[0;34m\u001b[0m\u001b[0m\n\u001b[0m\u001b[1;32m    344\u001b[0m             )\n\u001b[1;32m    345\u001b[0m             transfer_future.meta.provide_transfer_size(\n",
      "\u001b[0;32m~/anaconda3/envs/python3/lib/python3.6/site-packages/botocore/client.py\u001b[0m in \u001b[0;36m_api_call\u001b[0;34m(self, *args, **kwargs)\u001b[0m\n\u001b[1;32m    506\u001b[0m                 )\n\u001b[1;32m    507\u001b[0m             \u001b[0;31m# The \"self\" in this scope is referring to the BaseClient.\u001b[0m\u001b[0;34m\u001b[0m\u001b[0;34m\u001b[0m\u001b[0;34m\u001b[0m\u001b[0m\n\u001b[0;32m--> 508\u001b[0;31m             \u001b[0;32mreturn\u001b[0m \u001b[0mself\u001b[0m\u001b[0;34m.\u001b[0m\u001b[0m_make_api_call\u001b[0m\u001b[0;34m(\u001b[0m\u001b[0moperation_name\u001b[0m\u001b[0;34m,\u001b[0m \u001b[0mkwargs\u001b[0m\u001b[0;34m)\u001b[0m\u001b[0;34m\u001b[0m\u001b[0;34m\u001b[0m\u001b[0m\n\u001b[0m\u001b[1;32m    509\u001b[0m \u001b[0;34m\u001b[0m\u001b[0m\n\u001b[1;32m    510\u001b[0m         \u001b[0m_api_call\u001b[0m\u001b[0;34m.\u001b[0m\u001b[0m__name__\u001b[0m \u001b[0;34m=\u001b[0m \u001b[0mstr\u001b[0m\u001b[0;34m(\u001b[0m\u001b[0mpy_operation_name\u001b[0m\u001b[0;34m)\u001b[0m\u001b[0;34m\u001b[0m\u001b[0;34m\u001b[0m\u001b[0m\n",
      "\u001b[0;32m~/anaconda3/envs/python3/lib/python3.6/site-packages/botocore/client.py\u001b[0m in \u001b[0;36m_make_api_call\u001b[0;34m(self, operation_name, api_params)\u001b[0m\n\u001b[1;32m    909\u001b[0m             \u001b[0merror_code\u001b[0m \u001b[0;34m=\u001b[0m \u001b[0mparsed_response\u001b[0m\u001b[0;34m.\u001b[0m\u001b[0mget\u001b[0m\u001b[0;34m(\u001b[0m\u001b[0;34m\"Error\"\u001b[0m\u001b[0;34m,\u001b[0m \u001b[0;34m{\u001b[0m\u001b[0;34m}\u001b[0m\u001b[0;34m)\u001b[0m\u001b[0;34m.\u001b[0m\u001b[0mget\u001b[0m\u001b[0;34m(\u001b[0m\u001b[0;34m\"Code\"\u001b[0m\u001b[0;34m)\u001b[0m\u001b[0;34m\u001b[0m\u001b[0;34m\u001b[0m\u001b[0m\n\u001b[1;32m    910\u001b[0m             \u001b[0merror_class\u001b[0m \u001b[0;34m=\u001b[0m \u001b[0mself\u001b[0m\u001b[0;34m.\u001b[0m\u001b[0mexceptions\u001b[0m\u001b[0;34m.\u001b[0m\u001b[0mfrom_code\u001b[0m\u001b[0;34m(\u001b[0m\u001b[0merror_code\u001b[0m\u001b[0;34m)\u001b[0m\u001b[0;34m\u001b[0m\u001b[0;34m\u001b[0m\u001b[0m\n\u001b[0;32m--> 911\u001b[0;31m             \u001b[0;32mraise\u001b[0m \u001b[0merror_class\u001b[0m\u001b[0;34m(\u001b[0m\u001b[0mparsed_response\u001b[0m\u001b[0;34m,\u001b[0m \u001b[0moperation_name\u001b[0m\u001b[0;34m)\u001b[0m\u001b[0;34m\u001b[0m\u001b[0;34m\u001b[0m\u001b[0m\n\u001b[0m\u001b[1;32m    912\u001b[0m         \u001b[0;32melse\u001b[0m\u001b[0;34m:\u001b[0m\u001b[0;34m\u001b[0m\u001b[0;34m\u001b[0m\u001b[0m\n\u001b[1;32m    913\u001b[0m             \u001b[0;32mreturn\u001b[0m \u001b[0mparsed_response\u001b[0m\u001b[0;34m\u001b[0m\u001b[0;34m\u001b[0m\u001b[0m\n",
      "\u001b[0;31mClientError\u001b[0m: An error occurred (404) when calling the HeadObject operation: Not Found"
     ]
    }
   ],
   "source": [
    "#Download predictions \n",
    "results_file_name = \"inference_output\"\n",
    "inference_output_file = \"knn/output/train.protobuf.out\"\n",
    "s3_client = boto3.client('s3')\n",
    "s3_client.download_file(bucket, inference_output_file, results_file_name)\n",
    "# with open(results_file_name) as f:\n",
    "#     results = f.readlines()"
   ]
  },
  {
   "cell_type": "code",
   "execution_count": null,
   "id": "d4d56a13",
   "metadata": {},
   "outputs": [],
   "source": []
  }
 ],
 "metadata": {
  "kernelspec": {
   "display_name": "conda_python3",
   "language": "python",
   "name": "conda_python3"
  },
  "language_info": {
   "codemirror_mode": {
    "name": "ipython",
    "version": 3
   },
   "file_extension": ".py",
   "mimetype": "text/x-python",
   "name": "python",
   "nbconvert_exporter": "python",
   "pygments_lexer": "ipython3",
   "version": "3.6.13"
  }
 },
 "nbformat": 4,
 "nbformat_minor": 5
}
