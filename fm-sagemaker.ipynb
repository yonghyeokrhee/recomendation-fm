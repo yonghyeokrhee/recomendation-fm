{
 "cells": [
  {
   "cell_type": "code",
   "execution_count": 48,
   "id": "5caac981",
   "metadata": {},
   "outputs": [],
   "source": [
    "import sagemaker\n",
    "import sagemaker.amazon.common as smac\n",
    "from sagemaker import get_execution_role\n",
    "from sagemaker.predictor import json_deserializer\n",
    "from sagemaker.amazon.amazon_estimator import get_image_uri\n",
    "import numpy as np\n",
    "from scipy.sparse import lil_matrix\n",
    "import pandas as pd\n",
    "import boto3, io, os"
   ]
  },
  {
   "cell_type": "code",
   "execution_count": 49,
   "id": "a2d9b5aa",
   "metadata": {},
   "outputs": [],
   "source": [
    "from tqdm import tqdm"
   ]
  },
  {
   "cell_type": "code",
   "execution_count": 50,
   "id": "91e0542d",
   "metadata": {},
   "outputs": [],
   "source": [
    "transactions_df = pd.read_csv('transactions_sm.csv')\n",
    "customers_df = pd.read_csv('customers_sm.csv')\n",
    "articles_df = pd.read_csv('articles_sm.csv')"
   ]
  },
  {
   "cell_type": "markdown",
   "id": "30511f5a",
   "metadata": {},
   "source": [
    "### 필요함 함수 목록"
   ]
  },
  {
   "cell_type": "code",
   "execution_count": 58,
   "id": "8e416fff",
   "metadata": {},
   "outputs": [],
   "source": [
    "def get_most_bought_articles(data, num_articles=100):\n",
    "    # Create dataframe that contains the number of times each article has been bought\n",
    "    articles_counts = data[['article_id', 't_dat']].groupby('article_id').count().reset_index().rename(columns={'t_dat': 'count'})\n",
    "    articles_counts = articles_counts.sort_values(by='count', ascending=False)\n",
    "        \n",
    "    most_bought_articles = articles_counts.loc[articles_counts['count'] >= num_articles]['article_id'].values\n",
    "    \n",
    "    return most_bought_articles"
   ]
  },
  {
   "cell_type": "code",
   "execution_count": 59,
   "id": "9c8dd76d",
   "metadata": {},
   "outputs": [],
   "source": [
    "def preprocess_customers_df(customers_df, transactions_df):\n",
    "    # Active 상태와 클럽 멤버 상태에 대하여 모두 Boolean처리\n",
    "    customers_df[['Active']] = customers_df[['Active']].fillna(value=0) \n",
    "    customers_df['club_member_status'] = customers_df['club_member_status'] == 'ACTIVE'\n",
    "\n",
    "    # 특정한 우편 번호에 대해서는 Binary Encoding을 수행한다.\n",
    "    customers_df['common_postal_code'] = customers_df['postal_code'] == '2c29ae653a9282cce4151bd87643c907644e09541abc28ae87dea0d1f6603b1c'\n",
    "\n",
    "    # 나이가 없는 user에 대하여는 평균 값을 사용하여 채운다.\n",
    "    customers_df[['age']] = customers_df[['age']].fillna(value=customers_df['age'].mean())\n",
    "\n",
    "    # 사용하지 않는 컬럼을 drop 한다(FN, 수신주기, 우편 번호).\n",
    "    customers_df = customers_df.drop(['FN', 'fashion_news_frequency', 'postal_code'], axis=1)\n",
    "\n",
    "    # Replace boolean with 1/0\n",
    "    customers_df['club_member_status'] = customers_df['club_member_status'].astype(int)\n",
    "    customers_df['common_postal_code'] = customers_df['common_postal_code'].astype(int)\n",
    "    \n",
    "    # 이너 조인 수행하여 구매 이력이 있는 고객만 남겨두었다\n",
    "    customers_df = customers_df.merge(transactions_df[['customer_id', 'article_id']], on=\"customer_id\")\n",
    "    \n",
    "    return customers_df"
   ]
  },
  {
   "cell_type": "markdown",
   "id": "4132cace",
   "metadata": {},
   "source": [
    "- 전체 고객 수\n",
    "- training set의 unique 한 구매 고객 수"
   ]
  },
  {
   "cell_type": "code",
   "execution_count": 53,
   "id": "8d284d15",
   "metadata": {},
   "outputs": [
    {
     "name": "stdout",
     "output_type": "stream",
     "text": [
      "1371980\n",
      "1371980\n"
     ]
    }
   ],
   "source": [
    "print(len(customers_df.customer_id))\n",
    "print(len(customers_df.customer_id.unique()))"
   ]
  },
  {
   "cell_type": "markdown",
   "id": "24e41f23",
   "metadata": {},
   "source": [
    "- training 기간 동안 transaction 이력이 있는 구매 고객"
   ]
  },
  {
   "cell_type": "code",
   "execution_count": 54,
   "id": "849febdf",
   "metadata": {},
   "outputs": [
    {
     "data": {
      "text/plain": [
       "445377"
      ]
     },
     "execution_count": 54,
     "metadata": {},
     "output_type": "execute_result"
    }
   ],
   "source": [
    "len(transactions_df.customer_id.unique())"
   ]
  },
  {
   "cell_type": "markdown",
   "id": "3a8d53b6",
   "metadata": {},
   "source": [
    "- validation data 생성하기\n",
    " - 공정한 test를 위해서 구매 이력이 있는 user에 대하여만 validation set을 구성한다."
   ]
  },
  {
   "cell_type": "code",
   "execution_count": 55,
   "id": "bbd00297",
   "metadata": {},
   "outputs": [],
   "source": [
    "most_bought_articles = get_most_bought_articles(transactions_df)"
   ]
  },
  {
   "cell_type": "code",
   "execution_count": 56,
   "id": "83597811",
   "metadata": {},
   "outputs": [],
   "source": [
    "val_df = pd.read_csv('validation_sm.csv')\n",
    "\n",
    "val_df = val_df[val_df.customer_id.isin(transactions_df.customer_id)]\n",
    "#val_df = val_df.loc[val_df.article_id.isin(most_bought_articles)]\n",
    "val_df = val_df[['customer_id', 'article_id']]\n",
    "val_df['bought'] = np.ones(val_df.shape[0])"
   ]
  },
  {
   "cell_type": "markdown",
   "id": "de824cd7",
   "metadata": {},
   "source": [
    "- 학습 대상이며 encoding을 해야할 고객 명단"
   ]
  },
  {
   "cell_type": "code",
   "execution_count": 57,
   "id": "288edf05",
   "metadata": {},
   "outputs": [
    {
     "name": "stdout",
     "output_type": "stream",
     "text": [
      "445377\n"
     ]
    }
   ],
   "source": [
    "customer_ids = transactions_df.customer_id.unique()\n",
    "num_customers = len(customer_ids)\n",
    "print(num_customers)"
   ]
  },
  {
   "cell_type": "markdown",
   "id": "9ca4f11e",
   "metadata": {},
   "source": [
    "- encoding을 해야할 상품 명단 (training 및 validation space에 포함된 모든 article에 대하여 encoding 한다)"
   ]
  },
  {
   "cell_type": "code",
   "execution_count": 172,
   "id": "5923213d",
   "metadata": {},
   "outputs": [
    {
     "name": "stdout",
     "output_type": "stream",
     "text": [
      "17394\n"
     ]
    }
   ],
   "source": [
    "article_ids = list(set(transactions_df.article_id.unique()).union(set(val_df.article_id.unique())))\n",
    "num_articles = len(article_ids)\n",
    "print(num_articles)"
   ]
  },
  {
   "cell_type": "code",
   "execution_count": 173,
   "id": "e250952c",
   "metadata": {},
   "outputs": [],
   "source": [
    "# Create dictionaries with mapping keys\n",
    "articles_id_to_idx = dict(zip(article_ids, range(num_articles)))\n",
    "customers_id_to_idx = dict(zip(customer_ids, range(num_customers)))"
   ]
  },
  {
   "cell_type": "code",
   "execution_count": 174,
   "id": "45cad210",
   "metadata": {},
   "outputs": [],
   "source": [
    "train_df = transactions_df.copy()\n",
    "train_df = train_df[['customer_id', 'article_id']]\n",
    "\n",
    "num_transactions = train_df.shape[0]\n",
    "\n",
    "train_df['bought'] = np.ones(num_transactions)"
   ]
  },
  {
   "cell_type": "markdown",
   "id": "87e0eb45",
   "metadata": {},
   "source": [
    "- negative sampling"
   ]
  },
  {
   "cell_type": "code",
   "execution_count": 175,
   "id": "1d96a92e",
   "metadata": {},
   "outputs": [],
   "source": [
    "np.random.seed(47)\n",
    "\n",
    "negative_data = pd.DataFrame(\n",
    "    {\n",
    "        'article_id': np.random.permutation(train_df.article_id.values),\n",
    "        'customer_id': train_df.customer_id.values,\n",
    "        'bought': np.zeros(num_transactions)\n",
    "    }\n",
    ")\n",
    "\n",
    "train_df = pd.concat([train_df, negative_data])\n",
    "train_df = train_df.sample(frac=1).reset_index(drop=True)"
   ]
  },
  {
   "cell_type": "markdown",
   "id": "634e5304",
   "metadata": {},
   "source": [
    "- encoding 해주기\n",
    " - training encoding\n",
    " - validation encoding\n",
    " - customer encoding"
   ]
  },
  {
   "cell_type": "code",
   "execution_count": 176,
   "id": "a5da1670",
   "metadata": {},
   "outputs": [],
   "source": [
    "train_df[\"customer_id\"] = train_df[\"customer_id\"].map(\n",
    "        customers_id_to_idx\n",
    "    )\n",
    "train_df[\"article_id\"] = train_df[\"article_id\"].map(\n",
    "    articles_id_to_idx\n",
    ")"
   ]
  },
  {
   "cell_type": "code",
   "execution_count": 177,
   "id": "82c2a700",
   "metadata": {},
   "outputs": [],
   "source": [
    "val_df[\"customer_id\"] = val_df[\"customer_id\"].map(\n",
    "        customers_id_to_idx\n",
    "    )\n",
    "val_df[\"article_id\"] = val_df[\"article_id\"].map(\n",
    "    articles_id_to_idx\n",
    ")"
   ]
  },
  {
   "cell_type": "code",
   "execution_count": 191,
   "id": "35685877",
   "metadata": {},
   "outputs": [],
   "source": [
    "customers_df['customer_id'] = customers_df[\"customer_id\"].map(\n",
    "        customers_id_to_idx\n",
    "    )"
   ]
  },
  {
   "cell_type": "code",
   "execution_count": 200,
   "id": "80314695",
   "metadata": {},
   "outputs": [],
   "source": [
    "customers_df.dropna(subset=['customer_id'],inplace=True)"
   ]
  },
  {
   "cell_type": "markdown",
   "id": "5aa4a512",
   "metadata": {},
   "source": [
    "## make a train and validation"
   ]
  },
  {
   "cell_type": "markdown",
   "id": "4c791521",
   "metadata": {},
   "source": [
    "- 전체 feature의 개수"
   ]
  },
  {
   "cell_type": "code",
   "execution_count": 179,
   "id": "1394fb75",
   "metadata": {},
   "outputs": [
    {
     "name": "stdout",
     "output_type": "stream",
     "text": [
      "전체 feature의 개수: 462775\n",
      "전체 training data point: 5120954\n",
      "전체 test data point: 178001\n"
     ]
    }
   ],
   "source": [
    "nb_features=num_customers+num_articles + 4 # 추가된 numeric, binary features\n",
    "nb_train=len(train_df.index)\n",
    "nb_test=len(val_df.index)\n",
    "print(f\"전체 feature의 개수: {nb_features}\")\n",
    "print(f\"전체 training data point: {nb_train}\")\n",
    "print(f\"전체 test data point: {nb_test}\")"
   ]
  },
  {
   "cell_type": "markdown",
   "id": "6831d581",
   "metadata": {},
   "source": [
    "## Feature Engineering\n",
    " - 유저 Features : Age, Active, Club Member Status, Common Postal Codee\n",
    " - 상품 Features : "
   ]
  },
  {
   "cell_type": "code",
   "execution_count": 185,
   "id": "37909eef",
   "metadata": {},
   "outputs": [],
   "source": [
    "def loadDataset(df, lines, columns,customers_df):\n",
    "    # categorical feature는 one-hot encoding으로 numerical, binary feature들은 그대로 사용\n",
    "    X = lil_matrix((lines, columns)).astype('float32')\n",
    "    # Y 레이블은 np.numpy로 따로 저장\n",
    "    Y = []\n",
    "    # feature로 사용하고자 하는 customers의 데이터를\n",
    "    customers_df = preprocess_customers_df(customers_df,df)\n",
    "    line=0\n",
    "    for index, row in tqdm(df.iterrows(),total=len(df), desc=\"Processing rows\"):\n",
    "            X[line,row['customer_id']] = 1\n",
    "            X[line, num_customers+row['article_id']] = 1\n",
    "            X[line, num_customers + num_articles] = customers_df['age'].iloc[line]\n",
    "            X[line, num_customers + num_articles+1] = customers_df['Active'].iloc[line]\n",
    "            X[line, num_customers + num_articles+2] = customers_df['club_member_status'].iloc[line]\n",
    "            X[line, num_customers + num_articles+3] = customers_df['common_postal_code'].iloc[line]\n",
    "            \n",
    "            Y.append(row['bought'])\n",
    "            line=line+1\n",
    "            #assert line != 10\n",
    "    Y=np.array(Y).astype('float32')            \n",
    "    return X,Y"
   ]
  },
  {
   "cell_type": "code",
   "execution_count": 202,
   "id": "d10d75e7",
   "metadata": {},
   "outputs": [
    {
     "name": "stderr",
     "output_type": "stream",
     "text": [
      "Processing rows: 100%|██████████| 5120954/5120954 [18:21<00:00, 4647.48it/s]\n"
     ]
    }
   ],
   "source": [
    "X_train, Y_train = loadDataset(train_df, nb_train, nb_features,customers_df)"
   ]
  },
  {
   "cell_type": "code",
   "execution_count": 201,
   "id": "7d322bc1",
   "metadata": {},
   "outputs": [
    {
     "name": "stderr",
     "output_type": "stream",
     "text": [
      "Processing rows: 100%|██████████| 178001/178001 [00:38<00:00, 4630.73it/s]\n"
     ]
    }
   ],
   "source": [
    "X_test, Y_test = loadDataset(val_df, nb_test, nb_features,customers_df)"
   ]
  },
  {
   "cell_type": "code",
   "execution_count": 20,
   "id": "20b1b1e0",
   "metadata": {},
   "outputs": [],
   "source": [
    "bucket = 'kanto.public'\n",
    "prefix = 'inflab-extend'\n",
    "\n",
    "if bucket.strip() == '':\n",
    "    raise RuntimeError(\"bucket name is empty.\")\n",
    "\n",
    "train_key      = 'train.protobuf'\n",
    "train_prefix   = '{}/{}'.format(prefix, 'train')\n",
    "\n",
    "test_key       = 'test.protobuf'\n",
    "test_prefix    = '{}/{}'.format(prefix, 'test')\n",
    "\n",
    "output_prefix  = 's3://{}/{}/output'.format(bucket, prefix)"
   ]
  },
  {
   "cell_type": "code",
   "execution_count": 18,
   "id": "66cf7192",
   "metadata": {},
   "outputs": [
    {
     "name": "stdout",
     "output_type": "stream",
     "text": [
      "CPU times: user 3 µs, sys: 1 µs, total: 4 µs\n",
      "Wall time: 6.91 µs\n"
     ]
    }
   ],
   "source": [
    "%%time\n",
    "def writeDatasetToProtobuf(X, bucket, prefix, key, d_type, Y=None):\n",
    "    buf = io.BytesIO()\n",
    "    if d_type == \"sparse\":\n",
    "        smac.write_spmatrix_to_sparse_tensor(buf, X, labels=Y)\n",
    "    else:\n",
    "        smac.write_numpy_to_dense_tensor(buf, X, labels=Y)\n",
    "        \n",
    "    buf.seek(0)\n",
    "    obj = '{}/{}'.format(prefix, key)\n",
    "    boto3.resource('s3').Bucket(bucket).Object(obj).upload_fileobj(buf)\n",
    "    return 's3://{}/{}'.format(bucket,obj)\n",
    "    "
   ]
  },
  {
   "cell_type": "code",
   "execution_count": 207,
   "id": "b24e8256",
   "metadata": {},
   "outputs": [
    {
     "name": "stderr",
     "output_type": "stream",
     "text": [
      "/home/ec2-user/anaconda3/envs/python3/lib/python3.6/site-packages/boto3/compat.py:88: PythonDeprecationWarning: Boto3 will no longer support Python 3.6 starting May 30, 2022. To continue receiving service updates, bug fixes, and security updates please upgrade to Python 3.7 or later. More information can be found here: https://aws.amazon.com/blogs/developer/python-support-policy-updates-for-aws-sdks-and-tools/\n",
      "  warnings.warn(warning, PythonDeprecationWarning)\n"
     ]
    },
    {
     "name": "stdout",
     "output_type": "stream",
     "text": [
      "Training data S3 path:  s3://kanto.public/inflab-extend/train/train.protobuf\n",
      "Test data S3 path:  s3://kanto.public/inflab-extend/test/test.protobuf\n",
      "FM model output S3 path: s3://kanto.public/inflab-extend/output\n",
      "CPU times: user 7min 2s, sys: 18.9 s, total: 7min 21s\n",
      "Wall time: 6min 57s\n"
     ]
    }
   ],
   "source": [
    "fm_train_data_path = writeDatasetToProtobuf(X_train, bucket, train_prefix, train_key, \"sparse\", Y_train)    \n",
    "fm_test_data_path  = writeDatasetToProtobuf(X_test, bucket, test_prefix, test_key, \"sparse\", Y_test)    \n",
    "  \n",
    "print(\"Training data S3 path: \",fm_train_data_path)\n",
    "print(\"Test data S3 path: \",fm_test_data_path)\n",
    "print(\"FM model output S3 path: {}\".format(output_prefix))"
   ]
  },
  {
   "cell_type": "code",
   "execution_count": 208,
   "id": "8385424b",
   "metadata": {},
   "outputs": [
    {
     "name": "stderr",
     "output_type": "stream",
     "text": [
      "WARNING:sagemaker.deprecations:The method get_image_uri has been renamed in sagemaker>=2.\n",
      "See: https://sagemaker.readthedocs.io/en/stable/v2.html for details.\n",
      "WARNING:sagemaker.deprecations:train_instance_count has been renamed in sagemaker>=2.\n",
      "See: https://sagemaker.readthedocs.io/en/stable/v2.html for details.\n",
      "WARNING:sagemaker.deprecations:train_instance_type has been renamed in sagemaker>=2.\n",
      "See: https://sagemaker.readthedocs.io/en/stable/v2.html for details.\n"
     ]
    }
   ],
   "source": [
    "#instance_type='ml.m5.2xlarge'\n",
    "instance_type='ml.c5.4xlarge'\n",
    "fm = sagemaker.estimator.Estimator(get_image_uri(boto3.Session().region_name, \"factorization-machines\"),\n",
    "                                   get_execution_role(), \n",
    "                                   train_instance_count=4, \n",
    "                                   train_instance_type=instance_type,\n",
    "                                   output_path=output_prefix,\n",
    "                                   sagemaker_session=sagemaker.Session())\n",
    "\n",
    "fm.set_hyperparameters(feature_dim=nb_features,\n",
    "                      predictor_type='binary_classifier',\n",
    "                      mini_batch_size=1000,\n",
    "                      num_factors=64,\n",
    "                      epochs=100)\n",
    "\n",
    "fm.fit({'train': 's3://kanto.public/inflab-extend/train/train.protobuf', 'test': fm_test_data_path},wait=False)"
   ]
  },
  {
   "cell_type": "code",
   "execution_count": null,
   "id": "ddb95a58",
   "metadata": {},
   "outputs": [],
   "source": [
    "fm.fit({'train': fm_train_data_path, 'test': fm_test_data_path},wait=False)"
   ]
  },
  {
   "cell_type": "markdown",
   "id": "47178327",
   "metadata": {},
   "source": [
    "# Build KNN model "
   ]
  },
  {
   "cell_type": "code",
   "execution_count": 2,
   "id": "a3dff921",
   "metadata": {},
   "outputs": [
    {
     "name": "stdout",
     "output_type": "stream",
     "text": [
      "Collecting mxnet\n",
      "  Downloading mxnet-1.9.1-py3-none-manylinux2014_x86_64.whl (49.1 MB)\n",
      "     |████████████████████████████████| 49.1 MB 96 kB/s              \n",
      "\u001b[?25hRequirement already satisfied: requests<3,>=2.20.0 in /home/ec2-user/anaconda3/envs/python3/lib/python3.6/site-packages (from mxnet) (2.26.0)\n",
      "Collecting graphviz<0.9.0,>=0.8.1\n",
      "  Downloading graphviz-0.8.4-py2.py3-none-any.whl (16 kB)\n",
      "Requirement already satisfied: numpy<2.0.0,>1.16.0 in /home/ec2-user/anaconda3/envs/python3/lib/python3.6/site-packages (from mxnet) (1.19.5)\n",
      "Requirement already satisfied: idna<4,>=2.5 in /home/ec2-user/anaconda3/envs/python3/lib/python3.6/site-packages (from requests<3,>=2.20.0->mxnet) (3.1)\n",
      "Requirement already satisfied: urllib3<1.27,>=1.21.1 in /home/ec2-user/anaconda3/envs/python3/lib/python3.6/site-packages (from requests<3,>=2.20.0->mxnet) (1.26.8)\n",
      "Requirement already satisfied: charset-normalizer~=2.0.0 in /home/ec2-user/anaconda3/envs/python3/lib/python3.6/site-packages (from requests<3,>=2.20.0->mxnet) (2.0.9)\n",
      "Requirement already satisfied: certifi>=2017.4.17 in /home/ec2-user/anaconda3/envs/python3/lib/python3.6/site-packages (from requests<3,>=2.20.0->mxnet) (2021.5.30)\n",
      "Installing collected packages: graphviz, mxnet\n",
      "Successfully installed graphviz-0.8.4 mxnet-1.9.1\n"
     ]
    }
   ],
   "source": [
    "!pip install mxnet"
   ]
  },
  {
   "cell_type": "code",
   "execution_count": 7,
   "id": "a0428939",
   "metadata": {},
   "outputs": [
    {
     "data": {
      "text/plain": [
       "0"
      ]
     },
     "execution_count": 7,
     "metadata": {},
     "output_type": "execute_result"
    }
   ],
   "source": [
    "import mxnet as mx\n",
    "import os\n",
    "model_file_name = \"model.tar.gz\"\n",
    "model_full_path = \"s3://kanto.public/inflab-extend/output/factorization-machines-2023-11-29-08-23-16-330/output/model.tar.gz\"\n",
    "#Download FM model \n",
    "os.system(\"aws s3 cp \"+model_full_path+ \" .\")\n",
    "os.system(\"tar xzvf \"+model_file_name)\n",
    "os.system(\"unzip -o model_algo-1\")\n",
    "os.system(\"mv symbol.json model-symbol.json\")\n",
    "os.system(\"mv params model-0000.params\")"
   ]
  },
  {
   "cell_type": "code",
   "execution_count": 8,
   "id": "58b4f1fc",
   "metadata": {},
   "outputs": [],
   "source": [
    "m = mx.module.Module.load('./model', 0, False, label_names=['out_label'])\n",
    "V = m._arg_params['v'].asnumpy()\n",
    "w = m._arg_params['w1_weight'].asnumpy()\n",
    "b = m._arg_params['w0_weight'].asnumpy()"
   ]
  },
  {
   "cell_type": "code",
   "execution_count": 9,
   "id": "7cc43bbb",
   "metadata": {},
   "outputs": [
    {
     "data": {
      "text/plain": [
       "(462775, 64)"
      ]
     },
     "execution_count": 9,
     "metadata": {},
     "output_type": "execute_result"
    }
   ],
   "source": [
    "V.shape"
   ]
  },
  {
   "cell_type": "code",
   "execution_count": 10,
   "id": "8ead6cc3",
   "metadata": {},
   "outputs": [
    {
     "data": {
      "text/plain": [
       "(462775, 1)"
      ]
     },
     "execution_count": 10,
     "metadata": {},
     "output_type": "execute_result"
    }
   ],
   "source": [
    "w.shape"
   ]
  },
  {
   "cell_type": "code",
   "execution_count": 15,
   "id": "21c4e96a",
   "metadata": {},
   "outputs": [],
   "source": [
    "# item latent matrix - concat(V[i], w[i]).  \n",
    "knn_item_matrix = np.concatenate((V[445377:445377+17394], w[445377:445377+17394]), axis=1)\n",
    "knn_train_label = np.arange(17394)\n",
    "\n",
    "#user latent matrix - concat (V[u], 1) \n",
    "ones = np.ones(445377).reshape((445377, 1))\n",
    "knn_user_matrix = np.concatenate((V[:445377], ones), axis=1)"
   ]
  },
  {
   "cell_type": "code",
   "execution_count": 21,
   "id": "33c15452",
   "metadata": {},
   "outputs": [
    {
     "name": "stdout",
     "output_type": "stream",
     "text": [
      "KNN train features shape =  (17394, 65)\n"
     ]
    },
    {
     "name": "stderr",
     "output_type": "stream",
     "text": [
      "/home/ec2-user/anaconda3/envs/python3/lib/python3.6/site-packages/boto3/compat.py:88: PythonDeprecationWarning: Boto3 will no longer support Python 3.6 starting May 30, 2022. To continue receiving service updates, bug fixes, and security updates please upgrade to Python 3.7 or later. More information can be found here: https://aws.amazon.com/blogs/developer/python-support-policy-updates-for-aws-sdks-and-tools/\n",
      "  warnings.warn(warning, PythonDeprecationWarning)\n"
     ]
    },
    {
     "name": "stdout",
     "output_type": "stream",
     "text": [
      "uploaded KNN train data: s3://kanto.public/inflab-extend/knn/train.protobuf\n"
     ]
    }
   ],
   "source": [
    "print('KNN train features shape = ', knn_item_matrix.shape)\n",
    "bucket = 'kanto.public'\n",
    "knn_prefix = 'inflab-extend/knn'\n",
    "knn_output_prefix  = 's3://{}/{}/output'.format(bucket, knn_prefix)\n",
    "knn_train_data_path = writeDatasetToProtobuf(knn_item_matrix, bucket, knn_prefix, train_key, \"dense\", knn_train_label)\n",
    "print('uploaded KNN train data: {}'.format(knn_train_data_path))"
   ]
  },
  {
   "cell_type": "code",
   "execution_count": 83,
   "id": "61df915d",
   "metadata": {},
   "outputs": [
    {
     "data": {
      "text/plain": [
       "array([-1.02020393e-03, -6.15481753e-04,  1.69058028e-03,  1.41442684e-03,\n",
       "        4.81207680e-04,  1.08488915e-04, -5.61226218e-04,  6.70878871e-05,\n",
       "        6.77982578e-04, -2.37829183e-04, -8.49267293e-04,  1.26664600e-04,\n",
       "        3.85732739e-04, -1.83520126e-04,  2.16518965e-04,  7.43333250e-04,\n",
       "        1.17466634e-03, -1.18313951e-03, -6.96834933e-04,  1.02745078e-03,\n",
       "        1.08534913e-03,  2.01333733e-05, -2.12530326e-03,  6.78313721e-04,\n",
       "        5.43291273e-04,  3.62173421e-04,  7.63809949e-05,  1.07053563e-03,\n",
       "       -6.00218598e-04,  1.16842543e-03, -3.51635332e-04,  1.76417804e-03,\n",
       "        2.96203914e-04,  2.31795688e-03, -9.85596329e-04, -3.58214951e-04,\n",
       "        1.03862642e-03,  6.81627425e-04,  2.93109246e-04, -6.58792735e-04,\n",
       "       -8.23677576e-04,  3.16859660e-04, -1.66957651e-03,  1.14991017e-04,\n",
       "        8.22708185e-04,  4.83559299e-04,  2.03278172e-03,  3.96121555e-04,\n",
       "       -1.29694073e-03,  2.70962453e-04,  2.25974145e-04,  1.77530746e-03,\n",
       "       -8.99909355e-04,  9.57234297e-04,  7.71740335e-04, -2.23883937e-04,\n",
       "       -8.05486998e-05, -5.04432210e-05, -4.23391117e-04,  1.47177643e-05,\n",
       "        1.07748274e-04, -6.47693872e-04,  2.18555229e-04, -8.44015958e-05,\n",
       "        1.73698608e-02], dtype=float32)"
      ]
     },
     "execution_count": 83,
     "metadata": {},
     "output_type": "execute_result"
    }
   ],
   "source": [
    "knn_item_matrix[0]"
   ]
  },
  {
   "cell_type": "code",
   "execution_count": 22,
   "id": "3b6ff8af",
   "metadata": {},
   "outputs": [
    {
     "name": "stderr",
     "output_type": "stream",
     "text": [
      "The method get_image_uri has been renamed in sagemaker>=2.\n",
      "See: https://sagemaker.readthedocs.io/en/stable/v2.html for details.\n",
      "train_instance_count has been renamed in sagemaker>=2.\n",
      "See: https://sagemaker.readthedocs.io/en/stable/v2.html for details.\n",
      "train_instance_type has been renamed in sagemaker>=2.\n",
      "See: https://sagemaker.readthedocs.io/en/stable/v2.html for details.\n"
     ]
    }
   ],
   "source": [
    "nb_recommendations = 12\n",
    "instance_type='ml.c5.4xlarge'\n",
    "# set up the estimator\n",
    "knn = sagemaker.estimator.Estimator(get_image_uri(boto3.Session().region_name, \"knn\"),\n",
    "    get_execution_role(),\n",
    "    train_instance_count=1,\n",
    "    train_instance_type=instance_type,\n",
    "    output_path=knn_output_prefix,\n",
    "    sagemaker_session=sagemaker.Session())\n",
    "\n",
    "knn.set_hyperparameters(feature_dim=knn_item_matrix.shape[1], k=nb_recommendations, index_metric=\"INNER_PRODUCT\", predictor_type='classifier', sample_size=10000)\n",
    "fit_input = {'train': knn_train_data_path}\n",
    "knn.fit(fit_input,wait=False)\n",
    "knn_model_name =  knn.latest_training_job.job_name"
   ]
  },
  {
   "cell_type": "code",
   "execution_count": 63,
   "id": "b91148b6",
   "metadata": {},
   "outputs": [
    {
     "name": "stdout",
     "output_type": "stream",
     "text": [
      "---------!"
     ]
    },
    {
     "data": {
      "text/plain": [
       "<sagemaker.predictor.Predictor at 0x7fb89adc8fd0>"
      ]
     },
     "execution_count": 63,
     "metadata": {},
     "output_type": "execute_result"
    }
   ],
   "source": [
    "knn.deploy(instance_type='ml.m5.large',initial_instance_count=1)"
   ]
  },
  {
   "cell_type": "code",
   "execution_count": 66,
   "id": "29cc2e13",
   "metadata": {},
   "outputs": [],
   "source": [
    "import sagemaker\n",
    "from sagemaker.predictor import RealTimePredictor\n",
    "from sagemaker import get_execution_role"
   ]
  },
  {
   "cell_type": "code",
   "execution_count": 72,
   "id": "43c50f2d",
   "metadata": {},
   "outputs": [],
   "source": [
    "predictor = sagemaker.KNNPredictor(endpoint_name='knn-2023-11-30-08-16-33-857', sagemaker_session=sagemaker.Session())"
   ]
  },
  {
   "cell_type": "code",
   "execution_count": 85,
   "id": "367d83bd",
   "metadata": {},
   "outputs": [
    {
     "data": {
      "text/plain": [
       "[label {\n",
       "   key: \"predicted_label\"\n",
       "   value {\n",
       "     float64_tensor {\n",
       "       values: 1575.0\n",
       "     }\n",
       "   }\n",
       " }]"
      ]
     },
     "execution_count": 85,
     "metadata": {},
     "output_type": "execute_result"
    }
   ],
   "source": [
    "predictor.predict(data=knn_user_matrix[1424])"
   ]
  }
 ],
 "metadata": {
  "kernelspec": {
   "display_name": "conda_python3",
   "language": "python",
   "name": "conda_python3"
  },
  "language_info": {
   "codemirror_mode": {
    "name": "ipython",
    "version": 3
   },
   "file_extension": ".py",
   "mimetype": "text/x-python",
   "name": "python",
   "nbconvert_exporter": "python",
   "pygments_lexer": "ipython3",
   "version": "3.6.13"
  }
 },
 "nbformat": 4,
 "nbformat_minor": 5
}
