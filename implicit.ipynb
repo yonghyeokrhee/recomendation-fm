{
 "cells": [
  {
   "cell_type": "code",
   "execution_count": 1,
   "id": "82605a5f",
   "metadata": {
    "ExecuteTime": {
     "end_time": "2023-11-27T08:42:39.412454Z",
     "start_time": "2023-11-27T08:42:39.396586Z"
    },
    "collapsed": false,
    "jupyter": {
     "outputs_hidden": false
    }
   },
   "outputs": [],
   "source": [
    "import os; os.environ['OPENBLAS_NUM_THREADS']='1'"
   ]
  },
  {
   "cell_type": "code",
   "execution_count": 3,
   "id": "e4a17fd8",
   "metadata": {},
   "outputs": [
    {
     "name": "stdout",
     "output_type": "stream",
     "text": [
      "Collecting implicit\n",
      "  Downloading implicit-0.7.2-cp36-cp36m-manylinux2014_x86_64.whl (8.9 MB)\n",
      "     |████████████████████████████████| 8.9 MB 17.8 MB/s            \n",
      "\u001b[?25hRequirement already satisfied: tqdm>=4.27 in /home/ec2-user/anaconda3/envs/pytorch_p36/lib/python3.6/site-packages (from implicit) (4.61.1)\n",
      "Requirement already satisfied: scipy>=0.16 in /home/ec2-user/anaconda3/envs/pytorch_p36/lib/python3.6/site-packages (from implicit) (1.5.3)\n",
      "Requirement already satisfied: threadpoolctl in /home/ec2-user/anaconda3/envs/pytorch_p36/lib/python3.6/site-packages (from implicit) (2.1.0)\n",
      "Requirement already satisfied: numpy>=1.17.0 in /home/ec2-user/anaconda3/envs/pytorch_p36/lib/python3.6/site-packages (from implicit) (1.19.5)\n",
      "Installing collected packages: implicit\n",
      "Successfully installed implicit-0.7.2\n"
     ]
    }
   ],
   "source": [
    "!pip install implicit"
   ]
  },
  {
   "cell_type": "code",
   "execution_count": 4,
   "id": "d31fb59c",
   "metadata": {
    "ExecuteTime": {
     "end_time": "2023-11-29T08:52:42.247900Z",
     "start_time": "2023-11-29T08:52:42.219288Z"
    }
   },
   "outputs": [],
   "source": [
    "import numpy as np\n",
    "import pandas as pd\n",
    "import implicit\n",
    "from scipy.sparse import coo_matrix\n",
    "from implicit.evaluation import mean_average_precision_at_k"
   ]
  },
  {
   "cell_type": "raw",
   "id": "6c4e50f2",
   "metadata": {
    "ExecuteTime": {
     "end_time": "2023-11-29T08:32:03.079443Z",
     "start_time": "2023-11-29T08:31:17.552120Z"
    },
    "jupyter": {
     "outputs_hidden": false
    }
   },
   "source": [
    "transactions_df = pd.read_csv(\"data/h-and-m-personalized-fashion-recommendations/transactions_train.csv\")\n",
    "customers_df = pd.read_csv('data/h-and-m-personalized-fashion-recommendations/customers.csv')\n",
    "articles_df = pd.read_csv('data/h-and-m-personalized-fashion-recommendations/articles.csv')"
   ]
  },
  {
   "cell_type": "code",
   "execution_count": 6,
   "id": "66287e2e",
   "metadata": {},
   "outputs": [],
   "source": [
    "transactions_df = pd.read_csv(\"data/transactions_sm.csv\")"
   ]
  },
  {
   "cell_type": "code",
   "execution_count": 7,
   "id": "b4476295",
   "metadata": {},
   "outputs": [],
   "source": [
    "customers_df = pd.read_csv('data/customers_sm.csv')\n",
    "articles_df = pd.read_csv('data/articles_sm.csv')"
   ]
  },
  {
   "cell_type": "code",
   "execution_count": 20,
   "id": "333d866e",
   "metadata": {},
   "outputs": [],
   "source": [
    "customers_org = pd.read_csv('customers.csv')\n"
   ]
  },
  {
   "cell_type": "code",
   "execution_count": 8,
   "id": "3d1a9310",
   "metadata": {
    "ExecuteTime": {
     "end_time": "2023-11-29T08:32:08.187864Z",
     "start_time": "2023-11-29T08:32:03.869454Z"
    },
    "collapsed": false,
    "jupyter": {
     "outputs_hidden": false
    }
   },
   "outputs": [],
   "source": [
    "start_date = pd.to_datetime('2020-07-01')\n",
    "end_date = pd.to_datetime('2020-09-22')\n",
    "\n",
    "# Filter transactions by date\n",
    "transactions_df.t_dat = pd.to_datetime(transactions_df.t_dat)\n",
    "transactions_df = transactions_df.loc[transactions_df.t_dat >= start_date]\n",
    "transactions_df = transactions_df.loc[transactions_df.t_dat < end_date]"
   ]
  },
  {
   "cell_type": "code",
   "execution_count": 9,
   "id": "257efc77",
   "metadata": {
    "ExecuteTime": {
     "end_time": "2023-11-29T08:32:08.238879Z",
     "start_time": "2023-11-29T08:32:08.206915Z"
    },
    "collapsed": false,
    "jupyter": {
     "outputs_hidden": false
    }
   },
   "outputs": [
    {
     "data": {
      "text/html": [
       "<div>\n",
       "<style scoped>\n",
       "    .dataframe tbody tr th:only-of-type {\n",
       "        vertical-align: middle;\n",
       "    }\n",
       "\n",
       "    .dataframe tbody tr th {\n",
       "        vertical-align: top;\n",
       "    }\n",
       "\n",
       "    .dataframe thead th {\n",
       "        text-align: right;\n",
       "    }\n",
       "</style>\n",
       "<table border=\"1\" class=\"dataframe\">\n",
       "  <thead>\n",
       "    <tr style=\"text-align: right;\">\n",
       "      <th></th>\n",
       "      <th>customer_id</th>\n",
       "      <th>FN</th>\n",
       "      <th>Active</th>\n",
       "      <th>club_member_status</th>\n",
       "      <th>fashion_news_frequency</th>\n",
       "      <th>age</th>\n",
       "      <th>postal_code</th>\n",
       "      <th>common_postal_code</th>\n",
       "    </tr>\n",
       "  </thead>\n",
       "  <tbody>\n",
       "    <tr>\n",
       "      <th>0</th>\n",
       "      <td>00000dbacae5abe5e23885899a1fa44253a17956c6d1c3...</td>\n",
       "      <td>NaN</td>\n",
       "      <td>0.0</td>\n",
       "      <td>False</td>\n",
       "      <td>NONE</td>\n",
       "      <td>49.0</td>\n",
       "      <td>52043ee2162cf5aa7ee79974281641c6f11a68d276429a...</td>\n",
       "      <td>False</td>\n",
       "    </tr>\n",
       "    <tr>\n",
       "      <th>1</th>\n",
       "      <td>0000423b00ade91418cceaf3b26c6af3dd342b51fd051e...</td>\n",
       "      <td>NaN</td>\n",
       "      <td>0.0</td>\n",
       "      <td>False</td>\n",
       "      <td>NONE</td>\n",
       "      <td>25.0</td>\n",
       "      <td>2973abc54daa8a5f8ccfe9362140c63247c5eee03f1d93...</td>\n",
       "      <td>False</td>\n",
       "    </tr>\n",
       "    <tr>\n",
       "      <th>2</th>\n",
       "      <td>000058a12d5b43e67d225668fa1f8d618c13dc232df0ca...</td>\n",
       "      <td>NaN</td>\n",
       "      <td>0.0</td>\n",
       "      <td>False</td>\n",
       "      <td>NONE</td>\n",
       "      <td>24.0</td>\n",
       "      <td>64f17e6a330a85798e4998f62d0930d14db8db1c054af6...</td>\n",
       "      <td>False</td>\n",
       "    </tr>\n",
       "    <tr>\n",
       "      <th>3</th>\n",
       "      <td>00005ca1c9ed5f5146b52ac8639a40ca9d57aeff4d1bd2...</td>\n",
       "      <td>NaN</td>\n",
       "      <td>0.0</td>\n",
       "      <td>False</td>\n",
       "      <td>NONE</td>\n",
       "      <td>54.0</td>\n",
       "      <td>5d36574f52495e81f019b680c843c443bd343d5ca5b1c2...</td>\n",
       "      <td>False</td>\n",
       "    </tr>\n",
       "    <tr>\n",
       "      <th>4</th>\n",
       "      <td>00006413d8573cd20ed7128e53b7b13819fe5cfc2d801f...</td>\n",
       "      <td>1.0</td>\n",
       "      <td>1.0</td>\n",
       "      <td>False</td>\n",
       "      <td>Regularly</td>\n",
       "      <td>52.0</td>\n",
       "      <td>25fa5ddee9aac01b35208d01736e57942317d756b32ddd...</td>\n",
       "      <td>False</td>\n",
       "    </tr>\n",
       "    <tr>\n",
       "      <th>...</th>\n",
       "      <td>...</td>\n",
       "      <td>...</td>\n",
       "      <td>...</td>\n",
       "      <td>...</td>\n",
       "      <td>...</td>\n",
       "      <td>...</td>\n",
       "      <td>...</td>\n",
       "      <td>...</td>\n",
       "    </tr>\n",
       "    <tr>\n",
       "      <th>1371975</th>\n",
       "      <td>ffffbbf78b6eaac697a8a5dfbfd2bfa8113ee5b403e474...</td>\n",
       "      <td>NaN</td>\n",
       "      <td>0.0</td>\n",
       "      <td>False</td>\n",
       "      <td>NONE</td>\n",
       "      <td>24.0</td>\n",
       "      <td>7aa399f7e669990daba2d92c577b52237380662f36480b...</td>\n",
       "      <td>False</td>\n",
       "    </tr>\n",
       "    <tr>\n",
       "      <th>1371976</th>\n",
       "      <td>ffffcd5046a6143d29a04fb8c424ce494a76e5cdf4fab5...</td>\n",
       "      <td>NaN</td>\n",
       "      <td>0.0</td>\n",
       "      <td>False</td>\n",
       "      <td>NONE</td>\n",
       "      <td>21.0</td>\n",
       "      <td>3f47f1279beb72215f4de557d950e0bfa73789d24acb5e...</td>\n",
       "      <td>False</td>\n",
       "    </tr>\n",
       "    <tr>\n",
       "      <th>1371977</th>\n",
       "      <td>ffffcf35913a0bee60e8741cb2b4e78b8a98ee5ff2e6a1...</td>\n",
       "      <td>1.0</td>\n",
       "      <td>1.0</td>\n",
       "      <td>False</td>\n",
       "      <td>Regularly</td>\n",
       "      <td>21.0</td>\n",
       "      <td>4563fc79215672cd6a863f2b4bf56b8f898f2d96ed590e...</td>\n",
       "      <td>False</td>\n",
       "    </tr>\n",
       "    <tr>\n",
       "      <th>1371978</th>\n",
       "      <td>ffffd7744cebcf3aca44ae7049d2a94b87074c3d4ffe38...</td>\n",
       "      <td>1.0</td>\n",
       "      <td>1.0</td>\n",
       "      <td>False</td>\n",
       "      <td>Regularly</td>\n",
       "      <td>18.0</td>\n",
       "      <td>8892c18e9bc3dca6aa4000cb8094fc4b51ee8db2ed14d7...</td>\n",
       "      <td>False</td>\n",
       "    </tr>\n",
       "    <tr>\n",
       "      <th>1371979</th>\n",
       "      <td>ffffd9ac14e89946416d80e791d064701994755c3ab686...</td>\n",
       "      <td>NaN</td>\n",
       "      <td>0.0</td>\n",
       "      <td>False</td>\n",
       "      <td>NONE</td>\n",
       "      <td>65.0</td>\n",
       "      <td>0a1a03306fb2f62164c2a439b38c0caa64b40deaae8687...</td>\n",
       "      <td>False</td>\n",
       "    </tr>\n",
       "  </tbody>\n",
       "</table>\n",
       "<p>1371980 rows × 8 columns</p>\n",
       "</div>"
      ],
      "text/plain": [
       "                                               customer_id   FN  Active  \\\n",
       "0        00000dbacae5abe5e23885899a1fa44253a17956c6d1c3...  NaN     0.0   \n",
       "1        0000423b00ade91418cceaf3b26c6af3dd342b51fd051e...  NaN     0.0   \n",
       "2        000058a12d5b43e67d225668fa1f8d618c13dc232df0ca...  NaN     0.0   \n",
       "3        00005ca1c9ed5f5146b52ac8639a40ca9d57aeff4d1bd2...  NaN     0.0   \n",
       "4        00006413d8573cd20ed7128e53b7b13819fe5cfc2d801f...  1.0     1.0   \n",
       "...                                                    ...  ...     ...   \n",
       "1371975  ffffbbf78b6eaac697a8a5dfbfd2bfa8113ee5b403e474...  NaN     0.0   \n",
       "1371976  ffffcd5046a6143d29a04fb8c424ce494a76e5cdf4fab5...  NaN     0.0   \n",
       "1371977  ffffcf35913a0bee60e8741cb2b4e78b8a98ee5ff2e6a1...  1.0     1.0   \n",
       "1371978  ffffd7744cebcf3aca44ae7049d2a94b87074c3d4ffe38...  1.0     1.0   \n",
       "1371979  ffffd9ac14e89946416d80e791d064701994755c3ab686...  NaN     0.0   \n",
       "\n",
       "         club_member_status fashion_news_frequency   age  \\\n",
       "0                     False                   NONE  49.0   \n",
       "1                     False                   NONE  25.0   \n",
       "2                     False                   NONE  24.0   \n",
       "3                     False                   NONE  54.0   \n",
       "4                     False              Regularly  52.0   \n",
       "...                     ...                    ...   ...   \n",
       "1371975               False                   NONE  24.0   \n",
       "1371976               False                   NONE  21.0   \n",
       "1371977               False              Regularly  21.0   \n",
       "1371978               False              Regularly  18.0   \n",
       "1371979               False                   NONE  65.0   \n",
       "\n",
       "                                               postal_code  common_postal_code  \n",
       "0        52043ee2162cf5aa7ee79974281641c6f11a68d276429a...               False  \n",
       "1        2973abc54daa8a5f8ccfe9362140c63247c5eee03f1d93...               False  \n",
       "2        64f17e6a330a85798e4998f62d0930d14db8db1c054af6...               False  \n",
       "3        5d36574f52495e81f019b680c843c443bd343d5ca5b1c2...               False  \n",
       "4        25fa5ddee9aac01b35208d01736e57942317d756b32ddd...               False  \n",
       "...                                                    ...                 ...  \n",
       "1371975  7aa399f7e669990daba2d92c577b52237380662f36480b...               False  \n",
       "1371976  3f47f1279beb72215f4de557d950e0bfa73789d24acb5e...               False  \n",
       "1371977  4563fc79215672cd6a863f2b4bf56b8f898f2d96ed590e...               False  \n",
       "1371978  8892c18e9bc3dca6aa4000cb8094fc4b51ee8db2ed14d7...               False  \n",
       "1371979  0a1a03306fb2f62164c2a439b38c0caa64b40deaae8687...               False  \n",
       "\n",
       "[1371980 rows x 8 columns]"
      ]
     },
     "execution_count": 9,
     "metadata": {},
     "output_type": "execute_result"
    }
   ],
   "source": [
    "pd.options.display.max_rows = 50\n",
    "customers_df"
   ]
  },
  {
   "cell_type": "code",
   "execution_count": 10,
   "id": "a6575a46",
   "metadata": {
    "ExecuteTime": {
     "end_time": "2023-11-29T08:32:08.895655Z",
     "start_time": "2023-11-29T08:32:08.282238Z"
    },
    "collapsed": false,
    "jupyter": {
     "outputs_hidden": false
    }
   },
   "outputs": [
    {
     "data": {
      "text/plain": [
       "0"
      ]
     },
     "execution_count": 10,
     "metadata": {},
     "output_type": "execute_result"
    }
   ],
   "source": [
    "customers_df.shape[0] - customers_df['customer_id'].nunique()"
   ]
  },
  {
   "cell_type": "code",
   "execution_count": 11,
   "id": "331db854",
   "metadata": {
    "ExecuteTime": {
     "end_time": "2023-11-29T08:32:11.578450Z",
     "start_time": "2023-11-29T08:32:08.938293Z"
    },
    "collapsed": false,
    "jupyter": {
     "outputs_hidden": false
    }
   },
   "outputs": [
    {
     "data": {
      "text/html": [
       "<div>\n",
       "<style scoped>\n",
       "    .dataframe tbody tr th:only-of-type {\n",
       "        vertical-align: middle;\n",
       "    }\n",
       "\n",
       "    .dataframe tbody tr th {\n",
       "        vertical-align: top;\n",
       "    }\n",
       "\n",
       "    .dataframe thead th {\n",
       "        text-align: right;\n",
       "    }\n",
       "</style>\n",
       "<table border=\"1\" class=\"dataframe\">\n",
       "  <thead>\n",
       "    <tr style=\"text-align: right;\">\n",
       "      <th></th>\n",
       "      <th>postal_code</th>\n",
       "      <th>customer_id</th>\n",
       "      <th>FN</th>\n",
       "      <th>Active</th>\n",
       "      <th>club_member_status</th>\n",
       "      <th>fashion_news_frequency</th>\n",
       "      <th>age</th>\n",
       "      <th>common_postal_code</th>\n",
       "    </tr>\n",
       "  </thead>\n",
       "  <tbody>\n",
       "    <tr>\n",
       "      <th>61034</th>\n",
       "      <td>2c29ae653a9282cce4151bd87643c907644e09541abc28...</td>\n",
       "      <td>120303</td>\n",
       "      <td>42874</td>\n",
       "      <td>120303</td>\n",
       "      <td>120303</td>\n",
       "      <td>114377</td>\n",
       "      <td>120303</td>\n",
       "      <td>120303</td>\n",
       "    </tr>\n",
       "    <tr>\n",
       "      <th>281937</th>\n",
       "      <td>cc4ed85e30f4977dae47662ddc468cd2eec11472de6fac...</td>\n",
       "      <td>261</td>\n",
       "      <td>109</td>\n",
       "      <td>261</td>\n",
       "      <td>261</td>\n",
       "      <td>261</td>\n",
       "      <td>261</td>\n",
       "      <td>261</td>\n",
       "    </tr>\n",
       "    <tr>\n",
       "      <th>156090</th>\n",
       "      <td>714976379549eb90aae4a71bca6c7402cc646ae7c40f6c...</td>\n",
       "      <td>159</td>\n",
       "      <td>90</td>\n",
       "      <td>159</td>\n",
       "      <td>159</td>\n",
       "      <td>159</td>\n",
       "      <td>159</td>\n",
       "      <td>159</td>\n",
       "    </tr>\n",
       "    <tr>\n",
       "      <th>171208</th>\n",
       "      <td>7c1fa3b0ec1d37ce2c3f34f63bd792f3b4494f324b6be5...</td>\n",
       "      <td>157</td>\n",
       "      <td>55</td>\n",
       "      <td>157</td>\n",
       "      <td>157</td>\n",
       "      <td>156</td>\n",
       "      <td>157</td>\n",
       "      <td>157</td>\n",
       "    </tr>\n",
       "    <tr>\n",
       "      <th>126228</th>\n",
       "      <td>5b7eb31eabebd3277de632b82267286d847fd5d44287ee...</td>\n",
       "      <td>156</td>\n",
       "      <td>42</td>\n",
       "      <td>156</td>\n",
       "      <td>156</td>\n",
       "      <td>156</td>\n",
       "      <td>156</td>\n",
       "      <td>156</td>\n",
       "    </tr>\n",
       "  </tbody>\n",
       "</table>\n",
       "</div>"
      ],
      "text/plain": [
       "                                              postal_code  customer_id     FN  \\\n",
       "61034   2c29ae653a9282cce4151bd87643c907644e09541abc28...       120303  42874   \n",
       "281937  cc4ed85e30f4977dae47662ddc468cd2eec11472de6fac...          261    109   \n",
       "156090  714976379549eb90aae4a71bca6c7402cc646ae7c40f6c...          159     90   \n",
       "171208  7c1fa3b0ec1d37ce2c3f34f63bd792f3b4494f324b6be5...          157     55   \n",
       "126228  5b7eb31eabebd3277de632b82267286d847fd5d44287ee...          156     42   \n",
       "\n",
       "        Active  club_member_status  fashion_news_frequency     age  \\\n",
       "61034   120303              120303                  114377  120303   \n",
       "281937     261                 261                     261     261   \n",
       "156090     159                 159                     159     159   \n",
       "171208     157                 157                     156     157   \n",
       "126228     156                 156                     156     156   \n",
       "\n",
       "        common_postal_code  \n",
       "61034               120303  \n",
       "281937                 261  \n",
       "156090                 159  \n",
       "171208                 157  \n",
       "126228                 156  "
      ]
     },
     "execution_count": 11,
     "metadata": {},
     "output_type": "execute_result"
    }
   ],
   "source": [
    "data_postal = customers_df.groupby('postal_code', as_index=False).count().sort_values('customer_id', ascending=False)\n",
    "data_postal.head()"
   ]
  },
  {
   "cell_type": "code",
   "execution_count": 12,
   "id": "5cc17c87",
   "metadata": {
    "ExecuteTime": {
     "end_time": "2023-11-29T08:32:11.782261Z",
     "start_time": "2023-11-29T08:32:11.678297Z"
    },
    "collapsed": false,
    "jupyter": {
     "outputs_hidden": false
    }
   },
   "outputs": [
    {
     "data": {
      "text/html": [
       "<div>\n",
       "<style scoped>\n",
       "    .dataframe tbody tr th:only-of-type {\n",
       "        vertical-align: middle;\n",
       "    }\n",
       "\n",
       "    .dataframe tbody tr th {\n",
       "        vertical-align: top;\n",
       "    }\n",
       "\n",
       "    .dataframe thead th {\n",
       "        text-align: right;\n",
       "    }\n",
       "</style>\n",
       "<table border=\"1\" class=\"dataframe\">\n",
       "  <thead>\n",
       "    <tr style=\"text-align: right;\">\n",
       "      <th></th>\n",
       "      <th>customer_id</th>\n",
       "      <th>FN</th>\n",
       "      <th>Active</th>\n",
       "      <th>club_member_status</th>\n",
       "      <th>fashion_news_frequency</th>\n",
       "      <th>age</th>\n",
       "      <th>postal_code</th>\n",
       "      <th>common_postal_code</th>\n",
       "    </tr>\n",
       "  </thead>\n",
       "  <tbody>\n",
       "    <tr>\n",
       "      <th>5</th>\n",
       "      <td>000064249685c11552da43ef22a5030f35a147f723d5b0...</td>\n",
       "      <td>NaN</td>\n",
       "      <td>0.0</td>\n",
       "      <td>False</td>\n",
       "      <td>NaN</td>\n",
       "      <td>36.386965</td>\n",
       "      <td>2c29ae653a9282cce4151bd87643c907644e09541abc28...</td>\n",
       "      <td>True</td>\n",
       "    </tr>\n",
       "    <tr>\n",
       "      <th>8</th>\n",
       "      <td>00007e8d4e54114b5b2a9b51586325a8d0fa74ea23ef77...</td>\n",
       "      <td>NaN</td>\n",
       "      <td>0.0</td>\n",
       "      <td>False</td>\n",
       "      <td>NONE</td>\n",
       "      <td>20.000000</td>\n",
       "      <td>2c29ae653a9282cce4151bd87643c907644e09541abc28...</td>\n",
       "      <td>True</td>\n",
       "    </tr>\n",
       "    <tr>\n",
       "      <th>9</th>\n",
       "      <td>00008469a21b50b3d147c97135e25b4201a8c58997f787...</td>\n",
       "      <td>NaN</td>\n",
       "      <td>0.0</td>\n",
       "      <td>False</td>\n",
       "      <td>NONE</td>\n",
       "      <td>20.000000</td>\n",
       "      <td>2c29ae653a9282cce4151bd87643c907644e09541abc28...</td>\n",
       "      <td>True</td>\n",
       "    </tr>\n",
       "    <tr>\n",
       "      <th>11</th>\n",
       "      <td>000097d91384a0c14893c09ed047a963c4fc6a5c021044...</td>\n",
       "      <td>NaN</td>\n",
       "      <td>0.0</td>\n",
       "      <td>False</td>\n",
       "      <td>NONE</td>\n",
       "      <td>31.000000</td>\n",
       "      <td>2c29ae653a9282cce4151bd87643c907644e09541abc28...</td>\n",
       "      <td>True</td>\n",
       "    </tr>\n",
       "    <tr>\n",
       "      <th>14</th>\n",
       "      <td>0000ae1bbb25e04bdc7e35f718e852adfb3fbb72ef38b3...</td>\n",
       "      <td>1.0</td>\n",
       "      <td>1.0</td>\n",
       "      <td>False</td>\n",
       "      <td>Regularly</td>\n",
       "      <td>29.000000</td>\n",
       "      <td>2c29ae653a9282cce4151bd87643c907644e09541abc28...</td>\n",
       "      <td>True</td>\n",
       "    </tr>\n",
       "  </tbody>\n",
       "</table>\n",
       "</div>"
      ],
      "text/plain": [
       "                                          customer_id   FN  Active  \\\n",
       "5   000064249685c11552da43ef22a5030f35a147f723d5b0...  NaN     0.0   \n",
       "8   00007e8d4e54114b5b2a9b51586325a8d0fa74ea23ef77...  NaN     0.0   \n",
       "9   00008469a21b50b3d147c97135e25b4201a8c58997f787...  NaN     0.0   \n",
       "11  000097d91384a0c14893c09ed047a963c4fc6a5c021044...  NaN     0.0   \n",
       "14  0000ae1bbb25e04bdc7e35f718e852adfb3fbb72ef38b3...  1.0     1.0   \n",
       "\n",
       "    club_member_status fashion_news_frequency        age  \\\n",
       "5                False                    NaN  36.386965   \n",
       "8                False                   NONE  20.000000   \n",
       "9                False                   NONE  20.000000   \n",
       "11               False                   NONE  31.000000   \n",
       "14               False              Regularly  29.000000   \n",
       "\n",
       "                                          postal_code  common_postal_code  \n",
       "5   2c29ae653a9282cce4151bd87643c907644e09541abc28...                True  \n",
       "8   2c29ae653a9282cce4151bd87643c907644e09541abc28...                True  \n",
       "9   2c29ae653a9282cce4151bd87643c907644e09541abc28...                True  \n",
       "11  2c29ae653a9282cce4151bd87643c907644e09541abc28...                True  \n",
       "14  2c29ae653a9282cce4151bd87643c907644e09541abc28...                True  "
      ]
     },
     "execution_count": 12,
     "metadata": {},
     "output_type": "execute_result"
    }
   ],
   "source": [
    "customers_df[customers_df['postal_code']=='2c29ae653a9282cce4151bd87643c907644e09541abc28ae87dea0d1f6603b1c'].head(5)"
   ]
  },
  {
   "cell_type": "code",
   "execution_count": 13,
   "id": "1150c118",
   "metadata": {
    "ExecuteTime": {
     "end_time": "2023-11-29T08:52:46.322796Z",
     "start_time": "2023-11-29T08:52:46.284029Z"
    },
    "collapsed": false,
    "jupyter": {
     "outputs_hidden": false
    }
   },
   "outputs": [
    {
     "name": "stderr",
     "output_type": "stream",
     "text": [
      "Matplotlib is building the font cache; this may take a moment.\n"
     ]
    }
   ],
   "source": [
    "import seaborn as sns\n",
    "from matplotlib import pyplot as plt"
   ]
  },
  {
   "cell_type": "code",
   "execution_count": 14,
   "id": "59db8dad",
   "metadata": {
    "ExecuteTime": {
     "end_time": "2023-11-27T07:52:59.404660Z",
     "start_time": "2023-11-27T07:52:56.724672Z"
    },
    "collapsed": false,
    "jupyter": {
     "outputs_hidden": false
    }
   },
   "outputs": [
    {
     "data": {
      "image/png": "[encoded data removed]",
      "text/plain": [
       "<Figure size 720x360 with 1 Axes>"
      ]
     },
     "metadata": {},
     "output_type": "display_data"
    }
   ],
   "source": [
    "\n",
    "sns.set_style(\"darkgrid\")\n",
    "f, ax = plt.subplots(figsize=(10,5))\n",
    "ax = sns.histplot(data=customers_df, x='age', bins=50, color='orange')\n",
    "ax.set_xlabel('Distribution of the customers age')\n",
    "plt.show()"
   ]
  },
  {
   "cell_type": "code",
   "execution_count": 28,
   "id": "4131c45d",
   "metadata": {
    "ExecuteTime": {
     "end_time": "2023-11-27T07:56:12.357438Z",
     "start_time": "2023-11-27T07:56:10.790044Z"
    },
    "collapsed": false,
    "jupyter": {
     "outputs_hidden": false
    }
   },
   "outputs": [
    {
     "data": {
      "image/png": "[encoded data removed]",
      "text/plain": [
       "<Figure size 720x360 with 1 Axes>"
      ]
     },
     "metadata": {},
     "output_type": "display_data"
    }
   ],
   "source": [
    "sns.set_style(\"darkgrid\")\n",
    "f, ax = plt.subplots(figsize=(10,5))\n",
    "ax = sns.histplot(data=customers_df, x='Active', color='orange')\n",
    "ax.set_xlabel('Distribution of club member status')\n",
    "plt.show()"
   ]
  },
  {
   "cell_type": "code",
   "execution_count": 20,
   "id": "38e97e73",
   "metadata": {
    "ExecuteTime": {
     "end_time": "2023-11-27T07:58:03.478519Z",
     "start_time": "2023-11-27T07:58:03.459203Z"
    },
    "collapsed": false,
    "jupyter": {
     "outputs_hidden": false
    }
   },
   "outputs": [
    {
     "data": {
      "text/plain": [
       "0         None\n",
       "1         None\n",
       "2         None\n",
       "3         None\n",
       "4    Regularly\n",
       "Name: fashion_news_frequency, dtype: object"
      ]
     },
     "execution_count": 20,
     "metadata": {},
     "output_type": "execute_result"
    }
   ],
   "source": [
    "customers_df['fashion_news_frequency'].head()"
   ]
  },
  {
   "cell_type": "code",
   "execution_count": 21,
   "id": "0a5d432d",
   "metadata": {
    "ExecuteTime": {
     "end_time": "2023-11-27T07:58:31.187207Z",
     "start_time": "2023-11-27T07:58:31.183750Z"
    },
    "collapsed": false,
    "jupyter": {
     "outputs_hidden": false
    }
   },
   "outputs": [
    {
     "data": {
      "text/plain": [
       "fashion_news_frequency\n",
       "None         893722\n",
       "Regularly    477416\n",
       "Monthly         842\n",
       "Name: count, dtype: int64"
      ]
     },
     "execution_count": 21,
     "metadata": {},
     "output_type": "execute_result"
    }
   ],
   "source": [
    "customers_df['fashion_news_frequency'].value_counts()"
   ]
  },
  {
   "cell_type": "code",
   "execution_count": 19,
   "id": "f786e2e4",
   "metadata": {
    "ExecuteTime": {
     "end_time": "2023-11-27T07:57:41.482621Z",
     "start_time": "2023-11-27T07:57:41.389932Z"
    },
    "collapsed": false,
    "jupyter": {
     "outputs_hidden": false
    }
   },
   "outputs": [
    {
     "data": {
      "text/plain": [
       "array(['None', 'Regularly', 'Monthly'], dtype=object)"
      ]
     },
     "execution_count": 19,
     "metadata": {},
     "output_type": "execute_result"
    }
   ],
   "source": [
    "customers_df.loc[~customers_df['fashion_news_frequency'].isin(['Regularly', 'Monthly']), 'fashion_news_frequency'] = 'None'\n",
    "customers_df['fashion_news_frequency'].unique()"
   ]
  },
  {
   "cell_type": "code",
   "execution_count": 22,
   "id": "9db42506",
   "metadata": {
    "ExecuteTime": {
     "end_time": "2023-11-27T08:08:57.052345Z",
     "start_time": "2023-11-27T08:08:56.613547Z"
    },
    "collapsed": false,
    "jupyter": {
     "outputs_hidden": false
    }
   },
   "outputs": [],
   "source": [
    "pie_data = customers_df[['customer_id', 'fashion_news_frequency']].groupby('fashion_news_frequency').count()"
   ]
  },
  {
   "cell_type": "code",
   "execution_count": 23,
   "id": "c9207e6f",
   "metadata": {
    "ExecuteTime": {
     "end_time": "2023-11-27T08:08:58.222303Z",
     "start_time": "2023-11-27T08:08:58.088628Z"
    },
    "collapsed": false,
    "jupyter": {
     "outputs_hidden": false
    }
   },
   "outputs": [
    {
     "data": {
      "image/png": "[encoded data removed]",
      "text/plain": [
       "<Figure size 1000x500 with 1 Axes>"
      ]
     },
     "metadata": {},
     "output_type": "display_data"
    }
   ],
   "source": [
    "sns.set_style(\"darkgrid\")\n",
    "f, ax = plt.subplots(figsize=(10,5))\n",
    "# ax = sns.histplot(data=customers, x='fashion_news_frequency', color='orange')\n",
    "# ax = sns.pie(data=customers, x='fashion_news_frequency', color='orange')\n",
    "colors = sns.color_palette('pastel')\n",
    "ax.pie(pie_data.customer_id, labels=pie_data.index, colors = colors)\n",
    "ax.set_facecolor('lightgrey')\n",
    "ax.set_xlabel('Distribution of fashion news frequency')\n",
    "plt.show()"
   ]
  },
  {
   "cell_type": "code",
   "execution_count": 24,
   "id": "26f017e1",
   "metadata": {
    "ExecuteTime": {
     "end_time": "2023-11-27T08:10:28.752900Z",
     "start_time": "2023-11-27T08:10:28.737052Z"
    },
    "collapsed": false,
    "jupyter": {
     "outputs_hidden": false
    }
   },
   "outputs": [
    {
     "data": {
      "text/html": [
       "<div>\n",
       "<style scoped>\n",
       "    .dataframe tbody tr th:only-of-type {\n",
       "        vertical-align: middle;\n",
       "    }\n",
       "\n",
       "    .dataframe tbody tr th {\n",
       "        vertical-align: top;\n",
       "    }\n",
       "\n",
       "    .dataframe thead th {\n",
       "        text-align: right;\n",
       "    }\n",
       "</style>\n",
       "<table border=\"1\" class=\"dataframe\">\n",
       "  <thead>\n",
       "    <tr style=\"text-align: right;\">\n",
       "      <th></th>\n",
       "      <th>t_dat</th>\n",
       "      <th>customer_id</th>\n",
       "      <th>article_id</th>\n",
       "      <th>price</th>\n",
       "      <th>sales_channel_id</th>\n",
       "    </tr>\n",
       "  </thead>\n",
       "  <tbody>\n",
       "    <tr>\n",
       "      <th>28401361</th>\n",
       "      <td>2020-07-01</td>\n",
       "      <td>0001d44dbe7f6c4b35200abdb052c77a87596fe1bdcc37...</td>\n",
       "      <td>825577003</td>\n",
       "      <td>0.013542</td>\n",
       "      <td>2</td>\n",
       "    </tr>\n",
       "    <tr>\n",
       "      <th>28401362</th>\n",
       "      <td>2020-07-01</td>\n",
       "      <td>0001d44dbe7f6c4b35200abdb052c77a87596fe1bdcc37...</td>\n",
       "      <td>849487005</td>\n",
       "      <td>0.042356</td>\n",
       "      <td>2</td>\n",
       "    </tr>\n",
       "    <tr>\n",
       "      <th>28401363</th>\n",
       "      <td>2020-07-01</td>\n",
       "      <td>0001d44dbe7f6c4b35200abdb052c77a87596fe1bdcc37...</td>\n",
       "      <td>772659001</td>\n",
       "      <td>0.023712</td>\n",
       "      <td>2</td>\n",
       "    </tr>\n",
       "    <tr>\n",
       "      <th>28401364</th>\n",
       "      <td>2020-07-01</td>\n",
       "      <td>0001d44dbe7f6c4b35200abdb052c77a87596fe1bdcc37...</td>\n",
       "      <td>804732004</td>\n",
       "      <td>0.042356</td>\n",
       "      <td>2</td>\n",
       "    </tr>\n",
       "    <tr>\n",
       "      <th>28401365</th>\n",
       "      <td>2020-07-01</td>\n",
       "      <td>0001d44dbe7f6c4b35200abdb052c77a87596fe1bdcc37...</td>\n",
       "      <td>804732004</td>\n",
       "      <td>0.042356</td>\n",
       "      <td>2</td>\n",
       "    </tr>\n",
       "  </tbody>\n",
       "</table>\n",
       "</div>"
      ],
      "text/plain": [
       "              t_dat                                        customer_id  \\\n",
       "28401361 2020-07-01  0001d44dbe7f6c4b35200abdb052c77a87596fe1bdcc37...   \n",
       "28401362 2020-07-01  0001d44dbe7f6c4b35200abdb052c77a87596fe1bdcc37...   \n",
       "28401363 2020-07-01  0001d44dbe7f6c4b35200abdb052c77a87596fe1bdcc37...   \n",
       "28401364 2020-07-01  0001d44dbe7f6c4b35200abdb052c77a87596fe1bdcc37...   \n",
       "28401365 2020-07-01  0001d44dbe7f6c4b35200abdb052c77a87596fe1bdcc37...   \n",
       "\n",
       "          article_id     price  sales_channel_id  \n",
       "28401361   825577003  0.013542                 2  \n",
       "28401362   849487005  0.042356                 2  \n",
       "28401363   772659001  0.023712                 2  \n",
       "28401364   804732004  0.042356                 2  \n",
       "28401365   804732004  0.042356                 2  "
      ]
     },
     "execution_count": 24,
     "metadata": {},
     "output_type": "execute_result"
    }
   ],
   "source": [
    "transactions_df.head()"
   ]
  },
  {
   "cell_type": "code",
   "execution_count": 26,
   "id": "d064f273",
   "metadata": {
    "ExecuteTime": {
     "end_time": "2023-11-27T08:19:05.373673Z",
     "start_time": "2023-11-27T08:19:04.650567Z"
    },
    "collapsed": false,
    "jupyter": {
     "outputs_hidden": false
    }
   },
   "outputs": [
    {
     "data": {
      "text/plain": [
       "count   3354097.0000\n",
       "mean          0.0272\n",
       "min           0.0001\n",
       "25%           0.0155\n",
       "50%           0.0254\n",
       "75%           0.0339\n",
       "max           0.5068\n",
       "std           0.0185\n",
       "Name: price, dtype: float64"
      ]
     },
     "execution_count": 26,
     "metadata": {},
     "output_type": "execute_result"
    }
   ],
   "source": [
    "pd.set_option('display.float_format', '{:.4f}'.format)\n",
    "transactions_df.describe()['price']"
   ]
  },
  {
   "cell_type": "code",
   "execution_count": 27,
   "id": "c8feea24",
   "metadata": {
    "ExecuteTime": {
     "end_time": "2023-11-27T08:20:05.766652Z",
     "start_time": "2023-11-27T08:20:04.314639Z"
    },
    "collapsed": false,
    "jupyter": {
     "outputs_hidden": false
    }
   },
   "outputs": [],
   "source": [
    "transactions_byid = transactions_df.groupby('customer_id').count()"
   ]
  },
  {
   "cell_type": "code",
   "execution_count": 28,
   "id": "5fb713b5",
   "metadata": {
    "ExecuteTime": {
     "end_time": "2023-11-27T08:20:10.482852Z",
     "start_time": "2023-11-27T08:20:10.348907Z"
    },
    "collapsed": false,
    "jupyter": {
     "outputs_hidden": false
    }
   },
   "outputs": [
    {
     "data": {
      "text/plain": [
       "customer_id\n",
       "b637a3e7d8b0caa947aaefd609b8d84a9ee962cf0a52a51bac507ffc2bf1b741    316\n",
       "4308983955108b3af43ec57f0557211e44462a5633238351fff14c8b51f16093    299\n",
       "a3ab708684132c6bbd3dad7aa41f9b9c7d1c95d7d5cb1a3a052905191e858566    294\n",
       "67931690bdf18d2e328854ae772cd5ce2505fdc11164693998b13e706db0bb56    259\n",
       "be1981ab818cf4ef6765b2ecaea7a2cbf14ccd6e8a7ee985513d9e8e53c6d91b    246\n",
       "4043fdbe22eb397206dabf520d2d88651179724ac19ccf6e69efadfd3da530b6    236\n",
       "9150085d4efd2dcfdb954180217ce6c2b6e3399963fb19daef2cf6078a77903e    235\n",
       "4de6988c4971cfc0c6910a85a54fa8d6fb11be64b87b98c46b73821d7db07ce7    231\n",
       "d80ed4ababfa96812e22b911629e6bcbf5093769051ea447e2b696ac98a3dae9    225\n",
       "a65f77281a528bf5c1e9f270141d601d116e1df33bf9df512f495ee06647a9cc    222\n",
       "Name: price, dtype: int64"
      ]
     },
     "execution_count": 28,
     "metadata": {},
     "output_type": "execute_result"
    }
   ],
   "source": [
    "transactions_byid.sort_values(by='price', ascending=False)['price'][:10]"
   ]
  },
  {
   "cell_type": "code",
   "execution_count": 30,
   "id": "df56d362",
   "metadata": {
    "ExecuteTime": {
     "end_time": "2023-11-27T08:23:07.870848Z",
     "start_time": "2023-11-27T08:23:07.843163Z"
    },
    "collapsed": false,
    "jupyter": {
     "outputs_hidden": false
    }
   },
   "outputs": [],
   "source": [
    "articles_for_merge = articles_df[['article_id', 'prod_name', 'product_type_name', 'product_group_name', 'index_name']]"
   ]
  },
  {
   "cell_type": "code",
   "execution_count": 31,
   "id": "bce7c741",
   "metadata": {
    "ExecuteTime": {
     "end_time": "2023-11-27T08:23:26.696305Z",
     "start_time": "2023-11-27T08:23:25.390313Z"
    },
    "collapsed": false,
    "jupyter": {
     "outputs_hidden": false
    }
   },
   "outputs": [],
   "source": [
    "articles_for_merge = transactions_df[['customer_id', 'article_id', 'price', 't_dat']].merge(articles_for_merge, on='article_id', how='left')"
   ]
  },
  {
   "cell_type": "code",
   "execution_count": 32,
   "id": "5c810fa6",
   "metadata": {
    "ExecuteTime": {
     "end_time": "2023-11-27T08:23:39.201409Z",
     "start_time": "2023-11-27T08:23:33.065124Z"
    },
    "collapsed": false,
    "jupyter": {
     "outputs_hidden": false
    }
   },
   "outputs": [
    {
     "data": {
      "image/png": "[encoded data removed]",
      "text/plain": [
       "<Figure size 2500x1800 with 1 Axes>"
      ]
     },
     "metadata": {},
     "output_type": "display_data"
    }
   ],
   "source": [
    "sns.set_style(\"darkgrid\")\n",
    "f, ax = plt.subplots(figsize=(25,18))\n",
    "ax = sns.boxplot(data=articles_for_merge, x='price', y='product_group_name')\n",
    "ax.set_xlabel('Price outliers', fontsize=22)\n",
    "ax.set_ylabel('Index names', fontsize=22)\n",
    "ax.xaxis.set_tick_params(labelsize=22)\n",
    "ax.yaxis.set_tick_params(labelsize=22)\n",
    "\n",
    "plt.show()"
   ]
  },
  {
   "cell_type": "code",
   "execution_count": 33,
   "id": "6345e616",
   "metadata": {
    "ExecuteTime": {
     "end_time": "2023-11-27T08:28:07.526043Z",
     "start_time": "2023-11-27T08:28:07.505712Z"
    },
    "collapsed": false,
    "jupyter": {
     "outputs_hidden": false
    }
   },
   "outputs": [
    {
     "data": {
      "text/html": [
       "<div>\n",
       "<style scoped>\n",
       "    .dataframe tbody tr th:only-of-type {\n",
       "        vertical-align: middle;\n",
       "    }\n",
       "\n",
       "    .dataframe tbody tr th {\n",
       "        vertical-align: top;\n",
       "    }\n",
       "\n",
       "    .dataframe thead th {\n",
       "        text-align: right;\n",
       "    }\n",
       "</style>\n",
       "<table border=\"1\" class=\"dataframe\">\n",
       "  <thead>\n",
       "    <tr style=\"text-align: right;\">\n",
       "      <th></th>\n",
       "      <th>customer_id</th>\n",
       "      <th>article_id</th>\n",
       "      <th>price</th>\n",
       "      <th>t_dat</th>\n",
       "      <th>prod_name</th>\n",
       "      <th>product_type_name</th>\n",
       "      <th>product_group_name</th>\n",
       "      <th>index_name</th>\n",
       "    </tr>\n",
       "  </thead>\n",
       "  <tbody>\n",
       "    <tr>\n",
       "      <th>0</th>\n",
       "      <td>0001d44dbe7f6c4b35200abdb052c77a87596fe1bdcc37...</td>\n",
       "      <td>825577003</td>\n",
       "      <td>0.0135</td>\n",
       "      <td>2020-07-01</td>\n",
       "      <td>PIXI TSHIRT DRESS</td>\n",
       "      <td>Dress</td>\n",
       "      <td>Garment Full body</td>\n",
       "      <td>Ladieswear</td>\n",
       "    </tr>\n",
       "    <tr>\n",
       "      <th>1</th>\n",
       "      <td>0001d44dbe7f6c4b35200abdb052c77a87596fe1bdcc37...</td>\n",
       "      <td>849487005</td>\n",
       "      <td>0.0424</td>\n",
       "      <td>2020-07-01</td>\n",
       "      <td>Seb overshirt</td>\n",
       "      <td>Jacket</td>\n",
       "      <td>Garment Upper body</td>\n",
       "      <td>Ladieswear</td>\n",
       "    </tr>\n",
       "    <tr>\n",
       "      <th>2</th>\n",
       "      <td>0001d44dbe7f6c4b35200abdb052c77a87596fe1bdcc37...</td>\n",
       "      <td>772659001</td>\n",
       "      <td>0.0237</td>\n",
       "      <td>2020-07-01</td>\n",
       "      <td>Ruby shorts</td>\n",
       "      <td>Shorts</td>\n",
       "      <td>Garment Lower body</td>\n",
       "      <td>Ladieswear</td>\n",
       "    </tr>\n",
       "    <tr>\n",
       "      <th>3</th>\n",
       "      <td>0001d44dbe7f6c4b35200abdb052c77a87596fe1bdcc37...</td>\n",
       "      <td>804732004</td>\n",
       "      <td>0.0424</td>\n",
       "      <td>2020-07-01</td>\n",
       "      <td>Durham joggers(1)</td>\n",
       "      <td>Trousers</td>\n",
       "      <td>Garment Lower body</td>\n",
       "      <td>Ladieswear</td>\n",
       "    </tr>\n",
       "    <tr>\n",
       "      <th>4</th>\n",
       "      <td>0001d44dbe7f6c4b35200abdb052c77a87596fe1bdcc37...</td>\n",
       "      <td>804732004</td>\n",
       "      <td>0.0424</td>\n",
       "      <td>2020-07-01</td>\n",
       "      <td>Durham joggers(1)</td>\n",
       "      <td>Trousers</td>\n",
       "      <td>Garment Lower body</td>\n",
       "      <td>Ladieswear</td>\n",
       "    </tr>\n",
       "  </tbody>\n",
       "</table>\n",
       "</div>"
      ],
      "text/plain": [
       "                                         customer_id  article_id  price  \\\n",
       "0  0001d44dbe7f6c4b35200abdb052c77a87596fe1bdcc37...   825577003 0.0135   \n",
       "1  0001d44dbe7f6c4b35200abdb052c77a87596fe1bdcc37...   849487005 0.0424   \n",
       "2  0001d44dbe7f6c4b35200abdb052c77a87596fe1bdcc37...   772659001 0.0237   \n",
       "3  0001d44dbe7f6c4b35200abdb052c77a87596fe1bdcc37...   804732004 0.0424   \n",
       "4  0001d44dbe7f6c4b35200abdb052c77a87596fe1bdcc37...   804732004 0.0424   \n",
       "\n",
       "       t_dat          prod_name product_type_name  product_group_name  \\\n",
       "0 2020-07-01  PIXI TSHIRT DRESS             Dress   Garment Full body   \n",
       "1 2020-07-01      Seb overshirt            Jacket  Garment Upper body   \n",
       "2 2020-07-01        Ruby shorts            Shorts  Garment Lower body   \n",
       "3 2020-07-01  Durham joggers(1)          Trousers  Garment Lower body   \n",
       "4 2020-07-01  Durham joggers(1)          Trousers  Garment Lower body   \n",
       "\n",
       "   index_name  \n",
       "0  Ladieswear  \n",
       "1  Ladieswear  \n",
       "2  Ladieswear  \n",
       "3  Ladieswear  \n",
       "4  Ladieswear  "
      ]
     },
     "execution_count": 33,
     "metadata": {},
     "output_type": "execute_result"
    }
   ],
   "source": [
    "articles_for_merge.head()"
   ]
  },
  {
   "cell_type": "code",
   "execution_count": 34,
   "id": "82374ce3",
   "metadata": {
    "ExecuteTime": {
     "end_time": "2023-11-27T08:34:34.701506Z",
     "start_time": "2023-11-27T08:34:34.678737Z"
    },
    "collapsed": false,
    "jupyter": {
     "outputs_hidden": false
    }
   },
   "outputs": [
    {
     "data": {
      "text/html": [
       "<div>\n",
       "<style scoped>\n",
       "    .dataframe tbody tr th:only-of-type {\n",
       "        vertical-align: middle;\n",
       "    }\n",
       "\n",
       "    .dataframe tbody tr th {\n",
       "        vertical-align: top;\n",
       "    }\n",
       "\n",
       "    .dataframe thead th {\n",
       "        text-align: right;\n",
       "    }\n",
       "</style>\n",
       "<table border=\"1\" class=\"dataframe\">\n",
       "  <thead>\n",
       "    <tr style=\"text-align: right;\">\n",
       "      <th></th>\n",
       "      <th>article_id</th>\n",
       "      <th>product_code</th>\n",
       "      <th>prod_name</th>\n",
       "      <th>product_type_no</th>\n",
       "      <th>product_type_name</th>\n",
       "      <th>product_group_name</th>\n",
       "      <th>graphical_appearance_no</th>\n",
       "      <th>graphical_appearance_name</th>\n",
       "      <th>colour_group_code</th>\n",
       "      <th>colour_group_name</th>\n",
       "      <th>...</th>\n",
       "      <th>department_name</th>\n",
       "      <th>index_code</th>\n",
       "      <th>index_name</th>\n",
       "      <th>index_group_no</th>\n",
       "      <th>index_group_name</th>\n",
       "      <th>section_no</th>\n",
       "      <th>section_name</th>\n",
       "      <th>garment_group_no</th>\n",
       "      <th>garment_group_name</th>\n",
       "      <th>detail_desc</th>\n",
       "    </tr>\n",
       "  </thead>\n",
       "  <tbody>\n",
       "    <tr>\n",
       "      <th>0</th>\n",
       "      <td>108775015</td>\n",
       "      <td>108775</td>\n",
       "      <td>Strap top</td>\n",
       "      <td>253</td>\n",
       "      <td>Vest top</td>\n",
       "      <td>Garment Upper body</td>\n",
       "      <td>1010016</td>\n",
       "      <td>Solid</td>\n",
       "      <td>9</td>\n",
       "      <td>Black</td>\n",
       "      <td>...</td>\n",
       "      <td>Jersey Basic</td>\n",
       "      <td>A</td>\n",
       "      <td>Ladieswear</td>\n",
       "      <td>1</td>\n",
       "      <td>Ladieswear</td>\n",
       "      <td>16</td>\n",
       "      <td>Womens Everyday Basics</td>\n",
       "      <td>1002</td>\n",
       "      <td>Jersey Basic</td>\n",
       "      <td>Jersey top with narrow shoulder straps.</td>\n",
       "    </tr>\n",
       "    <tr>\n",
       "      <th>1</th>\n",
       "      <td>108775044</td>\n",
       "      <td>108775</td>\n",
       "      <td>Strap top</td>\n",
       "      <td>253</td>\n",
       "      <td>Vest top</td>\n",
       "      <td>Garment Upper body</td>\n",
       "      <td>1010016</td>\n",
       "      <td>Solid</td>\n",
       "      <td>10</td>\n",
       "      <td>White</td>\n",
       "      <td>...</td>\n",
       "      <td>Jersey Basic</td>\n",
       "      <td>A</td>\n",
       "      <td>Ladieswear</td>\n",
       "      <td>1</td>\n",
       "      <td>Ladieswear</td>\n",
       "      <td>16</td>\n",
       "      <td>Womens Everyday Basics</td>\n",
       "      <td>1002</td>\n",
       "      <td>Jersey Basic</td>\n",
       "      <td>Jersey top with narrow shoulder straps.</td>\n",
       "    </tr>\n",
       "    <tr>\n",
       "      <th>2</th>\n",
       "      <td>108775051</td>\n",
       "      <td>108775</td>\n",
       "      <td>Strap top (1)</td>\n",
       "      <td>253</td>\n",
       "      <td>Vest top</td>\n",
       "      <td>Garment Upper body</td>\n",
       "      <td>1010017</td>\n",
       "      <td>Stripe</td>\n",
       "      <td>11</td>\n",
       "      <td>Off White</td>\n",
       "      <td>...</td>\n",
       "      <td>Jersey Basic</td>\n",
       "      <td>A</td>\n",
       "      <td>Ladieswear</td>\n",
       "      <td>1</td>\n",
       "      <td>Ladieswear</td>\n",
       "      <td>16</td>\n",
       "      <td>Womens Everyday Basics</td>\n",
       "      <td>1002</td>\n",
       "      <td>Jersey Basic</td>\n",
       "      <td>Jersey top with narrow shoulder straps.</td>\n",
       "    </tr>\n",
       "    <tr>\n",
       "      <th>3</th>\n",
       "      <td>110065001</td>\n",
       "      <td>110065</td>\n",
       "      <td>OP T-shirt (Idro)</td>\n",
       "      <td>306</td>\n",
       "      <td>Bra</td>\n",
       "      <td>Underwear</td>\n",
       "      <td>1010016</td>\n",
       "      <td>Solid</td>\n",
       "      <td>9</td>\n",
       "      <td>Black</td>\n",
       "      <td>...</td>\n",
       "      <td>Clean Lingerie</td>\n",
       "      <td>B</td>\n",
       "      <td>Lingeries/Tights</td>\n",
       "      <td>1</td>\n",
       "      <td>Ladieswear</td>\n",
       "      <td>61</td>\n",
       "      <td>Womens Lingerie</td>\n",
       "      <td>1017</td>\n",
       "      <td>Under-, Nightwear</td>\n",
       "      <td>Microfibre T-shirt bra with underwired, moulde...</td>\n",
       "    </tr>\n",
       "    <tr>\n",
       "      <th>4</th>\n",
       "      <td>110065002</td>\n",
       "      <td>110065</td>\n",
       "      <td>OP T-shirt (Idro)</td>\n",
       "      <td>306</td>\n",
       "      <td>Bra</td>\n",
       "      <td>Underwear</td>\n",
       "      <td>1010016</td>\n",
       "      <td>Solid</td>\n",
       "      <td>10</td>\n",
       "      <td>White</td>\n",
       "      <td>...</td>\n",
       "      <td>Clean Lingerie</td>\n",
       "      <td>B</td>\n",
       "      <td>Lingeries/Tights</td>\n",
       "      <td>1</td>\n",
       "      <td>Ladieswear</td>\n",
       "      <td>61</td>\n",
       "      <td>Womens Lingerie</td>\n",
       "      <td>1017</td>\n",
       "      <td>Under-, Nightwear</td>\n",
       "      <td>Microfibre T-shirt bra with underwired, moulde...</td>\n",
       "    </tr>\n",
       "  </tbody>\n",
       "</table>\n",
       "<p>5 rows × 25 columns</p>\n",
       "</div>"
      ],
      "text/plain": [
       "   article_id  product_code          prod_name  product_type_no  \\\n",
       "0   108775015        108775          Strap top              253   \n",
       "1   108775044        108775          Strap top              253   \n",
       "2   108775051        108775      Strap top (1)              253   \n",
       "3   110065001        110065  OP T-shirt (Idro)              306   \n",
       "4   110065002        110065  OP T-shirt (Idro)              306   \n",
       "\n",
       "  product_type_name  product_group_name  graphical_appearance_no  \\\n",
       "0          Vest top  Garment Upper body                  1010016   \n",
       "1          Vest top  Garment Upper body                  1010016   \n",
       "2          Vest top  Garment Upper body                  1010017   \n",
       "3               Bra           Underwear                  1010016   \n",
       "4               Bra           Underwear                  1010016   \n",
       "\n",
       "  graphical_appearance_name  colour_group_code colour_group_name  ...  \\\n",
       "0                     Solid                  9             Black  ...   \n",
       "1                     Solid                 10             White  ...   \n",
       "2                    Stripe                 11         Off White  ...   \n",
       "3                     Solid                  9             Black  ...   \n",
       "4                     Solid                 10             White  ...   \n",
       "\n",
       "   department_name index_code        index_name index_group_no  \\\n",
       "0     Jersey Basic          A        Ladieswear              1   \n",
       "1     Jersey Basic          A        Ladieswear              1   \n",
       "2     Jersey Basic          A        Ladieswear              1   \n",
       "3   Clean Lingerie          B  Lingeries/Tights              1   \n",
       "4   Clean Lingerie          B  Lingeries/Tights              1   \n",
       "\n",
       "   index_group_name section_no            section_name garment_group_no  \\\n",
       "0        Ladieswear         16  Womens Everyday Basics             1002   \n",
       "1        Ladieswear         16  Womens Everyday Basics             1002   \n",
       "2        Ladieswear         16  Womens Everyday Basics             1002   \n",
       "3        Ladieswear         61         Womens Lingerie             1017   \n",
       "4        Ladieswear         61         Womens Lingerie             1017   \n",
       "\n",
       "   garment_group_name                                        detail_desc  \n",
       "0        Jersey Basic            Jersey top with narrow shoulder straps.  \n",
       "1        Jersey Basic            Jersey top with narrow shoulder straps.  \n",
       "2        Jersey Basic            Jersey top with narrow shoulder straps.  \n",
       "3   Under-, Nightwear  Microfibre T-shirt bra with underwired, moulde...  \n",
       "4   Under-, Nightwear  Microfibre T-shirt bra with underwired, moulde...  \n",
       "\n",
       "[5 rows x 25 columns]"
      ]
     },
     "execution_count": 34,
     "metadata": {},
     "output_type": "execute_result"
    }
   ],
   "source": [
    "articles_df.head()"
   ]
  },
  {
   "cell_type": "markdown",
   "id": "02cbbe68",
   "metadata": {},
   "source": [
    "# Benchmark Model : Matrix Factorization - ALS "
   ]
  },
  {
   "cell_type": "code",
   "execution_count": 29,
   "id": "16053f88",
   "metadata": {
    "ExecuteTime": {
     "end_time": "2023-11-27T08:39:31.460658Z",
     "start_time": "2023-11-27T08:39:28.204149Z"
    },
    "collapsed": false,
    "jupyter": {
     "outputs_hidden": false
    }
   },
   "outputs": [],
   "source": [
    "ALL_USERS = customers_df['customer_id'].unique().tolist()\n",
    "ALL_ITEMS = articles_df['article_id'].unique().tolist()\n",
    "\n",
    "user_ids = dict(list(enumerate(ALL_USERS)))\n",
    "item_ids = dict(list(enumerate(ALL_ITEMS)))\n",
    "\n",
    "user_map = {u: uidx for uidx, u in user_ids.items()}\n",
    "item_map = {i: iidx for iidx, i in item_ids.items()}\n",
    "\n",
    "transactions_df['user_id'] = transactions_df['customer_id'].map(user_map)\n",
    "transactions_df['item_id'] = transactions_df['article_id'].map(item_map)"
   ]
  },
  {
   "cell_type": "markdown",
   "id": "ebe191fc",
   "metadata": {},
   "source": [
    "## sparse matrix"
   ]
  },
  {
   "cell_type": "code",
   "execution_count": 30,
   "id": "b62557c3",
   "metadata": {
    "ExecuteTime": {
     "end_time": "2023-11-27T08:40:08.121188Z",
     "start_time": "2023-11-27T08:40:08.055621Z"
    },
    "collapsed": false,
    "jupyter": {
     "outputs_hidden": false
    }
   },
   "outputs": [
    {
     "data": {
      "text/plain": [
       "<1371980x105542 sparse matrix of type '<class 'numpy.float64'>'\n",
       "\twith 2560477 stored elements in COOrdinate format>"
      ]
     },
     "execution_count": 30,
     "metadata": {},
     "output_type": "execute_result"
    }
   ],
   "source": [
    "row = transactions_df['user_id'].values\n",
    "col = transactions_df['item_id'].values\n",
    "data = np.ones(transactions_df.shape[0])\n",
    "coo_train = coo_matrix((data, (row, col)), shape=(len(ALL_USERS), len(ALL_ITEMS)))\n",
    "coo_train"
   ]
  },
  {
   "cell_type": "markdown",
   "id": "78448bb3",
   "metadata": {},
   "source": [
    "- test"
   ]
  },
  {
   "cell_type": "code",
   "execution_count": 31,
   "id": "0af29969",
   "metadata": {
    "ExecuteTime": {
     "end_time": "2023-11-27T08:40:23.821146Z",
     "start_time": "2023-11-27T08:40:15.423031Z"
    },
    "collapsed": false,
    "jupyter": {
     "outputs_hidden": false
    }
   },
   "outputs": [
    {
     "name": "stderr",
     "output_type": "stream",
     "text": [
      "/home/ec2-user/anaconda3/envs/pytorch_p36/lib/python3.6/site-packages/implicit/cpu/als.py:95: RuntimeWarning: Intel MKL BLAS is configured to use 4 threads. It is highly recommended to disable its internal threadpool by setting the environment variable 'MKL_NUM_THREADS=1' or by callng 'threadpoolctl.threadpool_limits(1, \"blas\")'. Having MKL use a threadpool can lead to severe performance issues\n",
      "  check_blas_config()\n",
      "/home/ec2-user/anaconda3/envs/pytorch_p36/lib/python3.6/site-packages/implicit/utils.py:167: ParameterWarning: Method expects CSR input, and was passed coo_matrix instead. Converting to CSR took 0.2032604217529297 seconds\n",
      "  ParameterWarning,\n"
     ]
    },
    {
     "data": {
      "application/vnd.jupyter.widget-view+json": {
       "model_id": "8f9a934485ce431c9686e1c85838cfb7",
       "version_major": 2,
       "version_minor": 0
      },
      "text/plain": [
       "  0%|          | 0/2 [00:00<?, ?it/s]"
      ]
     },
     "metadata": {},
     "output_type": "display_data"
    },
    {
     "name": "stdout",
     "output_type": "stream",
     "text": [
      "CPU times: user 17.8 s, sys: 160 ms, total: 18 s\n",
      "Wall time: 3.8 s\n"
     ]
    }
   ],
   "source": [
    "%%time\n",
    "model = implicit.als.AlternatingLeastSquares(factors=10, iterations=2)\n",
    "model.fit(coo_train)"
   ]
  },
  {
   "cell_type": "code",
   "execution_count": 37,
   "id": "2b929f71",
   "metadata": {
    "ExecuteTime": {
     "end_time": "2023-11-27T09:13:38.637804Z",
     "start_time": "2023-11-27T09:13:38.594660Z"
    },
    "collapsed": false,
    "jupyter": {
     "outputs_hidden": false
    }
   },
   "outputs": [],
   "source": [
    "def to_user_item_coo(df):\n",
    "    \"\"\" Turn a dataframe with transactions into a COO sparse items x users matrix\"\"\"\n",
    "    row = df['user_id'].values\n",
    "    col = df['item_id'].values\n",
    "    data = np.ones(df.shape[0])\n",
    "    coo = coo_matrix((data, (row, col)), shape=(len(ALL_USERS), len(ALL_ITEMS)))\n",
    "    return coo\n",
    "\n",
    "\n",
    "def split_data(df, validation_days=7):\n",
    "    \"\"\" Split a pandas dataframe into training and validation data, using <<validation_days>>\n",
    "    \"\"\"\n",
    "    validation_cut = df['t_dat'].max() - pd.Timedelta(validation_days)\n",
    "\n",
    "    df_train = df[df['t_dat'] < validation_cut]\n",
    "    df_val = df[df['t_dat'] >= validation_cut]\n",
    "    return df_train, df_val\n",
    "\n",
    "def get_val_matrices(df, validation_days=7):\n",
    "    \"\"\" Split into training and validation and create various matrices\n",
    "        \n",
    "        Returns a dictionary with the following keys:\n",
    "            coo_train: training data in COO sparse format and as (users x items)\n",
    "            csr_train: training data in CSR sparse format and as (users x items)\n",
    "            csr_val:  validation data in CSR sparse format and as (users x items)\n",
    "    \n",
    "    \"\"\"\n",
    "    df_train, df_val = split_data(df, validation_days=validation_days)\n",
    "    coo_train = to_user_item_coo(df_train)\n",
    "    coo_val = to_user_item_coo(df_val)\n",
    "\n",
    "    csr_train = coo_train.tocsr()\n",
    "    csr_val = coo_val.tocsr()\n",
    "    \n",
    "    return {'coo_train': coo_train,\n",
    "            'csr_train': csr_train,\n",
    "            'csr_val': csr_val\n",
    "          }\n",
    "\n",
    "\n",
    "def validate(matrices, factors=200, iterations=20, regularization=0.01, show_progress=True):\n",
    "    \"\"\" Train an ALS model with <<factors>> (embeddings dimension) \n",
    "    for <<iterations>> over matrices and validate with MAP@12\n",
    "    \"\"\"\n",
    "    coo_train, csr_train, csr_val = matrices['coo_train'], matrices['csr_train'], matrices['csr_val']\n",
    "    \n",
    "    model = implicit.als.AlternatingLeastSquares(factors=factors, \n",
    "                                                 iterations=iterations, \n",
    "                                                 regularization=regularization,\n",
    "                                                 calculate_training_loss=True,\n",
    "                                                 random_state=42)\n",
    "    model.fit(coo_train, show_progress=show_progress)\n",
    "    \n",
    "    # The MAPK by implicit doesn't allow to calculate allowing repeated items, which is the case.\n",
    "    # TODO: change MAP@12 to a library that allows repeated items in prediction\n",
    "    map12 = mean_average_precision_at_k(model, csr_train, csr_val, K=12, show_progress=show_progress, num_threads=4)\n",
    "    print(f\"Factors: {factors:>3} - Iterations: {iterations:>2} - Regularization: {regularization:4.3f} ==> MAP@12: {map12:6.5f}\")\n",
    "    return map12"
   ]
  },
  {
   "cell_type": "code",
   "execution_count": 38,
   "id": "2a4abe4b",
   "metadata": {
    "ExecuteTime": {
     "end_time": "2023-11-27T09:14:52.012251Z",
     "start_time": "2023-11-27T09:14:50.317422Z"
    },
    "collapsed": false,
    "jupyter": {
     "outputs_hidden": false
    }
   },
   "outputs": [],
   "source": [
    "matrices = get_val_matrices(transactions_df)"
   ]
  },
  {
   "cell_type": "code",
   "execution_count": 40,
   "id": "5e15834c",
   "metadata": {
    "ExecuteTime": {
     "end_time": "2023-11-27T11:31:09.290247Z",
     "start_time": "2023-11-27T11:28:30.306364Z"
    },
    "collapsed": false,
    "jupyter": {
     "outputs_hidden": false
    }
   },
   "outputs": [
    {
     "name": "stderr",
     "output_type": "stream",
     "text": [
      "/home/ec2-user/anaconda3/envs/pytorch_p36/lib/python3.6/site-packages/implicit/utils.py:167: ParameterWarning: Method expects CSR input, and was passed coo_matrix instead. Converting to CSR took 0.1395280361175537 seconds\n",
      "  ParameterWarning,\n"
     ]
    },
    {
     "data": {
      "application/vnd.jupyter.widget-view+json": {
       "model_id": "c6302b6d4289458b9e7495f301117176",
       "version_major": 2,
       "version_minor": 0
      },
      "text/plain": [
       "  0%|          | 0/1 [00:00<?, ?it/s]"
      ]
     },
     "metadata": {},
     "output_type": "display_data"
    },
    {
     "data": {
      "application/vnd.jupyter.widget-view+json": {
       "model_id": "dd96c35a070849eead8ab8254a72e15c",
       "version_major": 2,
       "version_minor": 0
      },
      "text/plain": [
       "  0%|          | 0/8215 [00:00<?, ?it/s]"
      ]
     },
     "metadata": {},
     "output_type": "display_data"
    },
    {
     "name": "stdout",
     "output_type": "stream",
     "text": [
      "Factors:  20 - Iterations:  1 - Regularization: 0.010 ==> MAP@12: 0.00249\n",
      "Best MAP@12 found. Updating: {'factors': 20, 'iterations': 1, 'regularization': 0.01}\n"
     ]
    },
    {
     "name": "stderr",
     "output_type": "stream",
     "text": [
      "/home/ec2-user/anaconda3/envs/pytorch_p36/lib/python3.6/site-packages/implicit/utils.py:167: ParameterWarning: Method expects CSR input, and was passed coo_matrix instead. Converting to CSR took 0.1662273406982422 seconds\n",
      "  ParameterWarning,\n"
     ]
    },
    {
     "data": {
      "application/vnd.jupyter.widget-view+json": {
       "model_id": "c4ebb5f0467f4434b90a3a8037720780",
       "version_major": 2,
       "version_minor": 0
      },
      "text/plain": [
       "  0%|          | 0/100 [00:00<?, ?it/s]"
      ]
     },
     "metadata": {},
     "output_type": "display_data"
    },
    {
     "data": {
      "application/vnd.jupyter.widget-view+json": {
       "model_id": "38f806f3f2934e18afb42f7a57bacb45",
       "version_major": 2,
       "version_minor": 0
      },
      "text/plain": [
       "  0%|          | 0/8215 [00:00<?, ?it/s]"
      ]
     },
     "metadata": {},
     "output_type": "display_data"
    },
    {
     "name": "stdout",
     "output_type": "stream",
     "text": [
      "Factors:  20 - Iterations: 100 - Regularization: 0.010 ==> MAP@12: 0.00636\n",
      "Best MAP@12 found. Updating: {'factors': 20, 'iterations': 100, 'regularization': 0.01}\n"
     ]
    },
    {
     "name": "stderr",
     "output_type": "stream",
     "text": [
      "/home/ec2-user/anaconda3/envs/pytorch_p36/lib/python3.6/site-packages/implicit/utils.py:167: ParameterWarning: Method expects CSR input, and was passed coo_matrix instead. Converting to CSR took 0.16879916191101074 seconds\n",
      "  ParameterWarning,\n"
     ]
    },
    {
     "data": {
      "application/vnd.jupyter.widget-view+json": {
       "model_id": "be6c10d96d324e9c9af4e09e39d4dee8",
       "version_major": 2,
       "version_minor": 0
      },
      "text/plain": [
       "  0%|          | 0/1 [00:00<?, ?it/s]"
      ]
     },
     "metadata": {},
     "output_type": "display_data"
    },
    {
     "data": {
      "application/vnd.jupyter.widget-view+json": {
       "model_id": "4bb99d4f91fd4e0b97b8d8a7a15c8eb2",
       "version_major": 2,
       "version_minor": 0
      },
      "text/plain": [
       "  0%|          | 0/8215 [00:00<?, ?it/s]"
      ]
     },
     "metadata": {},
     "output_type": "display_data"
    },
    {
     "name": "stdout",
     "output_type": "stream",
     "text": [
      "Factors:  50 - Iterations:  1 - Regularization: 0.010 ==> MAP@12: 0.00183\n"
     ]
    },
    {
     "name": "stderr",
     "output_type": "stream",
     "text": [
      "/home/ec2-user/anaconda3/envs/pytorch_p36/lib/python3.6/site-packages/implicit/utils.py:167: ParameterWarning: Method expects CSR input, and was passed coo_matrix instead. Converting to CSR took 0.17192530632019043 seconds\n",
      "  ParameterWarning,\n"
     ]
    },
    {
     "data": {
      "application/vnd.jupyter.widget-view+json": {
       "model_id": "eeb6773e9fe54586a877473f59303fcc",
       "version_major": 2,
       "version_minor": 0
      },
      "text/plain": [
       "  0%|          | 0/100 [00:00<?, ?it/s]"
      ]
     },
     "metadata": {},
     "output_type": "display_data"
    },
    {
     "data": {
      "application/vnd.jupyter.widget-view+json": {
       "model_id": "703ed59efaa144ea8587f134c48c7b10",
       "version_major": 2,
       "version_minor": 0
      },
      "text/plain": [
       "  0%|          | 0/8215 [00:00<?, ?it/s]"
      ]
     },
     "metadata": {},
     "output_type": "display_data"
    },
    {
     "name": "stdout",
     "output_type": "stream",
     "text": [
      "Factors:  50 - Iterations: 100 - Regularization: 0.010 ==> MAP@12: 0.00783\n",
      "Best MAP@12 found. Updating: {'factors': 50, 'iterations': 100, 'regularization': 0.01}\n"
     ]
    },
    {
     "name": "stderr",
     "output_type": "stream",
     "text": [
      "/home/ec2-user/anaconda3/envs/pytorch_p36/lib/python3.6/site-packages/implicit/utils.py:167: ParameterWarning: Method expects CSR input, and was passed coo_matrix instead. Converting to CSR took 0.17044854164123535 seconds\n",
      "  ParameterWarning,\n"
     ]
    },
    {
     "data": {
      "application/vnd.jupyter.widget-view+json": {
       "model_id": "358b472341634e878a525442e7d06e42",
       "version_major": 2,
       "version_minor": 0
      },
      "text/plain": [
       "  0%|          | 0/1 [00:00<?, ?it/s]"
      ]
     },
     "metadata": {},
     "output_type": "display_data"
    },
    {
     "data": {
      "application/vnd.jupyter.widget-view+json": {
       "model_id": "998bfe03d0df41f2900cd3b2e6484a1f",
       "version_major": 2,
       "version_minor": 0
      },
      "text/plain": [
       "  0%|          | 0/8215 [00:00<?, ?it/s]"
      ]
     },
     "metadata": {},
     "output_type": "display_data"
    },
    {
     "name": "stdout",
     "output_type": "stream",
     "text": [
      "Factors: 100 - Iterations:  1 - Regularization: 0.010 ==> MAP@12: 0.00199\n"
     ]
    },
    {
     "name": "stderr",
     "output_type": "stream",
     "text": [
      "/home/ec2-user/anaconda3/envs/pytorch_p36/lib/python3.6/site-packages/implicit/utils.py:167: ParameterWarning: Method expects CSR input, and was passed coo_matrix instead. Converting to CSR took 0.17721056938171387 seconds\n",
      "  ParameterWarning,\n"
     ]
    },
    {
     "data": {
      "application/vnd.jupyter.widget-view+json": {
       "model_id": "4965e6379e474d728da84c45ee0ba95d",
       "version_major": 2,
       "version_minor": 0
      },
      "text/plain": [
       "  0%|          | 0/100 [00:00<?, ?it/s]"
      ]
     },
     "metadata": {},
     "output_type": "display_data"
    },
    {
     "data": {
      "application/vnd.jupyter.widget-view+json": {
       "model_id": "ec4ba48d12d344288c452384264776ce",
       "version_major": 2,
       "version_minor": 0
      },
      "text/plain": [
       "  0%|          | 0/8215 [00:00<?, ?it/s]"
      ]
     },
     "metadata": {},
     "output_type": "display_data"
    },
    {
     "name": "stdout",
     "output_type": "stream",
     "text": [
      "Factors: 100 - Iterations: 100 - Regularization: 0.010 ==> MAP@12: 0.00847\n",
      "Best MAP@12 found. Updating: {'factors': 100, 'iterations': 100, 'regularization': 0.01}\n"
     ]
    },
    {
     "name": "stderr",
     "output_type": "stream",
     "text": [
      "/home/ec2-user/anaconda3/envs/pytorch_p36/lib/python3.6/site-packages/implicit/utils.py:167: ParameterWarning: Method expects CSR input, and was passed coo_matrix instead. Converting to CSR took 0.1728363037109375 seconds\n",
      "  ParameterWarning,\n"
     ]
    },
    {
     "data": {
      "application/vnd.jupyter.widget-view+json": {
       "model_id": "d36ae7857f284d0495f2b34490934caa",
       "version_major": 2,
       "version_minor": 0
      },
      "text/plain": [
       "  0%|          | 0/1 [00:00<?, ?it/s]"
      ]
     },
     "metadata": {},
     "output_type": "display_data"
    },
    {
     "data": {
      "application/vnd.jupyter.widget-view+json": {
       "model_id": "521ea5ecad484ecf96729356d5dd2df2",
       "version_major": 2,
       "version_minor": 0
      },
      "text/plain": [
       "  0%|          | 0/8215 [00:00<?, ?it/s]"
      ]
     },
     "metadata": {},
     "output_type": "display_data"
    },
    {
     "name": "stdout",
     "output_type": "stream",
     "text": [
      "Factors: 200 - Iterations:  1 - Regularization: 0.010 ==> MAP@12: 0.00237\n"
     ]
    },
    {
     "name": "stderr",
     "output_type": "stream",
     "text": [
      "/home/ec2-user/anaconda3/envs/pytorch_p36/lib/python3.6/site-packages/implicit/utils.py:167: ParameterWarning: Method expects CSR input, and was passed coo_matrix instead. Converting to CSR took 0.16477012634277344 seconds\n",
      "  ParameterWarning,\n"
     ]
    },
    {
     "data": {
      "application/vnd.jupyter.widget-view+json": {
       "model_id": "c54a37f840df46fea970fbc65cd39a7e",
       "version_major": 2,
       "version_minor": 0
      },
      "text/plain": [
       "  0%|          | 0/100 [00:00<?, ?it/s]"
      ]
     },
     "metadata": {},
     "output_type": "display_data"
    },
    {
     "data": {
      "application/vnd.jupyter.widget-view+json": {
       "model_id": "6f42378ae080490987bc353cb6af690d",
       "version_major": 2,
       "version_minor": 0
      },
      "text/plain": [
       "  0%|          | 0/8215 [00:00<?, ?it/s]"
      ]
     },
     "metadata": {},
     "output_type": "display_data"
    },
    {
     "name": "stdout",
     "output_type": "stream",
     "text": [
      "Factors: 200 - Iterations: 100 - Regularization: 0.010 ==> MAP@12: 0.00787\n",
      "CPU times: user 1h 38min 6s, sys: 35.1 s, total: 1h 38min 42s\n",
      "Wall time: 12min 51s\n"
     ]
    }
   ],
   "source": [
    "%%time\n",
    "best_map12 = 0\n",
    "for factors in [20,50,100,200]:\n",
    "    for iterations in [1,100]:\n",
    "        for regularization in [0.01]:\n",
    "            map12 = validate(matrices, factors, iterations, regularization, show_progress=True)\n",
    "            if map12 > best_map12:\n",
    "                best_map12 = map12\n",
    "                best_params = {'factors': factors, 'iterations': iterations, 'regularization': regularization}\n",
    "                print(f\"Best MAP@12 found. Updating: {best_params}\")"
   ]
  },
  {
   "cell_type": "markdown",
   "id": "c8adfc72",
   "metadata": {},
   "source": [
    "# Factorization Machine"
   ]
  },
  {
   "cell_type": "code",
   "execution_count": 41,
   "id": "a4d6373c",
   "metadata": {
    "ExecuteTime": {
     "end_time": "2023-11-29T08:32:11.782802Z",
     "start_time": "2023-11-29T08:32:11.711651Z"
    },
    "collapsed": false,
    "jupyter": {
     "outputs_hidden": false
    }
   },
   "outputs": [],
   "source": [
    "def get_most_bought_articles(data, num_articles=5):\n",
    "    # Create dataframe that contains the number of times each article has been bought\n",
    "    articles_counts = data[['article_id', 't_dat']].groupby('article_id').count().reset_index().rename(columns={'t_dat': 'count'})\n",
    "    articles_counts = articles_counts.sort_values(by='count', ascending=False)\n",
    "        \n",
    "    most_bought_articles = articles_counts.loc[articles_counts['count'] >= num_articles]['article_id'].values\n",
    "    \n",
    "    return most_bought_articles"
   ]
  },
  {
   "cell_type": "code",
   "execution_count": 42,
   "id": "23a4bc8b",
   "metadata": {
    "ExecuteTime": {
     "end_time": "2023-11-29T08:32:11.783672Z",
     "start_time": "2023-11-29T08:32:11.719273Z"
    },
    "collapsed": false,
    "jupyter": {
     "outputs_hidden": false
    }
   },
   "outputs": [
    {
     "data": {
      "text/plain": [
       "Timestamp('2020-09-14 00:00:00')"
      ]
     },
     "execution_count": 42,
     "metadata": {},
     "output_type": "execute_result"
    }
   ],
   "source": [
    "transactions_df.t_dat.max()"
   ]
  },
  {
   "cell_type": "markdown",
   "id": "abe8c3c5",
   "metadata": {},
   "source": [
    "- training data는 직전 7일을 제외하고 구성하였음"
   ]
  },
  {
   "cell_type": "code",
   "execution_count": 43,
   "id": "36f7e303",
   "metadata": {
    "ExecuteTime": {
     "end_time": "2023-11-29T08:32:13.547110Z",
     "start_time": "2023-11-29T08:32:11.742811Z"
    },
    "collapsed": false,
    "jupyter": {
     "outputs_hidden": false
    }
   },
   "outputs": [
    {
     "data": {
      "text/html": [
       "<div>\n",
       "<style scoped>\n",
       "    .dataframe tbody tr th:only-of-type {\n",
       "        vertical-align: middle;\n",
       "    }\n",
       "\n",
       "    .dataframe tbody tr th {\n",
       "        vertical-align: top;\n",
       "    }\n",
       "\n",
       "    .dataframe thead th {\n",
       "        text-align: right;\n",
       "    }\n",
       "</style>\n",
       "<table border=\"1\" class=\"dataframe\">\n",
       "  <thead>\n",
       "    <tr style=\"text-align: right;\">\n",
       "      <th></th>\n",
       "      <th>customer_id</th>\n",
       "      <th>article_id</th>\n",
       "      <th>bought</th>\n",
       "    </tr>\n",
       "  </thead>\n",
       "  <tbody>\n",
       "    <tr>\n",
       "      <th>0</th>\n",
       "      <td>0001d44dbe7f6c4b35200abdb052c77a87596fe1bdcc37...</td>\n",
       "      <td>825577003</td>\n",
       "      <td>1.0</td>\n",
       "    </tr>\n",
       "    <tr>\n",
       "      <th>1</th>\n",
       "      <td>0001d44dbe7f6c4b35200abdb052c77a87596fe1bdcc37...</td>\n",
       "      <td>824194004</td>\n",
       "      <td>1.0</td>\n",
       "    </tr>\n",
       "    <tr>\n",
       "      <th>2</th>\n",
       "      <td>0001d44dbe7f6c4b35200abdb052c77a87596fe1bdcc37...</td>\n",
       "      <td>869796001</td>\n",
       "      <td>1.0</td>\n",
       "    </tr>\n",
       "    <tr>\n",
       "      <th>3</th>\n",
       "      <td>0001d44dbe7f6c4b35200abdb052c77a87596fe1bdcc37...</td>\n",
       "      <td>562498011</td>\n",
       "      <td>1.0</td>\n",
       "    </tr>\n",
       "    <tr>\n",
       "      <th>4</th>\n",
       "      <td>000ce5da167c6c8dfaea6dfc4b59a5ea3217630ec36cfc...</td>\n",
       "      <td>559616013</td>\n",
       "      <td>1.0</td>\n",
       "    </tr>\n",
       "    <tr>\n",
       "      <th>...</th>\n",
       "      <td>...</td>\n",
       "      <td>...</td>\n",
       "      <td>...</td>\n",
       "    </tr>\n",
       "    <tr>\n",
       "      <th>2560472</th>\n",
       "      <td>fffd0248a95c2e49fee876ff93598e2e20839e51b9b767...</td>\n",
       "      <td>509091057</td>\n",
       "      <td>1.0</td>\n",
       "    </tr>\n",
       "    <tr>\n",
       "      <th>2560473</th>\n",
       "      <td>fffd0248a95c2e49fee876ff93598e2e20839e51b9b767...</td>\n",
       "      <td>859737002</td>\n",
       "      <td>1.0</td>\n",
       "    </tr>\n",
       "    <tr>\n",
       "      <th>2560474</th>\n",
       "      <td>fffd0248a95c2e49fee876ff93598e2e20839e51b9b767...</td>\n",
       "      <td>573085028</td>\n",
       "      <td>1.0</td>\n",
       "    </tr>\n",
       "    <tr>\n",
       "      <th>2560475</th>\n",
       "      <td>fffd0248a95c2e49fee876ff93598e2e20839e51b9b767...</td>\n",
       "      <td>745686008</td>\n",
       "      <td>1.0</td>\n",
       "    </tr>\n",
       "    <tr>\n",
       "      <th>2560476</th>\n",
       "      <td>fffd0248a95c2e49fee876ff93598e2e20839e51b9b767...</td>\n",
       "      <td>821398001</td>\n",
       "      <td>1.0</td>\n",
       "    </tr>\n",
       "  </tbody>\n",
       "</table>\n",
       "<p>2560477 rows × 3 columns</p>\n",
       "</div>"
      ],
      "text/plain": [
       "                                               customer_id  article_id  bought\n",
       "0        0001d44dbe7f6c4b35200abdb052c77a87596fe1bdcc37...   825577003     1.0\n",
       "1        0001d44dbe7f6c4b35200abdb052c77a87596fe1bdcc37...   824194004     1.0\n",
       "2        0001d44dbe7f6c4b35200abdb052c77a87596fe1bdcc37...   869796001     1.0\n",
       "3        0001d44dbe7f6c4b35200abdb052c77a87596fe1bdcc37...   562498011     1.0\n",
       "4        000ce5da167c6c8dfaea6dfc4b59a5ea3217630ec36cfc...   559616013     1.0\n",
       "...                                                    ...         ...     ...\n",
       "2560472  fffd0248a95c2e49fee876ff93598e2e20839e51b9b767...   509091057     1.0\n",
       "2560473  fffd0248a95c2e49fee876ff93598e2e20839e51b9b767...   859737002     1.0\n",
       "2560474  fffd0248a95c2e49fee876ff93598e2e20839e51b9b767...   573085028     1.0\n",
       "2560475  fffd0248a95c2e49fee876ff93598e2e20839e51b9b767...   745686008     1.0\n",
       "2560476  fffd0248a95c2e49fee876ff93598e2e20839e51b9b767...   821398001     1.0\n",
       "\n",
       "[2560477 rows x 3 columns]"
      ]
     },
     "execution_count": 43,
     "metadata": {},
     "output_type": "execute_result"
    }
   ],
   "source": [
    "start_date = pd.to_datetime('2020-07-01')\n",
    "end_date = pd.to_datetime('2020-09-22') - pd.Timedelta(7,'days')\n",
    "\n",
    "# Filter transactions by date\n",
    "transactions_df.t_dat = pd.to_datetime(transactions_df.t_dat)\n",
    "transactions_df = transactions_df.loc[transactions_df.t_dat >= start_date]\n",
    "transactions_df = transactions_df.loc[transactions_df.t_dat < end_date]\n",
    "\n",
    "# Get articles with at least num_articles purchases and remove the rest from the\n",
    "# transactions\n",
    "most_bought_articles = get_most_bought_articles(transactions_df, num_articles=10)\n",
    "transactions_df = transactions_df.loc[transactions_df.article_id.isin(most_bought_articles)]\n",
    "\n",
    "article_ids = articles_df['article_id'].values\n",
    "customer_ids = customers_df['customer_id'].values\n",
    "\n",
    "num_articles = len(article_ids)\n",
    "num_customers = len(customer_ids)\n",
    "# Create dictionaries with mapping keys\n",
    "articles_id_to_idx = dict(zip(article_ids, range(num_articles)))\n",
    "customers_id_to_idx = dict(zip(customer_ids, range(num_customers)))\n",
    "\n",
    "train_df = transactions_df.copy()\n",
    "train_df = train_df[['customer_id', 'article_id']]\n",
    "\n",
    "num_transactions = train_df.shape[0]\n",
    "\n",
    "train_df['bought'] = np.ones(num_transactions)\n",
    "\n",
    "train_df"
   ]
  },
  {
   "cell_type": "markdown",
   "id": "9faedf27",
   "metadata": {},
   "source": [
    "- Negative Sampling"
   ]
  },
  {
   "cell_type": "code",
   "execution_count": 44,
   "id": "82018a73",
   "metadata": {
    "ExecuteTime": {
     "end_time": "2023-11-29T08:32:16.008374Z",
     "start_time": "2023-11-29T08:32:13.549785Z"
    },
    "collapsed": false,
    "jupyter": {
     "outputs_hidden": false
    }
   },
   "outputs": [
    {
     "data": {
      "text/html": [
       "<div>\n",
       "<style scoped>\n",
       "    .dataframe tbody tr th:only-of-type {\n",
       "        vertical-align: middle;\n",
       "    }\n",
       "\n",
       "    .dataframe tbody tr th {\n",
       "        vertical-align: top;\n",
       "    }\n",
       "\n",
       "    .dataframe thead th {\n",
       "        text-align: right;\n",
       "    }\n",
       "</style>\n",
       "<table border=\"1\" class=\"dataframe\">\n",
       "  <thead>\n",
       "    <tr style=\"text-align: right;\">\n",
       "      <th></th>\n",
       "      <th>customer_id</th>\n",
       "      <th>article_id</th>\n",
       "      <th>bought</th>\n",
       "    </tr>\n",
       "  </thead>\n",
       "  <tbody>\n",
       "    <tr>\n",
       "      <th>0</th>\n",
       "      <td>842b38512d803cdcb28640b448945a66ad40a68e0ca649...</td>\n",
       "      <td>757303012</td>\n",
       "      <td>0.0</td>\n",
       "    </tr>\n",
       "    <tr>\n",
       "      <th>1</th>\n",
       "      <td>57eefa27ed4779d5061f783e885cb42af4c4faa90d9dd7...</td>\n",
       "      <td>851400001</td>\n",
       "      <td>0.0</td>\n",
       "    </tr>\n",
       "    <tr>\n",
       "      <th>2</th>\n",
       "      <td>cdf5e1b63b8ba6f85e1c7c8e5c6f7a99214525c15dd725...</td>\n",
       "      <td>824340002</td>\n",
       "      <td>0.0</td>\n",
       "    </tr>\n",
       "    <tr>\n",
       "      <th>3</th>\n",
       "      <td>ecbe914acaf164501d65eed0ef2b12c77178f9b2a7ec09...</td>\n",
       "      <td>853391001</td>\n",
       "      <td>0.0</td>\n",
       "    </tr>\n",
       "    <tr>\n",
       "      <th>4</th>\n",
       "      <td>033311dc4ed46174736a2154547ead757f45c86561942d...</td>\n",
       "      <td>854356001</td>\n",
       "      <td>1.0</td>\n",
       "    </tr>\n",
       "    <tr>\n",
       "      <th>...</th>\n",
       "      <td>...</td>\n",
       "      <td>...</td>\n",
       "      <td>...</td>\n",
       "    </tr>\n",
       "    <tr>\n",
       "      <th>5120949</th>\n",
       "      <td>ba6d697ddd55beb42597eabd77f97262841fffe0db6a97...</td>\n",
       "      <td>865594003</td>\n",
       "      <td>1.0</td>\n",
       "    </tr>\n",
       "    <tr>\n",
       "      <th>5120950</th>\n",
       "      <td>34794f2273000f1333ae71b0e1f7ff87b5f881b448a9e9...</td>\n",
       "      <td>859077013</td>\n",
       "      <td>0.0</td>\n",
       "    </tr>\n",
       "    <tr>\n",
       "      <th>5120951</th>\n",
       "      <td>e6dba0c4d64a0a0d620233e89ab61becd3a2dea6e2f96a...</td>\n",
       "      <td>825811002</td>\n",
       "      <td>0.0</td>\n",
       "    </tr>\n",
       "    <tr>\n",
       "      <th>5120952</th>\n",
       "      <td>8669a760b060a074d0b73251ba63c6a0389d4bdc715ce1...</td>\n",
       "      <td>851400001</td>\n",
       "      <td>1.0</td>\n",
       "    </tr>\n",
       "    <tr>\n",
       "      <th>5120953</th>\n",
       "      <td>0dfaac4130b6c48c71a3060224aebe386bacdcc63955d1...</td>\n",
       "      <td>470789019</td>\n",
       "      <td>0.0</td>\n",
       "    </tr>\n",
       "  </tbody>\n",
       "</table>\n",
       "<p>5120954 rows × 3 columns</p>\n",
       "</div>"
      ],
      "text/plain": [
       "                                               customer_id  article_id  bought\n",
       "0        842b38512d803cdcb28640b448945a66ad40a68e0ca649...   757303012     0.0\n",
       "1        57eefa27ed4779d5061f783e885cb42af4c4faa90d9dd7...   851400001     0.0\n",
       "2        cdf5e1b63b8ba6f85e1c7c8e5c6f7a99214525c15dd725...   824340002     0.0\n",
       "3        ecbe914acaf164501d65eed0ef2b12c77178f9b2a7ec09...   853391001     0.0\n",
       "4        033311dc4ed46174736a2154547ead757f45c86561942d...   854356001     1.0\n",
       "...                                                    ...         ...     ...\n",
       "5120949  ba6d697ddd55beb42597eabd77f97262841fffe0db6a97...   865594003     1.0\n",
       "5120950  34794f2273000f1333ae71b0e1f7ff87b5f881b448a9e9...   859077013     0.0\n",
       "5120951  e6dba0c4d64a0a0d620233e89ab61becd3a2dea6e2f96a...   825811002     0.0\n",
       "5120952  8669a760b060a074d0b73251ba63c6a0389d4bdc715ce1...   851400001     1.0\n",
       "5120953  0dfaac4130b6c48c71a3060224aebe386bacdcc63955d1...   470789019     0.0\n",
       "\n",
       "[5120954 rows x 3 columns]"
      ]
     },
     "execution_count": 44,
     "metadata": {},
     "output_type": "execute_result"
    }
   ],
   "source": [
    "np.random.seed(47)\n",
    "\n",
    "negative_data = pd.DataFrame(\n",
    "    {\n",
    "        'article_id': np.random.permutation(train_df.article_id.values),\n",
    "        'customer_id': train_df.customer_id.values,\n",
    "        'bought': np.zeros(num_transactions)\n",
    "    }\n",
    ")\n",
    "\n",
    "train_df = pd.concat([train_df, negative_data])\n",
    "train_df = train_df.sample(frac=1).reset_index(drop=True)\n",
    "\n",
    "train_df"
   ]
  },
  {
   "cell_type": "markdown",
   "id": "aa4fdefb",
   "metadata": {},
   "source": [
    "### Feature Engineering"
   ]
  },
  {
   "cell_type": "code",
   "execution_count": 45,
   "id": "8f15260c",
   "metadata": {
    "ExecuteTime": {
     "end_time": "2023-11-29T14:10:59.536810Z",
     "start_time": "2023-11-29T14:10:59.511986Z"
    },
    "collapsed": false,
    "jupyter": {
     "outputs_hidden": false
    }
   },
   "outputs": [],
   "source": [
    "articles_index_group_to_index = dict(zip(articles_df.index_group_no.unique(), range(articles_df.index_group_no.nunique())))"
   ]
  },
  {
   "cell_type": "code",
   "execution_count": 46,
   "id": "4dd63c17",
   "metadata": {
    "ExecuteTime": {
     "end_time": "2023-11-29T14:11:04.289447Z",
     "start_time": "2023-11-29T14:11:04.259144Z"
    },
    "collapsed": false,
    "jupyter": {
     "outputs_hidden": false
    }
   },
   "outputs": [
    {
     "data": {
      "text/plain": [
       "{1: 0, 4: 1, 3: 2, 26: 3, 2: 4}"
      ]
     },
     "execution_count": 46,
     "metadata": {},
     "output_type": "execute_result"
    }
   ],
   "source": [
    "articles_index_group_to_index"
   ]
  },
  {
   "cell_type": "code",
   "execution_count": 47,
   "id": "f70ee306",
   "metadata": {
    "ExecuteTime": {
     "end_time": "2023-11-29T15:00:08.305253Z",
     "start_time": "2023-11-29T15:00:08.290989Z"
    },
    "collapsed": false,
    "jupyter": {
     "outputs_hidden": false
    }
   },
   "outputs": [],
   "source": [
    "from scipy.sparse import csr_matrix, hstack\n",
    "import numpy as np\n",
    "import pandas as pd\n",
    "\n",
    "def preprocess_customers_df(customers_df, transactions_df):\n",
    "    # Check if active and have club member status\n",
    "    customers_df[['Active']] = customers_df[['Active']].fillna(value=0) \n",
    "    customers_df['club_member_status'] = customers_df['club_member_status'] == 'ACTIVE'\n",
    "\n",
    "    # 특정한 우편 번호에 대해서는 Binary Encoding을 수행한다.\n",
    "    customers_df['common_postal_code'] = customers_df['postal_code'] == '2c29ae653a9282cce4151bd87643c907644e09541abc28ae87dea0d1f6603b1c'\n",
    "\n",
    "    # 나이가 없는 user에 대하여 빈 값을 사용한다.\n",
    "    customers_df[['age']] = customers_df[['age']].fillna(value=customers_df['age'].mean())\n",
    "\n",
    "    # 사용하지 않는 컬럼을 drop 한다.\n",
    "    customers_df = customers_df.drop(['FN', 'fashion_news_frequency', 'postal_code'], axis=1)\n",
    "\n",
    "    # Replace boolean with 1/0\n",
    "    customers_df['club_member_status'] = customers_df['club_member_status'].astype(int)\n",
    "    customers_df['common_postal_code'] = customers_df['common_postal_code'].astype(int)\n",
    "    \n",
    "    customers_df = customers_df.merge(transactions_df[['customer_id', 'article_id']], on=\"customer_id\")\n",
    "    customers_df = customers_df.merge(articles_df[['article_id','index_group_no']], on=\"article_id\") # 추가한 Articles Feature\n",
    "    return customers_df\n",
    "\n",
    "def create_sparse_matrix(transactions_df, articles_df, customers_df, articles_to_idx, customers_to_idx): \n",
    "    customers_df = preprocess_customers_df(customers_df, transactions_df)\n",
    "    \n",
    "    # Create one hot encoded customers matrix\n",
    "    cols = np.array([customers_to_idx[customer] for customer in customers_df['customer_id']])\n",
    "    rows = np.array(list(range(0, len(customers_df))))\n",
    "    data = np.ones(len(rows))\n",
    "    csr_customers = csr_matrix((data, (rows, cols)), shape=(len(rows), len(customers_to_idx)))\n",
    "    \n",
    "    # Create one hot encoded bought articles matrix\n",
    "    rows = np.array(list(range(0, len(customers_df))))\n",
    "    cols = np.array([articles_to_idx[article] for article in customers_df['article_id']])\n",
    "    data = np.ones(len(rows))\n",
    "    csr_articles = csr_matrix((data, (rows, cols)), shape=(len(rows), len(articles_to_idx)))\n",
    "    \n",
    "    # Create CSR matrix for article features\n",
    "    rows = np.array(list(range(0, len(customers_df))))\n",
    "    cols = np.array([articles_index_group_to_index[article_group_no] for article_group_no in customers_df['index_group_no']])\n",
    "    data = np.ones(len(rows))\n",
    "    csr_articles_feature = csr_matrix((data, (rows, cols)), shape=(len(rows), len(articles_index_group_to_index)))\n",
    "\n",
    "    # Concatenate matrices in CSR format\n",
    "    # sparse_matrix = hstack((csr_customers, csr_articles), format='csr')\n",
    "    sparse_matrix = hstack((csr_customers, csr_articles, csr_articles_feature), format='csr')\n",
    "    # Age\n",
    "    sparse_matrix = hstack((sparse_matrix, customers_df['age'].values[:,None]), format='csr')\n",
    "    # Active\n",
    "    sparse_matrix = hstack((sparse_matrix, customers_df['Active'].values[:,None]), format='csr')\n",
    "    # Club member status\n",
    "    sparse_matrix = hstack((sparse_matrix, customers_df['club_member_status'].values[:,None]), format='csr')\n",
    "    # Common postal code\n",
    "    sparse_matrix = hstack((sparse_matrix, customers_df['common_postal_code'].values[:,None]), format='csr')\n",
    "    # Average price spent\n",
    "    # sparse_matrix = hstack((sparse_matrix, customers_df['price'].values[:,None]))\n",
    "    \n",
    "    return sparse_matrix"
   ]
  },
  {
   "cell_type": "code",
   "execution_count": 48,
   "id": "b82e58da",
   "metadata": {
    "ExecuteTime": {
     "end_time": "2023-11-29T15:00:36.891109Z",
     "start_time": "2023-11-29T15:00:09.561518Z"
    },
    "collapsed": false,
    "jupyter": {
     "outputs_hidden": false
    }
   },
   "outputs": [],
   "source": [
    "from scipy import sparse\n",
    "\n",
    "sparse_matrix = create_sparse_matrix(train_df, articles_df, customers_df, articles_id_to_idx, customers_id_to_idx)"
   ]
  },
  {
   "cell_type": "code",
   "execution_count": 49,
   "id": "dc6d2dd1",
   "metadata": {
    "ExecuteTime": {
     "end_time": "2023-11-29T15:00:36.913106Z",
     "start_time": "2023-11-29T15:00:36.894795Z"
    },
    "collapsed": false,
    "jupyter": {
     "outputs_hidden": false
    }
   },
   "outputs": [
    {
     "data": {
      "text/plain": [
       "<5120954x1477531 sparse matrix of type '<class 'numpy.float64'>'\n",
       "\twith 22851812 stored elements in Compressed Sparse Row format>"
      ]
     },
     "execution_count": 49,
     "metadata": {},
     "output_type": "execute_result"
    }
   ],
   "source": [
    "sparse_matrix"
   ]
  },
  {
   "cell_type": "code",
   "execution_count": 50,
   "id": "bc509a5f",
   "metadata": {
    "ExecuteTime": {
     "end_time": "2023-11-29T15:00:36.984380Z",
     "start_time": "2023-11-29T15:00:36.899632Z"
    },
    "collapsed": false,
    "jupyter": {
     "outputs_hidden": false
    }
   },
   "outputs": [],
   "source": [
    "from tqdm import tqdm\n",
    "from numba import njit\n",
    "import numba as nb\n",
    "\n",
    "# @njit\n",
    "# def log_loss(y_true, y_pred):\n",
    "#     epsilon = 1e-15\n",
    "#     # y_pred = np.clip(y_pred, epsilon, 1 - epsilon)\n",
    "#     y_pred = 1- epsilon if y_pred >= 1 else y_pred\n",
    "#     y_pred = epsilon if y_pred <= 0 else y_pred\n",
    "#     loss = -(y_true * np.log(y_pred) + (1 - y_true) * np.log(1 - y_pred))\n",
    "#     return loss\n",
    "\n",
    "# @njit\n",
    "# def log_loss(y_true, y_pred):\n",
    "#     epsilon = 1e-15\n",
    "#     #y_pred = np.clip(y_pred, epsilon, 1 - epsilon)\n",
    "#     if y_pred < epsilon:\n",
    "#         y_pred = epsilon\n",
    "#     elif y_pred > 1-epsilon:\n",
    "#         y_pred = 1-epsilon\n",
    "#     # Compute binary cross-entropy\n",
    "#     loss = -(y_true * np.log(y_pred) + (1 - y_true) * np.log(1 - y_pred))\n",
    "#     \n",
    "#     return loss\n",
    "@njit\n",
    "def log_loss(bought, pred):\n",
    "    # Using the log loss prevents the exploiting gradient problem\n",
    "    return np.log(np.exp(-pred * bought) + 1.0)\n",
    "# \n",
    "# @njit\n",
    "# def log_loss(y,yHat):\n",
    "#     epsilon = 1e-15\n",
    "#     if yHat < epsilon:\n",
    "#         yHat = epsilon\n",
    "#     elif yHat > 1-epsilon:\n",
    "#         yHat = 1-epsilon\n",
    "#     if y == 1:\n",
    "#         return -np.log(yHat)\n",
    "#     else:\n",
    "#         return -np.log(1 - yHat)\n",
    "\n",
    "# @njit\n",
    "# def log_loss(y_true, y_pred):\n",
    "#     epsilon = 1e-15\n",
    "#     y_true = 1- epsilon if y_true == 1 else epsilon\n",
    "#     phat = 1/(np.exp(-y_pred) + 1.0)\n",
    "#     return y_true * np.log(phat) + (1 - y_true) * np.log(1 - phat)\n",
    "\n",
    "\n",
    "@njit\n",
    "def predict_single(data, indices, indptr, i, latent_factors, w0, w, V):\n",
    "    # The sum of the interactions will be saved so that it can be used later on\n",
    "    sum_factors = np.zeros(latent_factors)\n",
    "    summed_squared = np.zeros(latent_factors)\n",
    "\n",
    "    # Initialize prediction with w0\n",
    "    prediction = w0\n",
    "\n",
    "    # Linear product w * x\n",
    "    for index in range(indptr[i], indptr[i + 1]):\n",
    "        feature = indices[index]\n",
    "        prediction += w[feature] * data[index]\n",
    "\n",
    "    # Interactions product\n",
    "    for factor in range(latent_factors):\n",
    "        # squared_sum = 0\n",
    "\n",
    "        for index in range(indptr[i], indptr[i + 1]):\n",
    "            feature = indices[index]\n",
    "            product = V[factor, feature] * data[index]\n",
    "            sum_factors[factor] += product\n",
    "            summed_squared[factor] += product * product\n",
    "\n",
    "        prediction += 0.5 * (sum_factors[factor] * sum_factors[factor] - summed_squared[factor])\n",
    "\n",
    "    return prediction, sum_factors\n",
    "\n",
    "\n",
    "@njit\n",
    "def SGD(data, indices, indptr, latent_factors, w0, w, V, learning_rate, bought, reg_w, reg_v):\n",
    "    loss = 0\n",
    "\n",
    "    for i in range(len(bought)):\n",
    "        prediction, sum_factors = predict_single(data, indices, indptr, i, latent_factors, w0, w, V)\n",
    "        loss += log_loss(bought[i], prediction)\n",
    "        loss_gradient = -bought[i] / (np.exp(bought[i] * prediction) + 1.0)\n",
    "\n",
    "        # Update bias term\n",
    "        w0 -= learning_rate * loss_gradient\n",
    "\n",
    "        # Update features bias\n",
    "        for index in range(indptr[i], indptr[i + 1]):\n",
    "            feature = indices[index]\n",
    "            w[feature] -= learning_rate * (loss_gradient * data[index] + 2 * reg_w * w[feature])\n",
    "\n",
    "        # Update latent factors\n",
    "        for factor in range(latent_factors):\n",
    "            for index in range(indptr[i], indptr[i + 1]):\n",
    "                feature = indices[index]\n",
    "                term = sum_factors[factor] - V[factor, feature] * data[index]\n",
    "                v_gradient = loss_gradient * data[index] * term\n",
    "                V[factor, feature] -= learning_rate * (v_gradient + 2 * reg_v * V[factor, feature])\n",
    "\n",
    "        # if i % 100000 == 0:\n",
    "        #    print('Loss at step ', i, ': ', loss)\n",
    "\n",
    "    loss /= data.shape[0]\n",
    "\n",
    "    return loss, w0, w, V\n",
    "\n",
    "\n",
    "class FactorizationMachine:\n",
    "    def __init__(self, transactions_matrix, bought, latent_factors):\n",
    "        self.transactions_matrix = transactions_matrix\n",
    "        self.bought = bought\n",
    "        self.latent_factors = latent_factors\n",
    "\n",
    "        self.n_samples, self.n_variables = self.transactions_matrix.shape\n",
    "\n",
    "    def fit(self, n_epochs=10, learning_rate=0.001, lmbda=0.1, reg_w=0.01, reg_latent=0.01, verbose=True):\n",
    "        \"\"\" We decompose the R matrix into to submatrices using the training data \"\"\"\n",
    "        self.verbose = verbose\n",
    "        self.learning_rate = learning_rate\n",
    "        self.lmbda = lmbda\n",
    "\n",
    "        np.random.seed(47)\n",
    "        # Initialize training variables\n",
    "        self.w0 = 0\n",
    "\n",
    "        self.reg_w = reg_w\n",
    "        self.reg_latent = reg_latent\n",
    "\n",
    "        self.w = np.random.normal(0, 1, self.n_variables)\n",
    "        self.V = np.random.normal(0, scale=1 / np.sqrt(self.latent_factors),\n",
    "                                  size=(self.latent_factors, self.n_variables))\n",
    "\n",
    "        data = self.transactions_matrix.data\n",
    "        indices = self.transactions_matrix.indices\n",
    "        indptr = self.transactions_matrix.indptr\n",
    "        bought = self.bought\n",
    "        self.history_ = []\n",
    "        for epoch in range(n_epochs):\n",
    "            print('Epoch: {}'.format(epoch))\n",
    "            \n",
    "            loss, self.w0, self.w, self.V = SGD(\n",
    "                data=data, indices=indices, indptr=indptr, latent_factors=self.latent_factors,\n",
    "                w0=self.w0, w=self.w, V=self.V, learning_rate=self.learning_rate,\n",
    "                bought=bought, reg_w=self.reg_w, reg_v=self.reg_latent\n",
    "            )\n",
    "\n",
    "            print(f'Loss: {loss}')\n",
    "            self.history_.append(loss)\n",
    "\n",
    "    def predict_proba(self, data):\n",
    "        \"\"\"\n",
    "        Probability estimates. The returned estimates for\n",
    "        all classes are ordered by the label of classes.\n",
    "\n",
    "        Paramters\n",
    "        ---------\n",
    "        X : scipy sparse csr_matrix, shape [n_samples, n_features]\n",
    "            Data in sparse matrix format.\n",
    "\n",
    "        Returns\n",
    "        -------\n",
    "        proba : 2d ndarray, shape [n_samples, n_classes]\n",
    "            The probability of the sample for each class in the model.\n",
    "        \"\"\"\n",
    "        pred = self.predict_all_sample(data)\n",
    "        pred_proba = 1.0 / (1.0 + np.exp(-pred))\n",
    "        proba = np.vstack((1 - pred_proba, pred_proba)).T\n",
    "        return proba\n",
    "\n",
    "    def predict_all_sample(self, data):\n",
    "        \"\"\"Predict vectorized for all samples\"\"\"\n",
    "        linear_output = data * self.w\n",
    "        v = self.V.T\n",
    "        term = (data * v) ** 2 - (data.power(2) * (v ** 2))\n",
    "        factor_output = 0.5 * np.sum(term, axis=1)\n",
    "        return self.w0 + linear_output + factor_output\n",
    "\n",
    "    def predict(self, data):\n",
    "        \"\"\"\n",
    "        Predict class labels for samples in X.\n",
    "\n",
    "        Parameters\n",
    "        ----------\n",
    "        X : scipy sparse csr_matrix, shape [n_samples, n_features]\n",
    "            Data in sparse matrix format.\n",
    "\n",
    "        Returns\n",
    "        -------\n",
    "        Predicted class label per sample.\n",
    "        \"\"\"\n",
    "        pred_proba = self.predict_proba(data)[:, 1]\n",
    "        return pred_proba.round().astype(np.int)\n",
    "\n",
    "    def __plot_learning_curves__(self):\n",
    "        # change default style figure and font size\n",
    "        plt.rcParams['figure.figsize'] = 8, 6\n",
    "        plt.rcParams['font.size'] = 12\n",
    "\n",
    "        # one quick way to check that we've implemented\n",
    "        # the gradient descent is to ensure that the loss\n",
    "        # curve is steadily decreasing\n",
    "        plt.plot(self.history_)\n",
    "        plt.title('Loss Curve Per Iteration')\n",
    "        plt.xlabel('Iterations')\n",
    "        plt.ylabel('Loss')\n",
    "        plt.show()"
   ]
  },
  {
   "cell_type": "code",
   "execution_count": null,
   "id": "07c3f263",
   "metadata": {
    "ExecuteTime": {
     "end_time": "2023-11-29T15:03:33.029932Z",
     "start_time": "2023-11-29T15:00:36.980867Z"
    },
    "collapsed": false,
    "jupyter": {
     "outputs_hidden": false
    }
   },
   "outputs": [
    {
     "name": "stdout",
     "output_type": "stream",
     "text": [
      "Epoch: 0\n",
      "Loss: 0.0776979587090785\n",
      "Epoch: 1\n",
      "Loss: 0.07767445666824267\n",
      "Epoch: 2\n",
      "Loss: 0.07766961431641663\n",
      "Epoch: 3\n",
      "Loss: 0.07766783485843692\n",
      "Epoch: 4\n",
      "Loss: 0.07766697699567696\n",
      "Epoch: 5\n",
      "Loss: 0.0776664925582408\n",
      "Epoch: 6\n",
      "Loss: 0.07766618912169393\n",
      "Epoch: 7\n",
      "Loss: 0.07766598456396134\n",
      "Epoch: 8\n",
      "Loss: 0.07766583889542063\n",
      "Epoch: 9\n",
      "Loss: 0.07766573067755679\n",
      "Epoch: 10\n",
      "Loss: 0.07766564753720644\n",
      "Epoch: 11\n",
      "Loss: 0.07766558190218696\n",
      "Epoch: 12\n",
      "Loss: 0.07766552891195935\n",
      "Epoch: 13\n",
      "Loss: 0.07766548532035056\n",
      "Epoch: 14\n",
      "Loss: 0.07766544888579544\n",
      "Epoch: 15\n",
      "Loss: 0.07766541801556953"
     ]
    }
   ],
   "source": [
    "fm = FactorizationMachine(transactions_matrix = sparse_matrix, bought = train_df.bought.values, latent_factors = 100)\n",
    "fm.fit(learning_rate=0.01,n_epochs=20)"
   ]
  },
  {
   "cell_type": "code",
   "execution_count": 53,
   "id": "76cb3dbc",
   "metadata": {
    "ExecuteTime": {
     "end_time": "2023-11-29T15:03:33.338901Z",
     "start_time": "2023-11-29T15:03:33.024970Z"
    },
    "collapsed": false,
    "jupyter": {
     "outputs_hidden": false
    }
   },
   "outputs": [
    {
     "data": {
      "image/png": "[encoded data removed]",
      "text/plain": [
       "<Figure size 576x432 with 1 Axes>"
      ]
     },
     "metadata": {},
     "output_type": "display_data"
    }
   ],
   "source": [
    "fm.__plot_learning_curves__()"
   ]
  },
  {
   "cell_type": "markdown",
   "id": "89bbe68e",
   "metadata": {},
   "source": [
    "### Predictions"
   ]
  },
  {
   "cell_type": "code",
   "execution_count": 54,
   "id": "3b6f0f79",
   "metadata": {
    "ExecuteTime": {
     "end_time": "2023-11-29T15:25:58.273810Z",
     "start_time": "2023-11-29T15:25:57.956589Z"
    },
    "collapsed": false,
    "jupyter": {
     "outputs_hidden": false
    }
   },
   "outputs": [],
   "source": [
    "import pandas as pd\n",
    "import os \n",
    "import matplotlib.pyplot as plt\n",
    "import matplotlib.image as mpimg\n",
    "\n",
    "idx_to_train_article_id = {i: article for i, article in enumerate(np.unique(train_df.article_id))}\n",
    "\n",
    "# Generate 12 suggestions for a user-products matrix\n",
    "def generate_suggestions(model, matrix, n = 12):\n",
    "    proba = model.predict_proba(matrix)\n",
    "    index = pd.DataFrame(proba, columns=['No', 'Yes']).sort_values('Yes', ascending = False)[0:n]['Yes'].index\n",
    "    value = pd.DataFrame(proba, columns=['No', 'Yes']).sort_values('Yes', ascending = False)[0:n]['Yes'].values\n",
    "    #return index, value\n",
    "    return [''.join('0' + str(idx_to_train_article_id[i])) for i in index]\n",
    "\n",
    "\n",
    "# Generate submission\n",
    "def submission(model, res_article, res_customer, customer_matrix):\n",
    "    submission = {}\n",
    "    for i in tqdm(range(len(res_customer))):\n",
    "        customer_id = res_customer[i]\n",
    "        customer_matrix = get_user_matrix(i)\n",
    "        recommendations = generate_suggestions(model, res_article, customer_matrix, n = 12)\n",
    "        submission[customer_id] = ' '.join('0' + str(x) for x in recommendations)  \n",
    "    return submission\n",
    "\n",
    "def display_articles(articles):\n",
    "    w = 10\n",
    "    h = 10\n",
    "    fig = plt.figure(figsize=(8, 8))\n",
    "    columns = 4\n",
    "    rows = 3\n",
    "    for i, article in enumerate(articles[0:12]):\n",
    "        path = 'data/h-and-m-personalized-fashion-recommendations/images/' + article[0:3] + '/' + article + '.jpg'\n",
    "        if not os.path.isfile(path):\n",
    "            continue\n",
    "        fig.add_subplot(rows, columns, i + 1)\n",
    "        img = mpimg.imread(path)\n",
    "        plt.imshow(img)\n",
    "    plt.show()\n",
    "\n",
    "def get_user_matrix(customer_id, customers_df, transactions_df):\n",
    "    n_rows = len(np.unique(train_df.article_id))\n",
    "    \n",
    "    customers_df = preprocess_customers_df(customers_df, transactions_df)\n",
    "    \n",
    "    # Create CSR matrix for customers\n",
    "    rows = np.arange(n_rows)\n",
    "    cols = [customers_id_to_idx[customer_id]] * n_rows\n",
    "    data = np.ones(n_rows)\n",
    "    csr_customers = sparse.csr_matrix((data, (rows, cols)), shape=(n_rows, len(customers_id_to_idx)))\n",
    "\n",
    "    # Create CSR matrix for articles\n",
    "    rows = np.arange(n_rows)\n",
    "    cols = [articles_id_to_idx[article] for article in np.unique(train_df.article_id)]\n",
    "    data = np.ones(n_rows)\n",
    "    csr_articles = sparse.csr_matrix((data, (rows, cols)), shape=(n_rows, len(articles_id_to_idx)))\n",
    "    \n",
    "    \n",
    "    #todo: Create CSR matrix for article features\n",
    "    rows = np.arange(n_rows)\n",
    "    cols = np.array([articles_index_group_to_index[articles_df[articles_df.article_id==article].index_group_no.values[0]] for article in np.unique(train_df.article_id)])\n",
    "    data = np.ones(len(rows))\n",
    "    csr_articles_feature = sparse.csr_matrix((data, (rows, cols)), shape=(len(rows), len(articles_index_group_to_index)))\n",
    "\n",
    "    customer_data = customers_df[customers_df['customer_id'] == customer_id].iloc[0]        \n",
    "    \n",
    "    # Concatenate matrices in CSR format\n",
    "    sparse_matrix = sparse.hstack((csr_customers, csr_articles,csr_articles_feature), format='csr')\n",
    "    # Age\n",
    "    sparse_matrix = hstack((sparse_matrix, [[customer_data['age']]] * n_rows), format='csr')\n",
    "    # Active\n",
    "    sparse_matrix = hstack((sparse_matrix, [[customer_data['Active']]] * n_rows), format='csr')\n",
    "    # Club member status\n",
    "    sparse_matrix = hstack((sparse_matrix, [[customer_data['club_member_status']]] * n_rows), format='csr')\n",
    "    # Common postal code\n",
    "    sparse_matrix = hstack((sparse_matrix, [[customer_data['common_postal_code']]] * n_rows), format='csr')\n",
    "    \n",
    "    return sparse_matrix"
   ]
  },
  {
   "cell_type": "code",
   "execution_count": 55,
   "id": "b0a7de60",
   "metadata": {
    "ExecuteTime": {
     "end_time": "2023-11-29T15:23:44.427631Z",
     "start_time": "2023-11-29T15:23:41.173275Z"
    },
    "collapsed": false,
    "jupyter": {
     "outputs_hidden": false
    }
   },
   "outputs": [],
   "source": [
    "preprocessed_customers_df = preprocess_customers_df(customers_df, transactions_df)\n",
    "\n",
    "def get_random_recommendations(n=5):\n",
    "    counter = 0\n",
    "    while counter < n:\n",
    "        customer_id = customers_df.iloc[np.random.randint(0, len(customers_df))]['customer_id']\n",
    "        customer_info = preprocessed_customers_df.loc[preprocessed_customers_df.customer_id == customer_id]\n",
    "        if len(customer_info) == 0:\n",
    "            continue\n",
    "        print(\"Customer info:\")\n",
    "        print(customer_info.iloc[0])\n",
    "        user_matrix = get_user_matrix(customer_id, customers_df, transactions_df)\n",
    "        recommendations = generate_suggestions(fm, user_matrix)\n",
    "        print(\"Previously bought\")\n",
    "        display_articles(['0' + str(article) for article in train_df.loc[train_df.customer_id == customer_id]['article_id'].values])\n",
    "        print(\"Recommendations\")\n",
    "        display_articles(recommendations)\n",
    "        counter += 1"
   ]
  },
  {
   "cell_type": "code",
   "execution_count": 56,
   "id": "f959bb6d",
   "metadata": {
    "ExecuteTime": {
     "end_time": "2023-11-29T15:26:21.294108Z",
     "start_time": "2023-11-29T15:26:05.876020Z"
    },
    "collapsed": false,
    "jupyter": {
     "outputs_hidden": false
    }
   },
   "outputs": [
    {
     "name": "stdout",
     "output_type": "stream",
     "text": [
      "Customer info:\n",
      "customer_id           61a3bca367efa313d8e6e0915b32d8f92248f611a721ce...\n",
      "Active                                                                1\n",
      "club_member_status                                                    0\n",
      "age                                                                  27\n",
      "common_postal_code                                                    0\n",
      "article_id                                                    781613006\n",
      "index_group_no                                                        1\n",
      "Name: 80775, dtype: object\n",
      "Previously bought\n"
     ]
    },
    {
     "data": {
      "text/plain": [
       "<Figure size 576x576 with 0 Axes>"
      ]
     },
     "metadata": {},
     "output_type": "display_data"
    },
    {
     "name": "stdout",
     "output_type": "stream",
     "text": [
      "Recommendations\n"
     ]
    },
    {
     "data": {
      "text/plain": [
       "<Figure size 576x576 with 0 Axes>"
      ]
     },
     "metadata": {},
     "output_type": "display_data"
    },
    {
     "name": "stdout",
     "output_type": "stream",
     "text": [
      "Customer info:\n",
      "customer_id           8f6ef0d37f740c11957173ca2464d6f5c3ea66f6b9371a...\n",
      "Active                                                                1\n",
      "club_member_status                                                    0\n",
      "age                                                                  23\n",
      "common_postal_code                                                    0\n",
      "article_id                                                    838340003\n",
      "index_group_no                                                        2\n",
      "Name: 292391, dtype: object\n",
      "Previously bought\n"
     ]
    },
    {
     "data": {
      "text/plain": [
       "<Figure size 576x576 with 0 Axes>"
      ]
     },
     "metadata": {},
     "output_type": "display_data"
    },
    {
     "name": "stdout",
     "output_type": "stream",
     "text": [
      "Recommendations\n"
     ]
    },
    {
     "data": {
      "text/plain": [
       "<Figure size 576x576 with 0 Axes>"
      ]
     },
     "metadata": {},
     "output_type": "display_data"
    },
    {
     "name": "stdout",
     "output_type": "stream",
     "text": [
      "Customer info:\n",
      "customer_id           524702ebd7762bcf4a2649347d5e0be502c083f2fb6994...\n",
      "Active                                                                1\n",
      "club_member_status                                                    0\n",
      "age                                                                  49\n",
      "common_postal_code                                                    0\n",
      "article_id                                                    914441005\n",
      "index_group_no                                                        2\n",
      "Name: 29328, dtype: object\n",
      "Previously bought\n"
     ]
    },
    {
     "data": {
      "text/plain": [
       "<Figure size 576x576 with 0 Axes>"
      ]
     },
     "metadata": {},
     "output_type": "display_data"
    },
    {
     "name": "stdout",
     "output_type": "stream",
     "text": [
      "Recommendations\n"
     ]
    },
    {
     "data": {
      "text/plain": [
       "<Figure size 576x576 with 0 Axes>"
      ]
     },
     "metadata": {},
     "output_type": "display_data"
    },
    {
     "name": "stdout",
     "output_type": "stream",
     "text": [
      "Customer info:\n",
      "customer_id           ccbeeb5b7312fdeba414feae3e3fdd45f32f0d7f089f6d...\n",
      "Active                                                                1\n",
      "club_member_status                                                    0\n",
      "age                                                                  52\n",
      "common_postal_code                                                    0\n",
      "article_id                                                    470789001\n",
      "index_group_no                                                        1\n",
      "Name: 462813, dtype: object\n",
      "Previously bought\n"
     ]
    },
    {
     "data": {
      "text/plain": [
       "<Figure size 576x576 with 0 Axes>"
      ]
     },
     "metadata": {},
     "output_type": "display_data"
    },
    {
     "name": "stdout",
     "output_type": "stream",
     "text": [
      "Recommendations\n"
     ]
    },
    {
     "data": {
      "text/plain": [
       "<Figure size 576x576 with 0 Axes>"
      ]
     },
     "metadata": {},
     "output_type": "display_data"
    },
    {
     "name": "stdout",
     "output_type": "stream",
     "text": [
      "Customer info:\n",
      "customer_id           a852ac0a6dc0cc288541533a17677e3235c8f73b51835e...\n",
      "Active                                                                1\n",
      "club_member_status                                                    0\n",
      "age                                                                  47\n",
      "common_postal_code                                                    0\n",
      "article_id                                                    791587001\n",
      "index_group_no                                                       26\n",
      "Name: 51832, dtype: object\n",
      "Previously bought\n"
     ]
    },
    {
     "data": {
      "text/plain": [
       "<Figure size 576x576 with 0 Axes>"
      ]
     },
     "metadata": {},
     "output_type": "display_data"
    },
    {
     "name": "stdout",
     "output_type": "stream",
     "text": [
      "Recommendations\n"
     ]
    },
    {
     "data": {
      "text/plain": [
       "<Figure size 576x576 with 0 Axes>"
      ]
     },
     "metadata": {},
     "output_type": "display_data"
    }
   ],
   "source": [
    "get_random_recommendations(n=5)"
   ]
  },
  {
   "cell_type": "markdown",
   "id": "0c71619f",
   "metadata": {},
   "source": [
    "## Validation"
   ]
  },
  {
   "cell_type": "code",
   "execution_count": 150,
   "id": "fe9cbd81",
   "metadata": {
    "ExecuteTime": {
     "end_time": "2023-11-28T08:23:21.457205Z",
     "start_time": "2023-11-28T08:23:21.188637Z"
    },
    "collapsed": false,
    "jupyter": {
     "outputs_hidden": false
    }
   },
   "outputs": [],
   "source": [
    "val_df = pd.read_csv(\"data/validation_sm.csv\")\n",
    "val_df = val_df[['customer_id','article_id']]"
   ]
  },
  {
   "cell_type": "code",
   "execution_count": 153,
   "id": "71fe04b4",
   "metadata": {},
   "outputs": [],
   "source": [
    "val_df = val_df.loc[val_df.article_id.isin(get_most_bought_articles(transactions_df, num_articles=10))]"
   ]
  },
  {
   "cell_type": "code",
   "execution_count": 75,
   "id": "d3d99946",
   "metadata": {
    "ExecuteTime": {
     "end_time": "2023-11-28T14:20:26.130520Z",
     "start_time": "2023-11-28T14:20:22.658895Z"
    },
    "collapsed": false,
    "jupyter": {
     "outputs_hidden": false
    }
   },
   "outputs": [],
   "source": [
    "def get_predictions(customers):\n",
    "    all_recommendations = []\n",
    "    for customer_id in tqdm(customers):\n",
    "        customer_info = preprocessed_customers_df.loc[preprocessed_customers_df.customer_id == customer_id]\n",
    "        if len(customer_info) == 0:\n",
    "            recommendations = get_popularity_based_prediction(customer_id)\n",
    "        else:\n",
    "            user_matrix = get_user_matrix(customer_id, customers_df, transactions_df)\n",
    "            recommendations = generate_suggestions(fm, user_matrix)\n",
    "        all_recommendations.append(recommendations)\n",
    "    return pd.DataFrame({'customer_id': customers, 'prediction': all_recommendations})"
   ]
  },
  {
   "cell_type": "markdown",
   "id": "539ac6b0",
   "metadata": {},
   "source": [
    "- train 데이터에 구매 이력이 있는 고객에 대하여 ground truth 데이터를 생성한다"
   ]
  },
  {
   "cell_type": "code",
   "execution_count": 155,
   "id": "96a3b290",
   "metadata": {
    "ExecuteTime": {
     "end_time": "2023-11-28T09:28:42.704290Z",
     "start_time": "2023-11-28T09:28:42.671920Z"
    },
    "collapsed": false,
    "jupyter": {
     "outputs_hidden": false
    }
   },
   "outputs": [],
   "source": [
    "preprocessed_customers_df = preprocess_customers_df(customers_df, transactions_df)\n",
    "\n",
    "targets = val_df.groupby('customer_id')['article_id'].apply(set)\n",
    "targets_sample = targets[targets.apply(lambda x: len(x) > 12)]\n",
    "targets_sample = targets_sample.apply(list)\n",
    "targets_sample = targets_sample[targets_sample.index.isin(preprocessed_customers_df.customer_id)]"
   ]
  },
  {
   "cell_type": "code",
   "execution_count": 117,
   "id": "d25da3ea",
   "metadata": {},
   "outputs": [
    {
     "data": {
      "text/html": [
       "<div>\n",
       "<style scoped>\n",
       "    .dataframe tbody tr th:only-of-type {\n",
       "        vertical-align: middle;\n",
       "    }\n",
       "\n",
       "    .dataframe tbody tr th {\n",
       "        vertical-align: top;\n",
       "    }\n",
       "\n",
       "    .dataframe thead th {\n",
       "        text-align: right;\n",
       "    }\n",
       "</style>\n",
       "<table border=\"1\" class=\"dataframe\">\n",
       "  <thead>\n",
       "    <tr style=\"text-align: right;\">\n",
       "      <th></th>\n",
       "      <th>customer_id</th>\n",
       "      <th>article_id</th>\n",
       "    </tr>\n",
       "  </thead>\n",
       "  <tbody>\n",
       "    <tr>\n",
       "      <th>24853</th>\n",
       "      <td>f3e3bacbbdd44d1bda47b4c5f61d291dc2d0e090cebc9e...</td>\n",
       "      <td>889703001</td>\n",
       "    </tr>\n",
       "    <tr>\n",
       "      <th>63475</th>\n",
       "      <td>40f4665fe26a4cb838700ae15ff60bc89f491732f944af...</td>\n",
       "      <td>889703001</td>\n",
       "    </tr>\n",
       "    <tr>\n",
       "      <th>70437</th>\n",
       "      <td>6c633d44d18f0517dc3774b0cb07d8c88c971032ed167b...</td>\n",
       "      <td>889703001</td>\n",
       "    </tr>\n",
       "    <tr>\n",
       "      <th>70438</th>\n",
       "      <td>6c633d44d18f0517dc3774b0cb07d8c88c971032ed167b...</td>\n",
       "      <td>889703001</td>\n",
       "    </tr>\n",
       "    <tr>\n",
       "      <th>70439</th>\n",
       "      <td>6c633d44d18f0517dc3774b0cb07d8c88c971032ed167b...</td>\n",
       "      <td>889703001</td>\n",
       "    </tr>\n",
       "    <tr>\n",
       "      <th>117358</th>\n",
       "      <td>98e6d2f440e7b29dc139b2e911f41adc1f814e09f16aca...</td>\n",
       "      <td>889703001</td>\n",
       "    </tr>\n",
       "    <tr>\n",
       "      <th>147283</th>\n",
       "      <td>6280a61cc380a4175adfb1a589802ad409e3451aa353c4...</td>\n",
       "      <td>889703001</td>\n",
       "    </tr>\n",
       "    <tr>\n",
       "      <th>156638</th>\n",
       "      <td>a29a5dbccd49c032bbf2ccf30ab2fa618b0856aa3d9d9c...</td>\n",
       "      <td>889703001</td>\n",
       "    </tr>\n",
       "    <tr>\n",
       "      <th>175672</th>\n",
       "      <td>2fb3a79f9f42da414c18f4f99f7e457de7e07c05eb474b...</td>\n",
       "      <td>889703001</td>\n",
       "    </tr>\n",
       "    <tr>\n",
       "      <th>178490</th>\n",
       "      <td>45ad973f2b97b0872f00871c5ac6f4cfdc74c124ef734c...</td>\n",
       "      <td>889703001</td>\n",
       "    </tr>\n",
       "    <tr>\n",
       "      <th>178491</th>\n",
       "      <td>45ad973f2b97b0872f00871c5ac6f4cfdc74c124ef734c...</td>\n",
       "      <td>889703001</td>\n",
       "    </tr>\n",
       "    <tr>\n",
       "      <th>181920</th>\n",
       "      <td>60a901b9e261e9d4e855a81e278ed8b47af3b45eca3793...</td>\n",
       "      <td>889703001</td>\n",
       "    </tr>\n",
       "    <tr>\n",
       "      <th>218158</th>\n",
       "      <td>85fb1a08b908dd11fb61ce743ff734809d421266c431d2...</td>\n",
       "      <td>889703001</td>\n",
       "    </tr>\n",
       "    <tr>\n",
       "      <th>247278</th>\n",
       "      <td>99153b037284ccb2ac48942ba5fb4a518dae90c425976c...</td>\n",
       "      <td>889703001</td>\n",
       "    </tr>\n",
       "    <tr>\n",
       "      <th>252404</th>\n",
       "      <td>d240c6201714aaa035b0d7825a154a6a6fd7c2708e8721...</td>\n",
       "      <td>889703001</td>\n",
       "    </tr>\n",
       "    <tr>\n",
       "      <th>252405</th>\n",
       "      <td>d240c6201714aaa035b0d7825a154a6a6fd7c2708e8721...</td>\n",
       "      <td>889703001</td>\n",
       "    </tr>\n",
       "  </tbody>\n",
       "</table>\n",
       "</div>"
      ],
      "text/plain": [
       "                                              customer_id  article_id\n",
       "24853   f3e3bacbbdd44d1bda47b4c5f61d291dc2d0e090cebc9e...   889703001\n",
       "63475   40f4665fe26a4cb838700ae15ff60bc89f491732f944af...   889703001\n",
       "70437   6c633d44d18f0517dc3774b0cb07d8c88c971032ed167b...   889703001\n",
       "70438   6c633d44d18f0517dc3774b0cb07d8c88c971032ed167b...   889703001\n",
       "70439   6c633d44d18f0517dc3774b0cb07d8c88c971032ed167b...   889703001\n",
       "117358  98e6d2f440e7b29dc139b2e911f41adc1f814e09f16aca...   889703001\n",
       "147283  6280a61cc380a4175adfb1a589802ad409e3451aa353c4...   889703001\n",
       "156638  a29a5dbccd49c032bbf2ccf30ab2fa618b0856aa3d9d9c...   889703001\n",
       "175672  2fb3a79f9f42da414c18f4f99f7e457de7e07c05eb474b...   889703001\n",
       "178490  45ad973f2b97b0872f00871c5ac6f4cfdc74c124ef734c...   889703001\n",
       "178491  45ad973f2b97b0872f00871c5ac6f4cfdc74c124ef734c...   889703001\n",
       "181920  60a901b9e261e9d4e855a81e278ed8b47af3b45eca3793...   889703001\n",
       "218158  85fb1a08b908dd11fb61ce743ff734809d421266c431d2...   889703001\n",
       "247278  99153b037284ccb2ac48942ba5fb4a518dae90c425976c...   889703001\n",
       "252404  d240c6201714aaa035b0d7825a154a6a6fd7c2708e8721...   889703001\n",
       "252405  d240c6201714aaa035b0d7825a154a6a6fd7c2708e8721...   889703001"
      ]
     },
     "execution_count": 117,
     "metadata": {},
     "output_type": "execute_result"
    }
   ],
   "source": [
    "val_df[val_df.article_id==889703001]"
   ]
  },
  {
   "cell_type": "raw",
   "id": "1b2b9575",
   "metadata": {},
   "source": [
    "customer_matrix = get_user_matrix(targets_sample.index[1],customers_df,transactions_df)"
   ]
  },
  {
   "cell_type": "code",
   "execution_count": 76,
   "id": "16b97eec",
   "metadata": {
    "ExecuteTime": {
     "end_time": "2023-11-28T10:24:36.037776Z",
     "start_time": "2023-11-28T10:14:19.755115Z"
    },
    "collapsed": false,
    "jupyter": {
     "outputs_hidden": false
    }
   },
   "outputs": [
    {
     "name": "stderr",
     "output_type": "stream",
     "text": [
      "100%|██████████| 200/200 [43:00<00:00, 12.90s/it]\n"
     ]
    }
   ],
   "source": [
    "predictions = get_predictions(targets_sample.index[:200])"
   ]
  },
  {
   "cell_type": "markdown",
   "id": "1c2f1ae6",
   "metadata": {},
   "source": [
    "- calculate map@12"
   ]
  },
  {
   "cell_type": "markdown",
   "id": "8d3b0e8c",
   "metadata": {},
   "source": [
    "- 추천결과가 상당히 유사하게 나왔지만 완전히 일치하는 추천 순서는 한 건으로 보인다"
   ]
  },
  {
   "cell_type": "code",
   "execution_count": 157,
   "id": "6710f55a",
   "metadata": {},
   "outputs": [
    {
     "data": {
      "text/html": [
       "<div>\n",
       "<style scoped>\n",
       "    .dataframe tbody tr th:only-of-type {\n",
       "        vertical-align: middle;\n",
       "    }\n",
       "\n",
       "    .dataframe tbody tr th {\n",
       "        vertical-align: top;\n",
       "    }\n",
       "\n",
       "    .dataframe thead th {\n",
       "        text-align: right;\n",
       "    }\n",
       "</style>\n",
       "<table border=\"1\" class=\"dataframe\">\n",
       "  <thead>\n",
       "    <tr style=\"text-align: right;\">\n",
       "      <th></th>\n",
       "      <th>prediction</th>\n",
       "    </tr>\n",
       "    <tr>\n",
       "      <th>customer_id</th>\n",
       "      <th></th>\n",
       "    </tr>\n",
       "  </thead>\n",
       "  <tbody>\n",
       "    <tr>\n",
       "      <th>00077dbd5c4a4991e092e63893ccf29294a9d5c46e85010e95f2fc10bf9437a4</th>\n",
       "      <td>['0862325004', '0889703001', '0860657004', '08...</td>\n",
       "    </tr>\n",
       "    <tr>\n",
       "      <th>0071db058be38eb5732a431d01137b2dbae5643ee60ffd9cb1280dc7308c9edf</th>\n",
       "      <td>['0889703001', '0862325004', '0854043007', '08...</td>\n",
       "    </tr>\n",
       "    <tr>\n",
       "      <th>0073569a706784581f7916cbc61e6af44c9fa52eae38e40520ae092f379a7232</th>\n",
       "      <td>['0889703001', '0862325004', '0860657004', '08...</td>\n",
       "    </tr>\n",
       "    <tr>\n",
       "      <th>0091bb09e49f45bdaeb3dd80f7bf98b4b8e3e3e49347e6bc9ec9818d631dddee</th>\n",
       "      <td>['0889703001', '0862325004', '0860657004', '08...</td>\n",
       "    </tr>\n",
       "    <tr>\n",
       "      <th>00944aac87d67eb28bb5d3b5dc02dafa6b34c821ff6a3b788360da7e864703a5</th>\n",
       "      <td>['0889703001', '0862325004', '0860657004', '08...</td>\n",
       "    </tr>\n",
       "    <tr>\n",
       "      <th>...</th>\n",
       "      <td>...</td>\n",
       "    </tr>\n",
       "    <tr>\n",
       "      <th>22353dac1f405922bd4731272d8dfa0b5ab77a9873c7a622a63e17dd30ad9cf7</th>\n",
       "      <td>['0889703001', '0862325004', '0860657004', '08...</td>\n",
       "    </tr>\n",
       "    <tr>\n",
       "      <th>2239f080b0ea938d574bc44d9b5ae21a80bd7d4bbfd1b5b1e570c78d388560b2</th>\n",
       "      <td>['0889703001', '0862325004', '0860657004', '08...</td>\n",
       "    </tr>\n",
       "    <tr>\n",
       "      <th>225294df47a93bacb496ed327894d33e6aa2ac088d62ca03d18124f8f375e76a</th>\n",
       "      <td>['0889703001', '0862325004', '0854043007', '08...</td>\n",
       "    </tr>\n",
       "    <tr>\n",
       "      <th>2271c0282ef306d33db231896d02e34c24a8e4d66aaafbf219bd39cef39e802a</th>\n",
       "      <td>['0889703001', '0862325004', '0854043007', '08...</td>\n",
       "    </tr>\n",
       "    <tr>\n",
       "      <th>2291a810e4004aa712a40adee4f16803d4dfae30614db373afdc07ac9d0b48c1</th>\n",
       "      <td>['0889703001', '0862325004', '0860657004', '08...</td>\n",
       "    </tr>\n",
       "  </tbody>\n",
       "</table>\n",
       "<p>199 rows × 1 columns</p>\n",
       "</div>"
      ],
      "text/plain": [
       "                                                                                           prediction\n",
       "customer_id                                                                                          \n",
       "00077dbd5c4a4991e092e63893ccf29294a9d5c46e85010...  ['0862325004', '0889703001', '0860657004', '08...\n",
       "0071db058be38eb5732a431d01137b2dbae5643ee60ffd9...  ['0889703001', '0862325004', '0854043007', '08...\n",
       "0073569a706784581f7916cbc61e6af44c9fa52eae38e40...  ['0889703001', '0862325004', '0860657004', '08...\n",
       "0091bb09e49f45bdaeb3dd80f7bf98b4b8e3e3e49347e6b...  ['0889703001', '0862325004', '0860657004', '08...\n",
       "00944aac87d67eb28bb5d3b5dc02dafa6b34c821ff6a3b7...  ['0889703001', '0862325004', '0860657004', '08...\n",
       "...                                                                                               ...\n",
       "22353dac1f405922bd4731272d8dfa0b5ab77a9873c7a62...  ['0889703001', '0862325004', '0860657004', '08...\n",
       "2239f080b0ea938d574bc44d9b5ae21a80bd7d4bbfd1b5b...  ['0889703001', '0862325004', '0860657004', '08...\n",
       "225294df47a93bacb496ed327894d33e6aa2ac088d62ca0...  ['0889703001', '0862325004', '0854043007', '08...\n",
       "2271c0282ef306d33db231896d02e34c24a8e4d66aaafbf...  ['0889703001', '0862325004', '0854043007', '08...\n",
       "2291a810e4004aa712a40adee4f16803d4dfae30614db37...  ['0889703001', '0862325004', '0860657004', '08...\n",
       "\n",
       "[199 rows x 1 columns]"
      ]
     },
     "execution_count": 157,
     "metadata": {},
     "output_type": "execute_result"
    }
   ],
   "source": [
    "predictions.set_index('customer_id').applymap(str).drop_duplicates(subset='prediction')"
   ]
  },
  {
   "cell_type": "code",
   "execution_count": 127,
   "id": "7c60cee1",
   "metadata": {},
   "outputs": [
    {
     "name": "stdout",
     "output_type": "stream",
     "text": [
      "0862325004\n",
      "862325004\n"
     ]
    }
   ],
   "source": [
    "print(predictions.iloc[0].prediction[0])\n",
    "type(predictions.iloc[0].prediction[0])\n",
    "print(int(predictions.iloc[0].prediction[0]))"
   ]
  },
  {
   "cell_type": "code",
   "execution_count": 128,
   "id": "bb96ab88",
   "metadata": {
    "ExecuteTime": {
     "end_time": "2023-11-28T09:59:32.992488Z",
     "start_time": "2023-11-28T09:59:32.872677Z"
    },
    "collapsed": false,
    "jupyter": {
     "outputs_hidden": false
    }
   },
   "outputs": [
    {
     "name": "stdout",
     "output_type": "stream",
     "text": [
      "158340001\n"
     ]
    },
    {
     "data": {
      "text/plain": [
       "int"
      ]
     },
     "execution_count": 128,
     "metadata": {},
     "output_type": "execute_result"
    }
   ],
   "source": [
    "print(targets_sample.iloc[0][0])\n",
    "type(targets_sample.iloc[0][0])"
   ]
  },
  {
   "cell_type": "code",
   "execution_count": 159,
   "id": "c3946c3b",
   "metadata": {},
   "outputs": [],
   "source": [
    "# 데이터 포맷이 다른 prediction 과 target 각각을 비교하기 위한 처리를 추가함\n",
    "\n",
    "def apk(y_true, y_pred, k_max=0):\n",
    "    y_true = list(set(y_true))\n",
    "    y_pred = list(set(y_pred))\n",
    "    y_pred = list(map(int, y_pred))\n",
    "    if k_max != 0:\n",
    "        y_pred = y_pred[:k_max]\n",
    "\n",
    "#     print(\"y_true: \", y_true)\n",
    "#     print(\"y_pred: \", y_pred)\n",
    "#     print(\"\\n\")\n",
    "    correct_predictions = 0\n",
    "    running_sum = 0\n",
    "\n",
    "    for i, yp_item in enumerate(y_pred):\n",
    "    \n",
    "        k = i+1 # our rank starts at 1\n",
    "    \n",
    "    if yp_item in y_true:\n",
    "        correct_predictions += 1\n",
    "        running_sum += correct_predictions/k\n",
    "\n",
    "    return running_sum/len(y_true)\n",
    "\n",
    "def mapk(actuals, predicted, k=12):\n",
    "    apks = [apk(a,p,12) for a,p in zip(actuals,predicted)]\n",
    "#     print(apks)\n",
    "    return np.mean(apks)"
   ]
  },
  {
   "cell_type": "code",
   "execution_count": 148,
   "id": "cb137af0",
   "metadata": {},
   "outputs": [
    {
     "data": {
      "text/html": [
       "<div>\n",
       "<style scoped>\n",
       "    .dataframe tbody tr th:only-of-type {\n",
       "        vertical-align: middle;\n",
       "    }\n",
       "\n",
       "    .dataframe tbody tr th {\n",
       "        vertical-align: top;\n",
       "    }\n",
       "\n",
       "    .dataframe thead th {\n",
       "        text-align: right;\n",
       "    }\n",
       "</style>\n",
       "<table border=\"1\" class=\"dataframe\">\n",
       "  <thead>\n",
       "    <tr style=\"text-align: right;\">\n",
       "      <th></th>\n",
       "      <th>article_id</th>\n",
       "      <th>product_code</th>\n",
       "      <th>prod_name</th>\n",
       "      <th>product_type_no</th>\n",
       "      <th>product_type_name</th>\n",
       "      <th>product_group_name</th>\n",
       "      <th>graphical_appearance_no</th>\n",
       "      <th>graphical_appearance_name</th>\n",
       "      <th>colour_group_code</th>\n",
       "      <th>colour_group_name</th>\n",
       "      <th>...</th>\n",
       "      <th>department_name</th>\n",
       "      <th>index_code</th>\n",
       "      <th>index_name</th>\n",
       "      <th>index_group_no</th>\n",
       "      <th>index_group_name</th>\n",
       "      <th>section_no</th>\n",
       "      <th>section_name</th>\n",
       "      <th>garment_group_no</th>\n",
       "      <th>garment_group_name</th>\n",
       "      <th>detail_desc</th>\n",
       "    </tr>\n",
       "  </thead>\n",
       "  <tbody>\n",
       "    <tr>\n",
       "      <th>100345</th>\n",
       "      <td>889703001</td>\n",
       "      <td>889703</td>\n",
       "      <td>1pk Short sock</td>\n",
       "      <td>302</td>\n",
       "      <td>Socks</td>\n",
       "      <td>Socks &amp; Tights</td>\n",
       "      <td>1010017</td>\n",
       "      <td>Stripe</td>\n",
       "      <td>10</td>\n",
       "      <td>White</td>\n",
       "      <td>...</td>\n",
       "      <td>Socks Wall</td>\n",
       "      <td>F</td>\n",
       "      <td>Menswear</td>\n",
       "      <td>3</td>\n",
       "      <td>Menswear</td>\n",
       "      <td>26</td>\n",
       "      <td>Men Underwear</td>\n",
       "      <td>1021</td>\n",
       "      <td>Socks and Tights</td>\n",
       "      <td>Socks in a cotton blend with a ribbed, ankle-h...</td>\n",
       "    </tr>\n",
       "  </tbody>\n",
       "</table>\n",
       "<p>1 rows × 25 columns</p>\n",
       "</div>"
      ],
      "text/plain": [
       "        article_id  product_code       prod_name  product_type_no  \\\n",
       "100345   889703001        889703  1pk Short sock              302   \n",
       "\n",
       "       product_type_name product_group_name  graphical_appearance_no  \\\n",
       "100345             Socks     Socks & Tights                  1010017   \n",
       "\n",
       "       graphical_appearance_name  colour_group_code colour_group_name  ...  \\\n",
       "100345                    Stripe                 10             White  ...   \n",
       "\n",
       "        department_name index_code  index_name index_group_no  \\\n",
       "100345       Socks Wall          F    Menswear              3   \n",
       "\n",
       "        index_group_name section_no   section_name garment_group_no  \\\n",
       "100345          Menswear         26  Men Underwear             1021   \n",
       "\n",
       "        garment_group_name                                        detail_desc  \n",
       "100345    Socks and Tights  Socks in a cotton blend with a ribbed, ankle-h...  \n",
       "\n",
       "[1 rows x 25 columns]"
      ]
     },
     "execution_count": 148,
     "metadata": {},
     "output_type": "execute_result"
    }
   ],
   "source": [
    "articles_df[articles_df.article_id == 889703001]"
   ]
  },
  {
   "cell_type": "markdown",
   "id": "5eed3a5e",
   "metadata": {},
   "source": [
    "- 기대하는 MAP@12 퍼포먼스는 나오지 않았다. sample이 잘 못된 것인지 의심된다."
   ]
  },
  {
   "cell_type": "code",
   "execution_count": 160,
   "id": "6478d2d8",
   "metadata": {},
   "outputs": [
    {
     "data": {
      "text/plain": [
       "1.2254901960784313e-05"
      ]
     },
     "execution_count": 160,
     "metadata": {},
     "output_type": "execute_result"
    }
   ],
   "source": [
    "mapk(targets_sample.iloc[:200],predictions.iloc[:200].prediction)"
   ]
  },
  {
   "cell_type": "markdown",
   "id": "6d3f4a16",
   "metadata": {},
   "source": [
    "- prediction 자체가 잘 되지 않았을 지도 모른다는 생각이 들었음."
   ]
  },
  {
   "cell_type": "code",
   "execution_count": 167,
   "id": "739270ab",
   "metadata": {},
   "outputs": [
    {
     "data": {
      "text/html": [
       "<div>\n",
       "<style scoped>\n",
       "    .dataframe tbody tr th:only-of-type {\n",
       "        vertical-align: middle;\n",
       "    }\n",
       "\n",
       "    .dataframe tbody tr th {\n",
       "        vertical-align: top;\n",
       "    }\n",
       "\n",
       "    .dataframe thead th {\n",
       "        text-align: right;\n",
       "    }\n",
       "</style>\n",
       "<table border=\"1\" class=\"dataframe\">\n",
       "  <thead>\n",
       "    <tr style=\"text-align: right;\">\n",
       "      <th></th>\n",
       "      <th>customer_id</th>\n",
       "      <th>prediction</th>\n",
       "    </tr>\n",
       "  </thead>\n",
       "  <tbody>\n",
       "    <tr>\n",
       "      <th>0</th>\n",
       "      <td>c6e17100a6160eab7230db435648786ec751de99394d74...</td>\n",
       "      <td>[0889703001, 0862325004, 0860657004, 088872800...</td>\n",
       "    </tr>\n",
       "    <tr>\n",
       "      <th>1</th>\n",
       "      <td>c721e80543288bebcf0f032f34ff35c77a261a402dd83c...</td>\n",
       "      <td>[0889703001, 0862325004, 0860657004, 088872800...</td>\n",
       "    </tr>\n",
       "    <tr>\n",
       "      <th>2</th>\n",
       "      <td>c80e4f76fed1b48c904da30d16887b29abc8abd991938b...</td>\n",
       "      <td>[0889703001, 0862325004, 0889771002, 085404300...</td>\n",
       "    </tr>\n",
       "    <tr>\n",
       "      <th>3</th>\n",
       "      <td>c851e42599f3bc0d28dbb0cdfbe66e311bab3136c70930...</td>\n",
       "      <td>[0889703001, 0862325004, 0860657004, 085404300...</td>\n",
       "    </tr>\n",
       "    <tr>\n",
       "      <th>4</th>\n",
       "      <td>c88057ce9c0c9ddba7e125802e3ece063d33377ba1c968...</td>\n",
       "      <td>[0889703001, 0862325004, 0860657004, 086210400...</td>\n",
       "    </tr>\n",
       "    <tr>\n",
       "      <th>...</th>\n",
       "      <td>...</td>\n",
       "      <td>...</td>\n",
       "    </tr>\n",
       "    <tr>\n",
       "      <th>51</th>\n",
       "      <td>fa2d2a86a162355ddf58407e9be5d9b59e57b66db5d024...</td>\n",
       "      <td>[0889703001, 0862325004, 0860657004, 085404300...</td>\n",
       "    </tr>\n",
       "    <tr>\n",
       "      <th>52</th>\n",
       "      <td>faeaa958e35637fda7ada8118155e3531bb5d3529ff562...</td>\n",
       "      <td>[0889703001, 0862325004, 0888728006, 086065700...</td>\n",
       "    </tr>\n",
       "    <tr>\n",
       "      <th>53</th>\n",
       "      <td>fb16e817d250e2b6af03a6daa167a23b5234f409c25835...</td>\n",
       "      <td>[0889703001, 0862325004, 0860657004, 085404300...</td>\n",
       "    </tr>\n",
       "    <tr>\n",
       "      <th>54</th>\n",
       "      <td>fbfe4aee61999aeca4c616f9d46ee67d8d144bbecbff59...</td>\n",
       "      <td>[0889703001, 0862325004, 0860657004, 088872800...</td>\n",
       "    </tr>\n",
       "    <tr>\n",
       "      <th>55</th>\n",
       "      <td>fd5ce8716faf00f6a83616f609e0403ac516727d4ca4aa...</td>\n",
       "      <td>[0889703001, 0862325004, 0860657004, 085404300...</td>\n",
       "    </tr>\n",
       "  </tbody>\n",
       "</table>\n",
       "<p>56 rows × 2 columns</p>\n",
       "</div>"
      ],
      "text/plain": [
       "                                          customer_id  \\\n",
       "0   c6e17100a6160eab7230db435648786ec751de99394d74...   \n",
       "1   c721e80543288bebcf0f032f34ff35c77a261a402dd83c...   \n",
       "2   c80e4f76fed1b48c904da30d16887b29abc8abd991938b...   \n",
       "3   c851e42599f3bc0d28dbb0cdfbe66e311bab3136c70930...   \n",
       "4   c88057ce9c0c9ddba7e125802e3ece063d33377ba1c968...   \n",
       "..                                                ...   \n",
       "51  fa2d2a86a162355ddf58407e9be5d9b59e57b66db5d024...   \n",
       "52  faeaa958e35637fda7ada8118155e3531bb5d3529ff562...   \n",
       "53  fb16e817d250e2b6af03a6daa167a23b5234f409c25835...   \n",
       "54  fbfe4aee61999aeca4c616f9d46ee67d8d144bbecbff59...   \n",
       "55  fd5ce8716faf00f6a83616f609e0403ac516727d4ca4aa...   \n",
       "\n",
       "                                           prediction  \n",
       "0   [0889703001, 0862325004, 0860657004, 088872800...  \n",
       "1   [0889703001, 0862325004, 0860657004, 088872800...  \n",
       "2   [0889703001, 0862325004, 0889771002, 085404300...  \n",
       "3   [0889703001, 0862325004, 0860657004, 085404300...  \n",
       "4   [0889703001, 0862325004, 0860657004, 086210400...  \n",
       "..                                                ...  \n",
       "51  [0889703001, 0862325004, 0860657004, 085404300...  \n",
       "52  [0889703001, 0862325004, 0888728006, 086065700...  \n",
       "53  [0889703001, 0862325004, 0860657004, 085404300...  \n",
       "54  [0889703001, 0862325004, 0860657004, 088872800...  \n",
       "55  [0889703001, 0862325004, 0860657004, 085404300...  \n",
       "\n",
       "[56 rows x 2 columns]"
      ]
     },
     "execution_count": 167,
     "metadata": {},
     "output_type": "execute_result"
    }
   ],
   "source": [
    "predictions"
   ]
  },
  {
   "cell_type": "code",
   "execution_count": 166,
   "id": "d6d976d9",
   "metadata": {},
   "outputs": [
    {
     "name": "stderr",
     "output_type": "stream",
     "text": [
      "100%|██████████| 56/56 [12:13<00:00, 13.10s/it]\n"
     ]
    }
   ],
   "source": [
    "predictions = get_predictions(targets_sample.index[200:300])"
   ]
  },
  {
   "cell_type": "markdown",
   "id": "0f5da401",
   "metadata": {},
   "source": [
    "- 역시 MAP@12 스코어가 나쁘다."
   ]
  },
  {
   "cell_type": "code",
   "execution_count": 171,
   "id": "7eefa711",
   "metadata": {},
   "outputs": [
    {
     "data": {
      "text/plain": [
       "0.0"
      ]
     },
     "execution_count": 171,
     "metadata": {},
     "output_type": "execute_result"
    }
   ],
   "source": [
    "mapk(targets_sample.iloc[200:300],predictions.prediction)"
   ]
  },
  {
   "cell_type": "code",
   "execution_count": 162,
   "id": "0e601be2",
   "metadata": {
    "ExecuteTime": {
     "end_time": "2023-11-28T10:09:05.178950Z",
     "start_time": "2023-11-28T10:08:53.457268Z"
    },
    "collapsed": false,
    "jupyter": {
     "outputs_hidden": false
    }
   },
   "outputs": [],
   "source": [
    "#transactions_df.to_csv(\"transactions_sm.csv\",index=False)"
   ]
  },
  {
   "cell_type": "code",
   "execution_count": 163,
   "id": "f72f5318",
   "metadata": {
    "ExecuteTime": {
     "end_time": "2023-11-28T10:09:24.550101Z",
     "start_time": "2023-11-28T10:09:16.070328Z"
    },
    "collapsed": false,
    "jupyter": {
     "outputs_hidden": false
    }
   },
   "outputs": [],
   "source": [
    "#customers_df.to_csv(\"customers_sm.csv\",index=False)"
   ]
  },
  {
   "cell_type": "code",
   "execution_count": 164,
   "id": "a36ffb94",
   "metadata": {
    "ExecuteTime": {
     "end_time": "2023-11-28T10:09:35.150198Z",
     "start_time": "2023-11-28T10:09:33.231785Z"
    },
    "collapsed": false,
    "jupyter": {
     "outputs_hidden": false
    }
   },
   "outputs": [],
   "source": [
    "#articles_df.to_csv(\"articles_sm.csv\",index=False)"
   ]
  },
  {
   "cell_type": "code",
   "execution_count": 165,
   "id": "f9a095e9",
   "metadata": {
    "ExecuteTime": {
     "end_time": "2023-11-28T10:53:11.209723Z",
     "start_time": "2023-11-28T10:53:08.934920Z"
    },
    "collapsed": false,
    "jupyter": {
     "outputs_hidden": false
    }
   },
   "outputs": [],
   "source": [
    "#val_df.to_csv(\"validation_sm.csv\",index=False)"
   ]
  }
 ],
 "metadata": {
  "kernelspec": {
   "display_name": "conda_pytorch_p36",
   "language": "python",
   "name": "conda_pytorch_p36"
  },
  "language_info": {
   "codemirror_mode": {
    "name": "ipython",
    "version": 3
   },
   "file_extension": ".py",
   "mimetype": "text/x-python",
   "name": "python",
   "nbconvert_exporter": "python",
   "pygments_lexer": "ipython3",
   "version": "3.6.13"
  }
 },
 "nbformat": 4,
 "nbformat_minor": 5
}
